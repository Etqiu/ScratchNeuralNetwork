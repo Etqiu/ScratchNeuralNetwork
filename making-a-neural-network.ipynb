{
 "cells": [
  {
   "cell_type": "markdown",
   "id": "75227e5d",
   "metadata": {
    "papermill": {
     "duration": 0.007951,
     "end_time": "2025-02-09T07:49:33.177959",
     "exception": false,
     "start_time": "2025-02-09T07:49:33.170008",
     "status": "completed"
    },
    "tags": []
   },
   "source": [
    "# Making A Neural Network From Scratch:\n",
    "\n",
    "**Goal**: To implement a neural network using only numPy that has two hidden layers and one output layer with two activation functions. We can then train our neural network on the MNIST data-set, and test it to see our accuracy. "
   ]
  },
  {
   "cell_type": "code",
   "execution_count": 1,
   "id": "ca22cef1",
   "metadata": {
    "_cell_guid": "b1076dfc-b9ad-4769-8c92-a6c4dae69d19",
    "_uuid": "8f2839f25d086af736a60e9eeb907d3b93b6e0e5",
    "execution": {
     "iopub.execute_input": "2025-02-09T07:49:33.191654Z",
     "iopub.status.busy": "2025-02-09T07:49:33.191240Z",
     "iopub.status.idle": "2025-02-09T07:49:35.533405Z",
     "shell.execute_reply": "2025-02-09T07:49:35.532123Z"
    },
    "papermill": {
     "duration": 2.351535,
     "end_time": "2025-02-09T07:49:35.535821",
     "exception": false,
     "start_time": "2025-02-09T07:49:33.184286",
     "status": "completed"
    },
    "tags": []
   },
   "outputs": [
    {
     "name": "stdout",
     "output_type": "stream",
     "text": [
      "/kaggle/input/chinese-mnist-digit-recognizer/chineseMNIST.csv\n",
      "/kaggle/input/mnist-digit-recognizer/train.csv\n"
     ]
    }
   ],
   "source": [
    "# This Python 3 environment comes with many helpful analytics libraries installed\n",
    "# It is defined by the kaggle/python Docker image: https://github.com/kaggle/docker-python\n",
    "# For example, here's several helpful packages to load\n",
    "\n",
    "import numpy as np # linear algebra\n",
    "import pandas as pd # data processing, CSV file I/O (e.g. pd.read_csv)\n",
    "from matplotlib import pyplot as plt\n",
    "from sklearn.model_selection import train_test_split\n",
    "# Input data files are available in the read-only \"../input/\" directory\n",
    "# For example, running this (by clicking run or pressing Shift+Enter) will list all files under the input directory\n",
    "\n",
    "import os\n",
    "for dirname, _, filenames in os.walk('/kaggle/input'):\n",
    "    for filename in filenames:\n",
    "        print(os.path.join(dirname, filename))\n",
    "\n",
    "# You can write up to 20GB to the current directory (/kaggle/working/) that gets preserved as output when you create a version using \"Save & Run All\" \n",
    "# You can also write temporary files to /kaggle/temp/, but they won't be saved outside of the current session"
   ]
  },
  {
   "cell_type": "markdown",
   "id": "1c455e21",
   "metadata": {
    "papermill": {
     "duration": 0.005903,
     "end_time": "2025-02-09T07:49:35.548510",
     "exception": false,
     "start_time": "2025-02-09T07:49:35.542607",
     "status": "completed"
    },
    "tags": []
   },
   "source": [
    "I'm going to first import the mnist digits in csv form, every row represents an image and every column, a pixel, with the first column being the label of the number."
   ]
  },
  {
   "cell_type": "code",
   "execution_count": 2,
   "id": "1e08b5ab",
   "metadata": {
    "execution": {
     "iopub.execute_input": "2025-02-09T07:49:35.562461Z",
     "iopub.status.busy": "2025-02-09T07:49:35.561945Z",
     "iopub.status.idle": "2025-02-09T07:49:38.854067Z",
     "shell.execute_reply": "2025-02-09T07:49:38.852979Z"
    },
    "papermill": {
     "duration": 3.30111,
     "end_time": "2025-02-09T07:49:38.855937",
     "exception": false,
     "start_time": "2025-02-09T07:49:35.554827",
     "status": "completed"
    },
    "tags": []
   },
   "outputs": [
    {
     "data": {
      "text/html": [
       "<div>\n",
       "<style scoped>\n",
       "    .dataframe tbody tr th:only-of-type {\n",
       "        vertical-align: middle;\n",
       "    }\n",
       "\n",
       "    .dataframe tbody tr th {\n",
       "        vertical-align: top;\n",
       "    }\n",
       "\n",
       "    .dataframe thead th {\n",
       "        text-align: right;\n",
       "    }\n",
       "</style>\n",
       "<table border=\"1\" class=\"dataframe\">\n",
       "  <thead>\n",
       "    <tr style=\"text-align: right;\">\n",
       "      <th></th>\n",
       "      <th>label</th>\n",
       "      <th>pixel0</th>\n",
       "      <th>pixel1</th>\n",
       "      <th>pixel2</th>\n",
       "      <th>pixel3</th>\n",
       "      <th>pixel4</th>\n",
       "      <th>pixel5</th>\n",
       "      <th>pixel6</th>\n",
       "      <th>pixel7</th>\n",
       "      <th>pixel8</th>\n",
       "      <th>...</th>\n",
       "      <th>pixel774</th>\n",
       "      <th>pixel775</th>\n",
       "      <th>pixel776</th>\n",
       "      <th>pixel777</th>\n",
       "      <th>pixel778</th>\n",
       "      <th>pixel779</th>\n",
       "      <th>pixel780</th>\n",
       "      <th>pixel781</th>\n",
       "      <th>pixel782</th>\n",
       "      <th>pixel783</th>\n",
       "    </tr>\n",
       "  </thead>\n",
       "  <tbody>\n",
       "    <tr>\n",
       "      <th>0</th>\n",
       "      <td>1</td>\n",
       "      <td>0</td>\n",
       "      <td>0</td>\n",
       "      <td>0</td>\n",
       "      <td>0</td>\n",
       "      <td>0</td>\n",
       "      <td>0</td>\n",
       "      <td>0</td>\n",
       "      <td>0</td>\n",
       "      <td>0</td>\n",
       "      <td>...</td>\n",
       "      <td>0</td>\n",
       "      <td>0</td>\n",
       "      <td>0</td>\n",
       "      <td>0</td>\n",
       "      <td>0</td>\n",
       "      <td>0</td>\n",
       "      <td>0</td>\n",
       "      <td>0</td>\n",
       "      <td>0</td>\n",
       "      <td>0</td>\n",
       "    </tr>\n",
       "    <tr>\n",
       "      <th>1</th>\n",
       "      <td>0</td>\n",
       "      <td>0</td>\n",
       "      <td>0</td>\n",
       "      <td>0</td>\n",
       "      <td>0</td>\n",
       "      <td>0</td>\n",
       "      <td>0</td>\n",
       "      <td>0</td>\n",
       "      <td>0</td>\n",
       "      <td>0</td>\n",
       "      <td>...</td>\n",
       "      <td>0</td>\n",
       "      <td>0</td>\n",
       "      <td>0</td>\n",
       "      <td>0</td>\n",
       "      <td>0</td>\n",
       "      <td>0</td>\n",
       "      <td>0</td>\n",
       "      <td>0</td>\n",
       "      <td>0</td>\n",
       "      <td>0</td>\n",
       "    </tr>\n",
       "    <tr>\n",
       "      <th>2</th>\n",
       "      <td>1</td>\n",
       "      <td>0</td>\n",
       "      <td>0</td>\n",
       "      <td>0</td>\n",
       "      <td>0</td>\n",
       "      <td>0</td>\n",
       "      <td>0</td>\n",
       "      <td>0</td>\n",
       "      <td>0</td>\n",
       "      <td>0</td>\n",
       "      <td>...</td>\n",
       "      <td>0</td>\n",
       "      <td>0</td>\n",
       "      <td>0</td>\n",
       "      <td>0</td>\n",
       "      <td>0</td>\n",
       "      <td>0</td>\n",
       "      <td>0</td>\n",
       "      <td>0</td>\n",
       "      <td>0</td>\n",
       "      <td>0</td>\n",
       "    </tr>\n",
       "    <tr>\n",
       "      <th>3</th>\n",
       "      <td>4</td>\n",
       "      <td>0</td>\n",
       "      <td>0</td>\n",
       "      <td>0</td>\n",
       "      <td>0</td>\n",
       "      <td>0</td>\n",
       "      <td>0</td>\n",
       "      <td>0</td>\n",
       "      <td>0</td>\n",
       "      <td>0</td>\n",
       "      <td>...</td>\n",
       "      <td>0</td>\n",
       "      <td>0</td>\n",
       "      <td>0</td>\n",
       "      <td>0</td>\n",
       "      <td>0</td>\n",
       "      <td>0</td>\n",
       "      <td>0</td>\n",
       "      <td>0</td>\n",
       "      <td>0</td>\n",
       "      <td>0</td>\n",
       "    </tr>\n",
       "    <tr>\n",
       "      <th>4</th>\n",
       "      <td>0</td>\n",
       "      <td>0</td>\n",
       "      <td>0</td>\n",
       "      <td>0</td>\n",
       "      <td>0</td>\n",
       "      <td>0</td>\n",
       "      <td>0</td>\n",
       "      <td>0</td>\n",
       "      <td>0</td>\n",
       "      <td>0</td>\n",
       "      <td>...</td>\n",
       "      <td>0</td>\n",
       "      <td>0</td>\n",
       "      <td>0</td>\n",
       "      <td>0</td>\n",
       "      <td>0</td>\n",
       "      <td>0</td>\n",
       "      <td>0</td>\n",
       "      <td>0</td>\n",
       "      <td>0</td>\n",
       "      <td>0</td>\n",
       "    </tr>\n",
       "  </tbody>\n",
       "</table>\n",
       "<p>5 rows × 785 columns</p>\n",
       "</div>"
      ],
      "text/plain": [
       "   label  pixel0  pixel1  pixel2  pixel3  pixel4  pixel5  pixel6  pixel7  \\\n",
       "0      1       0       0       0       0       0       0       0       0   \n",
       "1      0       0       0       0       0       0       0       0       0   \n",
       "2      1       0       0       0       0       0       0       0       0   \n",
       "3      4       0       0       0       0       0       0       0       0   \n",
       "4      0       0       0       0       0       0       0       0       0   \n",
       "\n",
       "   pixel8  ...  pixel774  pixel775  pixel776  pixel777  pixel778  pixel779  \\\n",
       "0       0  ...         0         0         0         0         0         0   \n",
       "1       0  ...         0         0         0         0         0         0   \n",
       "2       0  ...         0         0         0         0         0         0   \n",
       "3       0  ...         0         0         0         0         0         0   \n",
       "4       0  ...         0         0         0         0         0         0   \n",
       "\n",
       "   pixel780  pixel781  pixel782  pixel783  \n",
       "0         0         0         0         0  \n",
       "1         0         0         0         0  \n",
       "2         0         0         0         0  \n",
       "3         0         0         0         0  \n",
       "4         0         0         0         0  \n",
       "\n",
       "[5 rows x 785 columns]"
      ]
     },
     "execution_count": 2,
     "metadata": {},
     "output_type": "execute_result"
    }
   ],
   "source": [
    "df = pd.read_csv(\"/kaggle/input/mnist-digit-recognizer/train.csv\")\n",
    "df.head()"
   ]
  },
  {
   "cell_type": "code",
   "execution_count": 3,
   "id": "48cd6860",
   "metadata": {
    "execution": {
     "iopub.execute_input": "2025-02-09T07:49:38.870260Z",
     "iopub.status.busy": "2025-02-09T07:49:38.869928Z",
     "iopub.status.idle": "2025-02-09T07:49:38.875338Z",
     "shell.execute_reply": "2025-02-09T07:49:38.874514Z"
    },
    "papermill": {
     "duration": 0.014149,
     "end_time": "2025-02-09T07:49:38.876868",
     "exception": false,
     "start_time": "2025-02-09T07:49:38.862719",
     "status": "completed"
    },
    "tags": []
   },
   "outputs": [
    {
     "data": {
      "text/plain": [
       "(42000, 785)"
      ]
     },
     "execution_count": 3,
     "metadata": {},
     "output_type": "execute_result"
    }
   ],
   "source": [
    "df.shape # rows show how many pictures there are in the csv "
   ]
  },
  {
   "cell_type": "markdown",
   "id": "4a34b3f6",
   "metadata": {
    "papermill": {
     "duration": 0.006172,
     "end_time": "2025-02-09T07:49:38.889701",
     "exception": false,
     "start_time": "2025-02-09T07:49:38.883529",
     "status": "completed"
    },
    "tags": []
   },
   "source": [
    "We are going to convert this DataFrame into a np.array, and use test_train_split() by sklearn. Then we want to take the **tranpose** of each array so that each array is actually an individual picture (which will be one of the 784 nodes)."
   ]
  },
  {
   "cell_type": "code",
   "execution_count": 4,
   "id": "acd28c8b",
   "metadata": {
    "execution": {
     "iopub.execute_input": "2025-02-09T07:49:38.903898Z",
     "iopub.status.busy": "2025-02-09T07:49:38.903510Z",
     "iopub.status.idle": "2025-02-09T07:49:39.467759Z",
     "shell.execute_reply": "2025-02-09T07:49:39.466845Z"
    },
    "papermill": {
     "duration": 0.573197,
     "end_time": "2025-02-09T07:49:39.469342",
     "exception": false,
     "start_time": "2025-02-09T07:49:38.896145",
     "status": "completed"
    },
    "tags": []
   },
   "outputs": [
    {
     "data": {
      "text/plain": [
       "(784,)"
      ]
     },
     "metadata": {},
     "output_type": "display_data"
    },
    {
     "data": {
      "text/plain": [
       "16800"
      ]
     },
     "metadata": {},
     "output_type": "display_data"
    },
    {
     "data": {
      "text/plain": [
       "array([[0, 0, 0, ..., 0, 0, 0],\n",
       "       [0, 0, 0, ..., 0, 0, 0],\n",
       "       [0, 0, 0, ..., 0, 0, 0],\n",
       "       ...,\n",
       "       [0, 0, 0, ..., 0, 0, 0],\n",
       "       [0, 0, 0, ..., 0, 0, 0],\n",
       "       [0, 0, 0, ..., 0, 0, 0]])"
      ]
     },
     "metadata": {},
     "output_type": "display_data"
    },
    {
     "data": {
      "text/plain": [
       "array([[0, 0, 7, ..., 6, 7, 3]])"
      ]
     },
     "metadata": {},
     "output_type": "display_data"
    },
    {
     "data": {
      "text/plain": [
       "array([[6, 5, 5, ..., 2, 1, 3]])"
      ]
     },
     "metadata": {},
     "output_type": "display_data"
    }
   ],
   "source": [
    "x_train, x_test, y_train, y_test = train_test_split(np.array(df.iloc[:, 1:]), np.array(df[['label']]), test_size = .4)\n",
    "x_train, x_test, y_train, y_test = x_train.T, x_test.T, y_train.T, y_test.T \n",
    "pixels = df.shape[1] - 1\n",
    "display(x_train[:, 0].shape, len(x_test[0]), x_train, y_train, y_test) # check configs\n",
    "# n_xtrain (rows of pixels) = 784, m_xtrain (columns of items) = train/split"
   ]
  },
  {
   "cell_type": "markdown",
   "id": "701d1b07",
   "metadata": {
    "papermill": {
     "duration": 0.007222,
     "end_time": "2025-02-09T07:49:39.483978",
     "exception": false,
     "start_time": "2025-02-09T07:49:39.476756",
     "status": "completed"
    },
    "tags": []
   },
   "source": [
    "Above, we see that y_train is actually an array inside an array, we will fix that below:"
   ]
  },
  {
   "cell_type": "code",
   "execution_count": 5,
   "id": "2a28fe57",
   "metadata": {
    "execution": {
     "iopub.execute_input": "2025-02-09T07:49:39.499616Z",
     "iopub.status.busy": "2025-02-09T07:49:39.499223Z",
     "iopub.status.idle": "2025-02-09T07:49:39.505354Z",
     "shell.execute_reply": "2025-02-09T07:49:39.504458Z"
    },
    "papermill": {
     "duration": 0.01574,
     "end_time": "2025-02-09T07:49:39.506851",
     "exception": false,
     "start_time": "2025-02-09T07:49:39.491111",
     "status": "completed"
    },
    "tags": []
   },
   "outputs": [
    {
     "data": {
      "text/plain": [
       "(array([0, 0, 7, ..., 6, 7, 3]), array([6, 5, 5, ..., 2, 1, 3]))"
      ]
     },
     "execution_count": 5,
     "metadata": {},
     "output_type": "execute_result"
    }
   ],
   "source": [
    "y_train, y_test = y_train[0], y_test[0]\n",
    "y_train, y_test"
   ]
  },
  {
   "cell_type": "markdown",
   "id": "eb1c0535",
   "metadata": {
    "papermill": {
     "duration": 0.007433,
     "end_time": "2025-02-09T07:49:39.521568",
     "exception": false,
     "start_time": "2025-02-09T07:49:39.514135",
     "status": "completed"
    },
    "tags": []
   },
   "source": [
    "We also want the RGB values to be scaled from 0-1 so I will divide all training and test X values (the pixels) by 255. Without it some \"gradient explosion\" will happen. "
   ]
  },
  {
   "cell_type": "code",
   "execution_count": 6,
   "id": "11c8ac84",
   "metadata": {
    "execution": {
     "iopub.execute_input": "2025-02-09T07:49:39.537284Z",
     "iopub.status.busy": "2025-02-09T07:49:39.536954Z",
     "iopub.status.idle": "2025-02-09T07:49:39.667074Z",
     "shell.execute_reply": "2025-02-09T07:49:39.665968Z"
    },
    "papermill": {
     "duration": 0.140271,
     "end_time": "2025-02-09T07:49:39.669182",
     "exception": false,
     "start_time": "2025-02-09T07:49:39.528911",
     "status": "completed"
    },
    "tags": []
   },
   "outputs": [
    {
     "data": {
      "text/plain": [
       "(array([[0., 0., 0., ..., 0., 0., 0.],\n",
       "        [0., 0., 0., ..., 0., 0., 0.],\n",
       "        [0., 0., 0., ..., 0., 0., 0.],\n",
       "        ...,\n",
       "        [0., 0., 0., ..., 0., 0., 0.],\n",
       "        [0., 0., 0., ..., 0., 0., 0.],\n",
       "        [0., 0., 0., ..., 0., 0., 0.]]),\n",
       " (784, 16800))"
      ]
     },
     "execution_count": 6,
     "metadata": {},
     "output_type": "execute_result"
    }
   ],
   "source": [
    "x_train, x_test = x_train / 255, x_test / 255\n",
    "x_train, x_test.shape"
   ]
  },
  {
   "cell_type": "markdown",
   "id": "011ab8b1",
   "metadata": {
    "papermill": {
     "duration": 0.007098,
     "end_time": "2025-02-09T07:49:39.684324",
     "exception": false,
     "start_time": "2025-02-09T07:49:39.677226",
     "status": "completed"
    },
    "tags": []
   },
   "source": [
    "**Note**: Basically we want to make the train set an nxm matrix so we can left multiply it by a weight matrix to move from Rm -> R10 (10 is an arbitrary number for the first layer but makes computation easier). This will help to compute a linear combination with the weights and nodes "
   ]
  },
  {
   "cell_type": "markdown",
   "id": "59c0fde6",
   "metadata": {
    "papermill": {
     "duration": 0.007238,
     "end_time": "2025-02-09T07:49:39.698750",
     "exception": false,
     "start_time": "2025-02-09T07:49:39.691512",
     "status": "completed"
    },
    "tags": []
   },
   "source": [
    "# Initialization and Propagation: \n",
    "1. creating a random array of weights, W1, W2\n",
    "2. creating a random array of biases, b1, b2\n",
    "3. arrays for each layer:\n",
    "    * input layer\n",
    "    * first reLU layer (a function applied to each node)\n",
    "    * second output layer (which will also have a softmax to find a probability distribution of numbers)\n",
    "4. Make forward and backwards propagation. \n",
    "\n",
    "We are also going to start with random weights and biases. Below is a diagram in LaTeX explaining the matrix multiplcation **for a single picture**, where matrix $B$ is our input layer tranposed multiplied by our $A$ matrix, and the biases being added as matrix $C$. The result will be a $10 * m$ matrix, where $m$ is the number of training pictures.\n",
    "\n"
   ]
  },
  {
   "cell_type": "markdown",
   "id": "2973c9c3",
   "metadata": {
    "papermill": {
     "duration": 0.006962,
     "end_time": "2025-02-09T07:49:39.712987",
     "exception": false,
     "start_time": "2025-02-09T07:49:39.706025",
     "status": "completed"
    },
    "tags": []
   },
   "source": [
    "\n",
    "\n",
    "$$\\begin{bmatrix}\n",
    "a_{11} & a_{12} & \\cdots & a_{1,784} \\\\\n",
    "a_{21} & a_{22} & \\cdots & a_{2,784} \\\\\n",
    "\\vdots & \\vdots & \\ddots & \\vdots \\\\\n",
    "a_{10,1} & a_{10,2} & \\cdots & a_{10,784}\n",
    "\\end{bmatrix}\n",
    "\\times\n",
    "\\begin{bmatrix}\n",
    "b_{11} & b_{12} & \\cdots & b_{1m} \\\\\n",
    "b_{21} & b_{22} & \\cdots & b_{2m} \\\\\n",
    "\\vdots & \\vdots & \\ddots & \\vdots \\\\\n",
    "b_{784,1} & b_{784,2} & \\cdots & b_{784,m}\n",
    "\\end{bmatrix}\n",
    "+\n",
    "\\begin{bmatrix}\n",
    "c_{11} & c_{12} & \\cdots & c_{1m} \\\\\n",
    "c_{21} & c_{22} & \\cdots & c_{2m} \\\\\n",
    "\\vdots & \\vdots & \\ddots & \\vdots \\\\\n",
    "c_{10,1} & c_{10,2} & \\cdots & c_{10,m}\n",
    "\\end{bmatrix}\n",
    "$$\n"
   ]
  },
  {
   "cell_type": "markdown",
   "id": "2315526d",
   "metadata": {
    "papermill": {
     "duration": 0.007034,
     "end_time": "2025-02-09T07:49:39.727223",
     "exception": false,
     "start_time": "2025-02-09T07:49:39.720189",
     "status": "completed"
    },
    "tags": []
   },
   "source": [
    "Here are the softmax function and ReLU function definitions:\n",
    "\n",
    "$\n",
    "\\text{softmax}(z_i) = \\frac{e^{z_i}}{\\sum_{j=1}^n e^{z_j}}\n",
    "$\n",
    "\n",
    "where $z_i$ is the i-th element of the input vector z. The softmax function will apply this to each $z_i$.\n",
    "\n",
    "The softmax function is applied independently to each column of $z$. For a single column (logits for one image), softmax computes that equation.\n",
    "\n",
    "$\n",
    "\\text{ReLU}(x) = \\max(0, x)\n",
    "$\n"
   ]
  },
  {
   "cell_type": "code",
   "execution_count": 7,
   "id": "bdc35853",
   "metadata": {
    "execution": {
     "iopub.execute_input": "2025-02-09T07:49:39.743203Z",
     "iopub.status.busy": "2025-02-09T07:49:39.742866Z",
     "iopub.status.idle": "2025-02-09T07:49:39.749360Z",
     "shell.execute_reply": "2025-02-09T07:49:39.748506Z"
    },
    "papermill": {
     "duration": 0.016456,
     "end_time": "2025-02-09T07:49:39.751047",
     "exception": false,
     "start_time": "2025-02-09T07:49:39.734591",
     "status": "completed"
    },
    "tags": []
   },
   "outputs": [],
   "source": [
    "def init_parameters(): \n",
    "    # populate a 10 x 784 matrix with random numbers, W1 is weight for first layer\n",
    "    W1 = np.random.rand(10, pixels) -0.5\n",
    "    # continue with biases, which should be a 10x1 vector, which we will broadcast\n",
    "    # 10x1 -> 10xm so we can add the dot product + b\n",
    "    b1 = np.random.rand(10, 1) - 0.5\n",
    "    # second layer weights and biases\n",
    "    W2 = np.random.rand(10, 10) - 0.5\n",
    "    b2 = np.random.rand(10, 1) - 0.5\n",
    "    # we ensure that the weights are centered around 0, instead of 0.5\n",
    "    # we want some negative weights as well so that is why\n",
    "    return W1, b1, W2, b2\n",
    "    \n",
    "def ReLU(Z): # return the same sized matrix, applied reLU\n",
    "    return np.maximum(0,Z)\n",
    "    \n",
    "def SoftMax(Z): # input: 10 x m matrix\n",
    "    # for numerical stability, we can add something to catch nan-values\n",
    "    A = np.exp(Z) / sum(np.exp(Z))\n",
    "    return A\n",
    "\n",
    "    # 1. np.exp(Z) applied to every element in Z \n",
    "    # 2. np.sum(np.exp(Z)) sums all the values of Z from exp, scalar\n",
    "    # 3. All elements are normalized, result = 10 x m, for each training result\n",
    "def forward_propagation(W1, b1, W2, b2, X): # X is the initial input matrix\n",
    "    # Z1 will be the resulting matrix from matrix multiplication\n",
    "    Z1 = W1.dot(X) + b1 \n",
    "    # apply reLU to change from linear combination -> non-linear function\n",
    "    A1 = ReLU(Z1)\n",
    "    Z2 = W2.dot(A1) + b2 # 10 x m\n",
    "    A2 = SoftMax(Z2) # predictions\n",
    "    # return values to update in backpropgation\n",
    "    return Z1, A1, Z2, A2"
   ]
  },
  {
   "cell_type": "markdown",
   "id": "5378e9af",
   "metadata": {
    "papermill": {
     "duration": 0.006967,
     "end_time": "2025-02-09T07:49:39.765624",
     "exception": false,
     "start_time": "2025-02-09T07:49:39.758657",
     "status": "completed"
    },
    "tags": []
   },
   "source": [
    "## Back Propagation and Updating Weights\n",
    "We will now be writing the backpropagation part: \n",
    "1. We need to write one hot, defined as Y (which is the vector equivalent of what the \"actual\" value is). This will help determine the cost \n",
    "2. Calculate how much each layer contributes to the cost function via partial derivatives:\n",
    "   * dZ is the error of each of the columns (not the cost). This is written as the partial derivative of the cost with respect to the activation (second layer being soft-max and first layer being ReLU).\n",
    "   *  dW is the change in cost with respect to the weights. \n",
    "   *  dB is the change in cost with respect to the biases.<br>\n",
    " For a softmax classifier, we'll use a cross-entropy loss function, which will basically come out to dZ if you take the derivative with respect to activation:\n",
    "\n",
    "$$J(\\hat{y}, y) = -\\sum_{i=0}^{c} y_i \\log(\\hat{y}_i)$$\n",
    "\n",
    "For the entire math behind what dz is, here is a forum: https://community.deeplearning.ai/t/calculating-gradient-of-softmax-function/1897\n",
    "\n",
    "Here are the equations if the neural network was linked by one node at a time. z in this case is the the result of the linear combination of the weights + bias not related to \"activation\" ([3B1B's explanation](https://www.youtube.com/watch?v=Ilg3gGewQ5U&list=PLZHQObOWTQDNU6R1_67000Dx_ZCJB-3pi&index=3))\n",
    ":\n",
    "\n",
    "$\\frac{\\partial C_0}{\\partial w^{(L)}} = \\frac{\\partial z^{(L)}}{\\partial w^{(L)}} \\frac{\\partial a^{(L)}}{\\partial z^{(L)}} \\frac{\\partial C_0}{\\partial a^{(L)}}$\n",
    "\n",
    "$z^{(L)} = w^{(L)} a^{(L-1)} + b^{(L)}$ <br>\n",
    "$a^{(L)} = \\sigma(z^{(L)})$ <br>\n",
    "$C^{(0)} = a^{(L)} - y$\n",
    "\n",
    "Notice how the new layer is based off activation result of the previous layer, this can be also translated into matricies in code you will see below.  \n",
    "\n",
    "By terrible convention, these names dZ, dB, and dW are equal to the following in 3b1b language: \n",
    "\n",
    "$dZ = \\frac{\\partial C_0}{\\partial a^{(L)}}$,\n",
    "$dB = \\frac{\\partial C_0}{\\partial b^{(L)}}$,\n",
    "$dW = \\frac{\\partial C_0}{\\partial w^{(L)}}$,\n",
    "\n",
    "\n",
    "3. Using these equations, we can compute a gradient, which for each layer is a vector that tells us the mangitutde of the effect (cost) of each partial derivative (fancy wording for what we just had above).\n",
    "   \n",
    "4. We will then adjust our weights by subtracting each layer's weights by their specific dW, each layer's biases by their dB. We cannot specifically change the previous layer's (L-1) activation, but used it in helping compute each dW and dB. Here's what it will look like:\n",
    "\n",
    "    $w^{(1)} = w^{(1)} - a * dw^{(1)}$<br>\n",
    "    $b^{(1)} = b^{(1)} - a * db^{(1)}$<br>\n",
    "   $w^{(2)} = w^{(2)} - a * dw^{(2)}$<br>\n",
    "    $b^{(2)} = w^{(2)} - a * db^{(2)}$<br>\n",
    "\n",
    "This is how gradient descent will work, as dw and db will converge to 0 through **minimizing the cost** with respect to all its partial derivitives. Alpha is the learning rate (a)\n",
    "\n",
    "\n",
    "\n",
    "* After all these initialization steps, we will be able to run our own neural network by repitition. "
   ]
  },
  {
   "cell_type": "code",
   "execution_count": 8,
   "id": "fd0187cc",
   "metadata": {
    "execution": {
     "iopub.execute_input": "2025-02-09T07:49:39.781817Z",
     "iopub.status.busy": "2025-02-09T07:49:39.781384Z",
     "iopub.status.idle": "2025-02-09T07:49:39.789281Z",
     "shell.execute_reply": "2025-02-09T07:49:39.788364Z"
    },
    "papermill": {
     "duration": 0.018257,
     "end_time": "2025-02-09T07:49:39.790983",
     "exception": false,
     "start_time": "2025-02-09T07:49:39.772726",
     "status": "completed"
    },
    "tags": []
   },
   "outputs": [],
   "source": [
    "def one_hot(Y): # input: the example labels, output: all the one hot Y's\n",
    "    one_hot_Y = np.zeros((Y.size, Y.max() + 1)) \n",
    "    # (#examples, 0-9 *10), we will take transpose later\n",
    "    \n",
    "    one_hot_Y[np.arange(Y.size), Y] = 1\n",
    "    # basically you can put arrays inside index selection in 2d arrays, which is super neat\n",
    "    # this looks like one_hot_Y[(0 - 784 pixels), (4,5,1,2,4... to m images)]\n",
    "    return one_hot_Y.T\n",
    "    \n",
    "def derivative_ReLU(Z): \n",
    "    return Z > 0 # boolean matrix works since True = 1\n",
    "    \n",
    "def back_propagation(Z1, A1, Z2, A2, W2, X, Y): # figuring out partial derivatives\n",
    "    # Z1, Z2 = result of a linear combination of weights + biases\n",
    "    # A1, A2, = result of activation being called on Z1, Z2\n",
    "    # X = training input, Y = ouput results\n",
    "    # reminder that Z1 - A2 are all 10 x m matricies and will broadcast Y.\n",
    "    m, _ = df.shape # number examples\n",
    "    \n",
    "    dZ2 = A2 - one_hot(Y) \n",
    "    # dZ2 = partial d of the change in cost in terms of soft-max activation\n",
    "    # Note this equation is based off of the error because it is the last layer\n",
    "  \n",
    "    dW2 = 1/m * dZ2.dot(A1.T)\n",
    "    # partial d of the second layer costs to weights\n",
    "    # 1/m is applied to every value and is not part of the p derivative\n",
    "    # transpose ensures that matrix multiplication exists\n",
    "   \n",
    "    dB2 = 1/m * np.sum(dZ2, axis = 1, keepdims = True)\n",
    "    # collapses all rows into 10 x m -> 10 x 1, \n",
    "    # partial d of the second layer costs to biases \n",
    "    # also has 1/m applied since this matrix is applied to all training examples\n",
    "    \n",
    "    dZ1 = W2.T.dot(dZ2) * derivative_ReLU(Z1)\n",
    "    # the W2.T activation transpose serves to \"go backwards\" in a sense\n",
    "    # mathmatical proof will for all calculations will be linked below.\n",
    "\n",
    "    dW1 = 1/m * dZ1.dot(X.T)\n",
    "    dB1 = 1/m * np.sum(dZ1, axis = 1, keepdims = True)\n",
    "    # these are actually the same formula as before due to the chain rule !\n",
    "    return dW1, dB1, dW2, dB2 \n",
    "\n",
    "def adjust_parameters(W1, b1, W2, b2, dW1, db1, dW2, db2, alpha): \n",
    "    W1 = W1 - alpha * dW1\n",
    "    b1 = b1 - alpha * db1    \n",
    "    W2 = W2 - alpha * dW2  \n",
    "    b2 = b2 - alpha * db2   \n",
    "    return W1, b1, W2, b2"
   ]
  },
  {
   "cell_type": "markdown",
   "id": "a52d0da7",
   "metadata": {
    "papermill": {
     "duration": 0.007043,
     "end_time": "2025-02-09T07:49:39.805546",
     "exception": false,
     "start_time": "2025-02-09T07:49:39.798503",
     "status": "completed"
    },
    "tags": []
   },
   "source": [
    "# Training / Testing the Neural Network\n",
    "We will now be implmeneting the training functionality of the network and test for its accuracy. With gradient descent, the idea is to forward -> backward propagate -> adjust parameters (weights and biases) and then do it again with those new weights and biases. "
   ]
  },
  {
   "cell_type": "code",
   "execution_count": 9,
   "id": "6ebf9ebc",
   "metadata": {
    "execution": {
     "iopub.execute_input": "2025-02-09T07:49:39.822021Z",
     "iopub.status.busy": "2025-02-09T07:49:39.821671Z",
     "iopub.status.idle": "2025-02-09T07:50:03.835812Z",
     "shell.execute_reply": "2025-02-09T07:50:03.834795Z"
    },
    "papermill": {
     "duration": 24.02426,
     "end_time": "2025-02-09T07:50:03.837360",
     "exception": false,
     "start_time": "2025-02-09T07:49:39.813100",
     "status": "completed"
    },
    "tags": []
   },
   "outputs": [
    {
     "name": "stdout",
     "output_type": "stream",
     "text": [
      "[9 9 9 ... 9 9 1] [0 0 7 ... 6 7 3]\n",
      "Iteration 1 : 0.13456349206349205\n",
      "[0 9 7 ... 5 9 1] [0 0 7 ... 6 7 3]\n",
      "Iteration 20 : 0.26976190476190476\n",
      "[0 0 7 ... 5 9 1] [0 0 7 ... 6 7 3]\n",
      "Iteration 40 : 0.3840873015873016\n",
      "[0 3 7 ... 8 9 8] [0 0 7 ... 6 7 3]\n",
      "Iteration 60 : 0.490952380952381\n",
      "[0 3 7 ... 8 9 2] [0 0 7 ... 6 7 3]\n",
      "Iteration 80 : 0.5757539682539683\n",
      "[0 3 7 ... 5 9 2] [0 0 7 ... 6 7 3]\n",
      "Iteration 100 : 0.6336904761904761\n",
      "[0 3 7 ... 5 9 2] [0 0 7 ... 6 7 3]\n",
      "Iteration 120 : 0.6753571428571429\n",
      "[0 0 7 ... 5 9 2] [0 0 7 ... 6 7 3]\n",
      "Iteration 140 : 0.7032936507936508\n",
      "[0 0 7 ... 5 9 2] [0 0 7 ... 6 7 3]\n",
      "Iteration 160 : 0.7276587301587302\n",
      "[0 0 7 ... 5 9 2] [0 0 7 ... 6 7 3]\n",
      "Iteration 180 : 0.7442460317460318\n",
      "[0 0 7 ... 5 9 2] [0 0 7 ... 6 7 3]\n",
      "Iteration 200 : 0.7594047619047619\n",
      "[0 0 7 ... 5 9 2] [0 0 7 ... 6 7 3]\n",
      "Iteration 220 : 0.7701190476190476\n",
      "[0 0 7 ... 5 9 2] [0 0 7 ... 6 7 3]\n",
      "Iteration 240 : 0.7803174603174603\n",
      "[0 0 7 ... 5 9 2] [0 0 7 ... 6 7 3]\n",
      "Iteration 260 : 0.7884920634920635\n",
      "[0 0 7 ... 5 9 2] [0 0 7 ... 6 7 3]\n",
      "Iteration 280 : 0.7967857142857143\n",
      "[0 0 7 ... 5 9 2] [0 0 7 ... 6 7 3]\n",
      "Iteration 300 : 0.8030555555555555\n",
      "[0 0 7 ... 5 9 2] [0 0 7 ... 6 7 3]\n",
      "Iteration 320 : 0.8089285714285714\n",
      "[0 0 7 ... 5 9 2] [0 0 7 ... 6 7 3]\n",
      "Iteration 340 : 0.8146428571428571\n",
      "[0 0 7 ... 5 9 2] [0 0 7 ... 6 7 3]\n",
      "Iteration 360 : 0.8191269841269841\n",
      "[0 0 7 ... 5 9 2] [0 0 7 ... 6 7 3]\n",
      "Iteration 380 : 0.8242460317460317\n",
      "[0 0 7 ... 5 9 2] [0 0 7 ... 6 7 3]\n",
      "Iteration 400 : 0.8288095238095238\n",
      "[0 0 7 ... 5 9 2] [0 0 7 ... 6 7 3]\n",
      "Iteration 420 : 0.8318650793650794\n",
      "[0 0 7 ... 5 9 2] [0 0 7 ... 6 7 3]\n",
      "Iteration 440 : 0.834920634920635\n",
      "[0 0 7 ... 5 9 2] [0 0 7 ... 6 7 3]\n",
      "Iteration 460 : 0.837936507936508\n",
      "[0 0 7 ... 6 9 2] [0 0 7 ... 6 7 3]\n",
      "Iteration 480 : 0.8400396825396825\n",
      "[0 0 7 ... 6 9 2] [0 0 7 ... 6 7 3]\n",
      "Iteration 500 : 0.8430952380952381\n"
     ]
    },
    {
     "data": {
      "image/png": "[encoded data removed]",
      "text/plain": [
       "<Figure size 640x480 with 1 Axes>"
      ]
     },
     "metadata": {},
     "output_type": "display_data"
    }
   ],
   "source": [
    "def get_predictions(A2):\n",
    "    return np.argmax(A2, axis = 0) \n",
    "    # argmax for a 10 x m matrix (A2, result of SoftMax)\n",
    "    # this converts our Softmax probability distribution into predictions\n",
    "    # using axis 0, we look at the maximum of each column and return the **INDEX**, which is 0 based.\n",
    "   \n",
    "def accuracy(predictions, Y):\n",
    "    print(predictions, Y)\n",
    "    return np.sum(predictions == Y) / Y.size\n",
    "    # thank you Data 8 for encoding this formula into my head\n",
    "\n",
    "def train_gradient_descent(X, Y, alpha, iterations):\n",
    "    W1, b1, W2, b2 = init_parameters()\n",
    "    accuracy_arr = []\n",
    "    #print(\"init: \", W1, b1, W2, b2)\n",
    "    for i in range(1, iterations+1): \n",
    "        Z1, A1, Z2, A2 = forward_propagation(W1, b1, W2, b2, X)\n",
    "        #print(\"forward: \", Z1, A1, Z2, A2) *testing\n",
    "        #print(A2.shape)\n",
    "        dW1, db1, dW2, db2  = back_propagation(Z1, A1, Z2, A2, W2, X, Y)\n",
    "        #print(\"back: \", dW1, db1, dW2, db2)\n",
    "        W1, b1, W2, b2 = adjust_parameters(W1, b1, W2, b2, dW1, db1, dW2, db2, alpha)\n",
    "        #print(\"adj: \", W1, b1, W2, b2)\n",
    "        \n",
    "        if i % 20 == 0 or i == 1: \n",
    "            predictions = get_predictions(A2)\n",
    "            acc = accuracy(predictions, Y)\n",
    "            print(f\"Iteration {i} : {acc}\")\n",
    "            accuracy_arr.append(acc)\n",
    "            \n",
    "    # plot accuracy over iterations \n",
    "    plt.plot(np.arange(0,iterations + 1, 20), np.array(accuracy_arr) * 100)\n",
    "    plt.xlabel(\"Number of Iterations\")\n",
    "    plt.ylabel(\"Accuracy\")\n",
    "    plt.title(\"Accuracy Over Number of Backpropagations\")\n",
    "    return W1, b1, W2, b2,\n",
    "\n",
    "W1, b1, W2, b2 = train_gradient_descent(x_train, y_train, 0.15, 500)\n"
   ]
  },
  {
   "cell_type": "markdown",
   "id": "20182842",
   "metadata": {
    "papermill": {
     "duration": 0.008896,
     "end_time": "2025-02-09T07:50:03.855693",
     "exception": false,
     "start_time": "2025-02-09T07:50:03.846797",
     "status": "completed"
    },
    "tags": []
   },
   "source": [
    "Accuracy of ~80-81% for 500 iterations at a learning rate of 15%"
   ]
  },
  {
   "cell_type": "markdown",
   "id": "1f895f00",
   "metadata": {
    "papermill": {
     "duration": 0.008944,
     "end_time": "2025-02-09T07:50:03.873984",
     "exception": false,
     "start_time": "2025-02-09T07:50:03.865040",
     "status": "completed"
    },
    "tags": []
   },
   "source": [
    "# Results with Testing: \n",
    "Now I will write a method to get the single prediction for any image, so that we can see some results by plotting. "
   ]
  },
  {
   "cell_type": "code",
   "execution_count": 10,
   "id": "9cab1fa6",
   "metadata": {
    "execution": {
     "iopub.execute_input": "2025-02-09T07:50:03.894173Z",
     "iopub.status.busy": "2025-02-09T07:50:03.893833Z",
     "iopub.status.idle": "2025-02-09T07:50:03.915672Z",
     "shell.execute_reply": "2025-02-09T07:50:03.914612Z"
    },
    "papermill": {
     "duration": 0.033992,
     "end_time": "2025-02-09T07:50:03.917357",
     "exception": false,
     "start_time": "2025-02-09T07:50:03.883365",
     "status": "completed"
    },
    "tags": []
   },
   "outputs": [
    {
     "data": {
      "text/plain": [
       "6"
      ]
     },
     "execution_count": 10,
     "metadata": {},
     "output_type": "execute_result"
    }
   ],
   "source": [
    "def get_single_prediction(W1, b1, W2, b2, X, index): \n",
    "    _, _, _, A2 = forward_propagation(W1, b1, W2, b2, X)\n",
    "    predictions = get_predictions(A2)\n",
    "    # print(predictions)\n",
    "    return predictions[index]  \n",
    "p = get_single_prediction(W1, b1, W2, b2, x_test, 0) # this should return 5 as the predicted value    \n",
    "p"
   ]
  },
  {
   "cell_type": "markdown",
   "id": "523ff459",
   "metadata": {
    "papermill": {
     "duration": 0.008953,
     "end_time": "2025-02-09T07:50:03.936176",
     "exception": false,
     "start_time": "2025-02-09T07:50:03.927223",
     "status": "completed"
    },
    "tags": []
   },
   "source": [
    "I'm gonna now going to convert our x_test, y_test (pixels and labels) into numpy arrays, then display some examples using matplotlib. "
   ]
  },
  {
   "cell_type": "code",
   "execution_count": 11,
   "id": "0d8e8073",
   "metadata": {
    "execution": {
     "iopub.execute_input": "2025-02-09T07:50:03.956094Z",
     "iopub.status.busy": "2025-02-09T07:50:03.955704Z",
     "iopub.status.idle": "2025-02-09T07:50:04.144298Z",
     "shell.execute_reply": "2025-02-09T07:50:04.143401Z"
    },
    "papermill": {
     "duration": 0.200169,
     "end_time": "2025-02-09T07:50:04.145769",
     "exception": false,
     "start_time": "2025-02-09T07:50:03.945600",
     "status": "completed"
    },
    "tags": []
   },
   "outputs": [
    {
     "name": "stdout",
     "output_type": "stream",
     "text": [
      "Predicted: 6, Actual: 6\n"
     ]
    },
    {
     "data": {
      "image/png": "[encoded data removed]",
      "text/plain": [
       "<Figure size 640x480 with 1 Axes>"
      ]
     },
     "metadata": {},
     "output_type": "display_data"
    }
   ],
   "source": [
    "image_size = 28 # 28 x 28\n",
    "number_row = 0\n",
    "# the testing section is about 40% of the remaining data shuffled \n",
    "# forgot we actually transposed it before, so undo that by tranposing again\n",
    "def plot(image_size, number_row, x_test, y_test, p):\n",
    "    pixel_array = x_test.T[number_row] # pixel column as 1d array for the row chosen\n",
    "    pixel_matrix = pixel_array.reshape(image_size, image_size) #reshape into 28 x 28 matrix\n",
    "    print(f\"Predicted: {p}, Actual: {y_test[number_row]}\") # muah f strings \n",
    "    plt.imshow(pixel_matrix) # this is an image of the actual value \n",
    "\n",
    "plot(image_size, number_row, x_test, y_test, p)"
   ]
  },
  {
   "cell_type": "markdown",
   "id": "7ab8fd84",
   "metadata": {
    "papermill": {
     "duration": 0.009414,
     "end_time": "2025-02-09T07:50:04.165073",
     "exception": false,
     "start_time": "2025-02-09T07:50:04.155659",
     "status": "completed"
    },
    "tags": []
   },
   "source": [
    "Lets do a few more to see what the first 5 predictions look like "
   ]
  },
  {
   "cell_type": "code",
   "execution_count": 12,
   "id": "359ab8b9",
   "metadata": {
    "execution": {
     "iopub.execute_input": "2025-02-09T07:50:04.185350Z",
     "iopub.status.busy": "2025-02-09T07:50:04.185022Z",
     "iopub.status.idle": "2025-02-09T07:50:04.389077Z",
     "shell.execute_reply": "2025-02-09T07:50:04.387946Z"
    },
    "papermill": {
     "duration": 0.216058,
     "end_time": "2025-02-09T07:50:04.390873",
     "exception": false,
     "start_time": "2025-02-09T07:50:04.174815",
     "status": "completed"
    },
    "tags": []
   },
   "outputs": [
    {
     "name": "stdout",
     "output_type": "stream",
     "text": [
      "Predicted: 6, Actual: 5\n"
     ]
    },
    {
     "data": {
      "image/png": "[encoded data removed]",
      "text/plain": [
       "<Figure size 640x480 with 1 Axes>"
      ]
     },
     "metadata": {},
     "output_type": "display_data"
    }
   ],
   "source": [
    "p = get_single_prediction(W1, b1, W2, b2, x_test, 1)\n",
    "plot(image_size, 1, x_test, y_test, p)"
   ]
  },
  {
   "cell_type": "code",
   "execution_count": 13,
   "id": "50d3ad60",
   "metadata": {
    "execution": {
     "iopub.execute_input": "2025-02-09T07:50:04.413066Z",
     "iopub.status.busy": "2025-02-09T07:50:04.412719Z",
     "iopub.status.idle": "2025-02-09T07:50:04.611729Z",
     "shell.execute_reply": "2025-02-09T07:50:04.610631Z"
    },
    "papermill": {
     "duration": 0.21202,
     "end_time": "2025-02-09T07:50:04.613163",
     "exception": false,
     "start_time": "2025-02-09T07:50:04.401143",
     "status": "completed"
    },
    "tags": []
   },
   "outputs": [
    {
     "name": "stdout",
     "output_type": "stream",
     "text": [
      "Predicted: 3, Actual: 5\n"
     ]
    },
    {
     "data": {
      "image/png": "[encoded data removed]",
      "text/plain": [
       "<Figure size 640x480 with 1 Axes>"
      ]
     },
     "metadata": {},
     "output_type": "display_data"
    }
   ],
   "source": [
    "p = get_single_prediction(W1, b1, W2, b2, x_test, 2)\n",
    "plot(image_size, 2, x_test, y_test, p)"
   ]
  },
  {
   "cell_type": "code",
   "execution_count": 14,
   "id": "07970bc5",
   "metadata": {
    "_kg_hide-input": true,
    "execution": {
     "iopub.execute_input": "2025-02-09T07:50:04.635199Z",
     "iopub.status.busy": "2025-02-09T07:50:04.634840Z",
     "iopub.status.idle": "2025-02-09T07:50:04.830394Z",
     "shell.execute_reply": "2025-02-09T07:50:04.829364Z"
    },
    "papermill": {
     "duration": 0.208535,
     "end_time": "2025-02-09T07:50:04.832214",
     "exception": false,
     "start_time": "2025-02-09T07:50:04.623679",
     "status": "completed"
    },
    "tags": []
   },
   "outputs": [
    {
     "name": "stdout",
     "output_type": "stream",
     "text": [
      "Predicted: 3, Actual: 3\n"
     ]
    },
    {
     "data": {
      "image/png": "[encoded data removed]",
      "text/plain": [
       "<Figure size 640x480 with 1 Axes>"
      ]
     },
     "metadata": {},
     "output_type": "display_data"
    }
   ],
   "source": [
    "p = get_single_prediction(W1, b1, W2, b2, x_test, 3)\n",
    "plot(image_size, 3, x_test, y_test, p)"
   ]
  },
  {
   "cell_type": "code",
   "execution_count": 15,
   "id": "c0c9a8b7",
   "metadata": {
    "execution": {
     "iopub.execute_input": "2025-02-09T07:50:04.855055Z",
     "iopub.status.busy": "2025-02-09T07:50:04.854690Z",
     "iopub.status.idle": "2025-02-09T07:50:05.044740Z",
     "shell.execute_reply": "2025-02-09T07:50:05.043651Z"
    },
    "papermill": {
     "duration": 0.20312,
     "end_time": "2025-02-09T07:50:05.046248",
     "exception": false,
     "start_time": "2025-02-09T07:50:04.843128",
     "status": "completed"
    },
    "tags": []
   },
   "outputs": [
    {
     "name": "stdout",
     "output_type": "stream",
     "text": [
      "Predicted: 2, Actual: 2\n"
     ]
    },
    {
     "data": {
      "image/png": "[encoded data removed]",
      "text/plain": [
       "<Figure size 640x480 with 1 Axes>"
      ]
     },
     "metadata": {},
     "output_type": "display_data"
    }
   ],
   "source": [
    "p = get_single_prediction(W1, b1, W2, b2, x_test, 4)\n",
    "plot(image_size, 4, x_test, y_test, p)"
   ]
  },
  {
   "cell_type": "code",
   "execution_count": 16,
   "id": "09fa8571",
   "metadata": {
    "_kg_hide-input": true,
    "execution": {
     "iopub.execute_input": "2025-02-09T07:50:05.069252Z",
     "iopub.status.busy": "2025-02-09T07:50:05.068911Z",
     "iopub.status.idle": "2025-02-09T07:50:05.263689Z",
     "shell.execute_reply": "2025-02-09T07:50:05.262665Z"
    },
    "papermill": {
     "duration": 0.208242,
     "end_time": "2025-02-09T07:50:05.265438",
     "exception": false,
     "start_time": "2025-02-09T07:50:05.057196",
     "status": "completed"
    },
    "tags": []
   },
   "outputs": [
    {
     "name": "stdout",
     "output_type": "stream",
     "text": [
      "Predicted: 4, Actual: 4\n"
     ]
    },
    {
     "data": {
      "image/png": "[encoded data removed]",
      "text/plain": [
       "<Figure size 640x480 with 1 Axes>"
      ]
     },
     "metadata": {},
     "output_type": "display_data"
    }
   ],
   "source": [
    "p = get_single_prediction(W1, b1, W2, b2, x_test, 5)\n",
    "plot(image_size, 5, x_test, y_test, p)"
   ]
  },
  {
   "cell_type": "markdown",
   "id": "2040ccf3",
   "metadata": {
    "papermill": {
     "duration": 0.011042,
     "end_time": "2025-02-09T07:50:05.287816",
     "exception": false,
     "start_time": "2025-02-09T07:50:05.276774",
     "status": "completed"
    },
    "tags": []
   },
   "source": [
    "# Conclusion and Acknowledgements: \n",
    "\n",
    "Trying our model on the entire testing data:\n",
    "\n"
   ]
  },
  {
   "cell_type": "code",
   "execution_count": 17,
   "id": "6836890f",
   "metadata": {
    "execution": {
     "iopub.execute_input": "2025-02-09T07:50:05.311484Z",
     "iopub.status.busy": "2025-02-09T07:50:05.311124Z",
     "iopub.status.idle": "2025-02-09T07:50:05.341430Z",
     "shell.execute_reply": "2025-02-09T07:50:05.340398Z"
    },
    "papermill": {
     "duration": 0.04386,
     "end_time": "2025-02-09T07:50:05.343038",
     "exception": false,
     "start_time": "2025-02-09T07:50:05.299178",
     "status": "completed"
    },
    "tags": []
   },
   "outputs": [
    {
     "name": "stdout",
     "output_type": "stream",
     "text": [
      "[6 6 3 ... 2 1 3] [6 5 5 ... 2 1 3]\n"
     ]
    },
    {
     "data": {
      "text/plain": [
       "0.8397619047619047"
      ]
     },
     "execution_count": 17,
     "metadata": {},
     "output_type": "execute_result"
    }
   ],
   "source": [
    "_,_,_, A2 = forward_propagation(W1, b1, W2, b2, x_test)\n",
    "predictions = get_predictions(A2)\n",
    "accuracy(predictions, y_test)"
   ]
  },
  {
   "cell_type": "markdown",
   "id": "d3edb2a9",
   "metadata": {
    "papermill": {
     "duration": 0.011048,
     "end_time": "2025-02-09T07:50:05.365798",
     "exception": false,
     "start_time": "2025-02-09T07:50:05.354750",
     "status": "completed"
    },
    "tags": []
   },
   "source": [
    "84% accuracy, so the model works pretty well with unseen data."
   ]
  },
  {
   "cell_type": "markdown",
   "id": "0342ebb7",
   "metadata": {
    "papermill": {
     "duration": 0.011153,
     "end_time": "2025-02-09T07:50:05.388154",
     "exception": false,
     "start_time": "2025-02-09T07:50:05.377001",
     "status": "completed"
    },
    "tags": []
   },
   "source": [
    "For the derivations of the partial derivatives with respect to the matricies here are some of the videos I watched:\n",
    "1. [Samson Zhang](https://www.youtube.com/watch?v=w8yWXqWQYmU)\n",
    "2. [Derivation of dz, db and dz](https://youtu.be/f-nW8cSa_Ec?si=3zQW1QK-63bRiUC7)\n",
    "3. [derivation of the derivative of the softmax function](https://youtu.be/URJ9pP1aURo)\n",
    "4. [3b1b's neural network playlist for singular nodes](https://www.youtube.com/watch?v=tIeHLnjs5U8&list=PLZHQObOWTQDNU6R1_67000Dx_ZCJB-3pi&index=4)"
   ]
  }
 ],
 "metadata": {
  "kaggle": {
   "accelerator": "none",
   "dataSources": [
    {
     "datasetId": 3147,
     "sourceId": 5196,
     "sourceType": "datasetVersion"
    },
    {
     "datasetId": 1396483,
     "sourceId": 2314159,
     "sourceType": "datasetVersion"
    }
   ],
   "dockerImageVersionId": 30839,
   "isGpuEnabled": false,
   "isInternetEnabled": false,
   "language": "python",
   "sourceType": "notebook"
  },
  "kernelspec": {
   "display_name": "Python 3",
   "language": "python",
   "name": "python3"
  },
  "language_info": {
   "codemirror_mode": {
    "name": "ipython",
    "version": 3
   },
   "file_extension": ".py",
   "mimetype": "text/x-python",
   "name": "python",
   "nbconvert_exporter": "python",
   "pygments_lexer": "ipython3",
   "version": "3.10.12"
  },
  "papermill": {
   "default_parameters": {},
   "duration": 35.769029,
   "end_time": "2025-02-09T07:50:06.120791",
   "environment_variables": {},
   "exception": null,
   "input_path": "__notebook__.ipynb",
   "output_path": "__notebook__.ipynb",
   "parameters": {},
   "start_time": "2025-02-09T07:49:30.351762",
   "version": "2.6.0"
  }
 },
 "nbformat": 4,
 "nbformat_minor": 5
}
