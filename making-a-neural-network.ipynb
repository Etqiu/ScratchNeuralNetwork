{
 "cells": [
  {
   "cell_type": "markdown",
   "id": "64c0f78a",
   "metadata": {
    "papermill": {
     "duration": 0.008484,
     "end_time": "2025-02-08T06:49:52.918045",
     "exception": false,
     "start_time": "2025-02-08T06:49:52.909561",
     "status": "completed"
    },
    "tags": []
   },
   "source": [
    "# Making A Neural Network From Scratch:\n",
    "\n",
    "**Goal**: To implement a neural network using only numPy that has a one hidden layer and one output layer. We can then train our neural network on the MNIST data-set, and test it to see our accuracy. "
   ]
  },
  {
   "cell_type": "code",
   "execution_count": 1,
   "id": "ec871730",
   "metadata": {
    "_cell_guid": "b1076dfc-b9ad-4769-8c92-a6c4dae69d19",
    "_uuid": "8f2839f25d086af736a60e9eeb907d3b93b6e0e5",
    "execution": {
     "iopub.execute_input": "2025-02-08T06:49:52.934840Z",
     "iopub.status.busy": "2025-02-08T06:49:52.934405Z",
     "iopub.status.idle": "2025-02-08T06:49:55.434823Z",
     "shell.execute_reply": "2025-02-08T06:49:55.433590Z"
    },
    "papermill": {
     "duration": 2.510631,
     "end_time": "2025-02-08T06:49:55.436495",
     "exception": false,
     "start_time": "2025-02-08T06:49:52.925864",
     "status": "completed"
    },
    "tags": []
   },
   "outputs": [
    {
     "name": "stdout",
     "output_type": "stream",
     "text": [
      "/kaggle/input/chinese-mnist-digit-recognizer/chineseMNIST.csv\n",
      "/kaggle/input/mnist-digit-recognizer/train.csv\n"
     ]
    }
   ],
   "source": [
    "# This Python 3 environment comes with many helpful analytics libraries installed\n",
    "# It is defined by the kaggle/python Docker image: https://github.com/kaggle/docker-python\n",
    "# For example, here's several helpful packages to load\n",
    "\n",
    "import numpy as np # linear algebra\n",
    "import pandas as pd # data processing, CSV file I/O (e.g. pd.read_csv)\n",
    "from matplotlib import pyplot as plt\n",
    "from sklearn.model_selection import train_test_split\n",
    "# Input data files are available in the read-only \"../input/\" directory\n",
    "# For example, running this (by clicking run or pressing Shift+Enter) will list all files under the input directory\n",
    "\n",
    "import os\n",
    "for dirname, _, filenames in os.walk('/kaggle/input'):\n",
    "    for filename in filenames:\n",
    "        print(os.path.join(dirname, filename))\n",
    "\n",
    "# You can write up to 20GB to the current directory (/kaggle/working/) that gets preserved as output when you create a version using \"Save & Run All\" \n",
    "# You can also write temporary files to /kaggle/temp/, but they won't be saved outside of the current session"
   ]
  },
  {
   "cell_type": "markdown",
   "id": "8f3675f8",
   "metadata": {
    "papermill": {
     "duration": 0.007974,
     "end_time": "2025-02-08T06:49:55.452737",
     "exception": false,
     "start_time": "2025-02-08T06:49:55.444763",
     "status": "completed"
    },
    "tags": []
   },
   "source": [
    "I'm going to first import the mnist digits in csv form, every row represents an image and every column, a pixel, with the first column being the label of the number."
   ]
  },
  {
   "cell_type": "code",
   "execution_count": 2,
   "id": "80ca2499",
   "metadata": {
    "execution": {
     "iopub.execute_input": "2025-02-08T06:49:55.470138Z",
     "iopub.status.busy": "2025-02-08T06:49:55.469650Z",
     "iopub.status.idle": "2025-02-08T06:49:58.971749Z",
     "shell.execute_reply": "2025-02-08T06:49:58.970718Z"
    },
    "papermill": {
     "duration": 3.512596,
     "end_time": "2025-02-08T06:49:58.973415",
     "exception": false,
     "start_time": "2025-02-08T06:49:55.460819",
     "status": "completed"
    },
    "tags": []
   },
   "outputs": [
    {
     "data": {
      "text/html": [
       "<div>\n",
       "<style scoped>\n",
       "    .dataframe tbody tr th:only-of-type {\n",
       "        vertical-align: middle;\n",
       "    }\n",
       "\n",
       "    .dataframe tbody tr th {\n",
       "        vertical-align: top;\n",
       "    }\n",
       "\n",
       "    .dataframe thead th {\n",
       "        text-align: right;\n",
       "    }\n",
       "</style>\n",
       "<table border=\"1\" class=\"dataframe\">\n",
       "  <thead>\n",
       "    <tr style=\"text-align: right;\">\n",
       "      <th></th>\n",
       "      <th>label</th>\n",
       "      <th>pixel0</th>\n",
       "      <th>pixel1</th>\n",
       "      <th>pixel2</th>\n",
       "      <th>pixel3</th>\n",
       "      <th>pixel4</th>\n",
       "      <th>pixel5</th>\n",
       "      <th>pixel6</th>\n",
       "      <th>pixel7</th>\n",
       "      <th>pixel8</th>\n",
       "      <th>...</th>\n",
       "      <th>pixel774</th>\n",
       "      <th>pixel775</th>\n",
       "      <th>pixel776</th>\n",
       "      <th>pixel777</th>\n",
       "      <th>pixel778</th>\n",
       "      <th>pixel779</th>\n",
       "      <th>pixel780</th>\n",
       "      <th>pixel781</th>\n",
       "      <th>pixel782</th>\n",
       "      <th>pixel783</th>\n",
       "    </tr>\n",
       "  </thead>\n",
       "  <tbody>\n",
       "    <tr>\n",
       "      <th>0</th>\n",
       "      <td>1</td>\n",
       "      <td>0</td>\n",
       "      <td>0</td>\n",
       "      <td>0</td>\n",
       "      <td>0</td>\n",
       "      <td>0</td>\n",
       "      <td>0</td>\n",
       "      <td>0</td>\n",
       "      <td>0</td>\n",
       "      <td>0</td>\n",
       "      <td>...</td>\n",
       "      <td>0</td>\n",
       "      <td>0</td>\n",
       "      <td>0</td>\n",
       "      <td>0</td>\n",
       "      <td>0</td>\n",
       "      <td>0</td>\n",
       "      <td>0</td>\n",
       "      <td>0</td>\n",
       "      <td>0</td>\n",
       "      <td>0</td>\n",
       "    </tr>\n",
       "    <tr>\n",
       "      <th>1</th>\n",
       "      <td>0</td>\n",
       "      <td>0</td>\n",
       "      <td>0</td>\n",
       "      <td>0</td>\n",
       "      <td>0</td>\n",
       "      <td>0</td>\n",
       "      <td>0</td>\n",
       "      <td>0</td>\n",
       "      <td>0</td>\n",
       "      <td>0</td>\n",
       "      <td>...</td>\n",
       "      <td>0</td>\n",
       "      <td>0</td>\n",
       "      <td>0</td>\n",
       "      <td>0</td>\n",
       "      <td>0</td>\n",
       "      <td>0</td>\n",
       "      <td>0</td>\n",
       "      <td>0</td>\n",
       "      <td>0</td>\n",
       "      <td>0</td>\n",
       "    </tr>\n",
       "    <tr>\n",
       "      <th>2</th>\n",
       "      <td>1</td>\n",
       "      <td>0</td>\n",
       "      <td>0</td>\n",
       "      <td>0</td>\n",
       "      <td>0</td>\n",
       "      <td>0</td>\n",
       "      <td>0</td>\n",
       "      <td>0</td>\n",
       "      <td>0</td>\n",
       "      <td>0</td>\n",
       "      <td>...</td>\n",
       "      <td>0</td>\n",
       "      <td>0</td>\n",
       "      <td>0</td>\n",
       "      <td>0</td>\n",
       "      <td>0</td>\n",
       "      <td>0</td>\n",
       "      <td>0</td>\n",
       "      <td>0</td>\n",
       "      <td>0</td>\n",
       "      <td>0</td>\n",
       "    </tr>\n",
       "    <tr>\n",
       "      <th>3</th>\n",
       "      <td>4</td>\n",
       "      <td>0</td>\n",
       "      <td>0</td>\n",
       "      <td>0</td>\n",
       "      <td>0</td>\n",
       "      <td>0</td>\n",
       "      <td>0</td>\n",
       "      <td>0</td>\n",
       "      <td>0</td>\n",
       "      <td>0</td>\n",
       "      <td>...</td>\n",
       "      <td>0</td>\n",
       "      <td>0</td>\n",
       "      <td>0</td>\n",
       "      <td>0</td>\n",
       "      <td>0</td>\n",
       "      <td>0</td>\n",
       "      <td>0</td>\n",
       "      <td>0</td>\n",
       "      <td>0</td>\n",
       "      <td>0</td>\n",
       "    </tr>\n",
       "    <tr>\n",
       "      <th>4</th>\n",
       "      <td>0</td>\n",
       "      <td>0</td>\n",
       "      <td>0</td>\n",
       "      <td>0</td>\n",
       "      <td>0</td>\n",
       "      <td>0</td>\n",
       "      <td>0</td>\n",
       "      <td>0</td>\n",
       "      <td>0</td>\n",
       "      <td>0</td>\n",
       "      <td>...</td>\n",
       "      <td>0</td>\n",
       "      <td>0</td>\n",
       "      <td>0</td>\n",
       "      <td>0</td>\n",
       "      <td>0</td>\n",
       "      <td>0</td>\n",
       "      <td>0</td>\n",
       "      <td>0</td>\n",
       "      <td>0</td>\n",
       "      <td>0</td>\n",
       "    </tr>\n",
       "  </tbody>\n",
       "</table>\n",
       "<p>5 rows × 785 columns</p>\n",
       "</div>"
      ],
      "text/plain": [
       "   label  pixel0  pixel1  pixel2  pixel3  pixel4  pixel5  pixel6  pixel7  \\\n",
       "0      1       0       0       0       0       0       0       0       0   \n",
       "1      0       0       0       0       0       0       0       0       0   \n",
       "2      1       0       0       0       0       0       0       0       0   \n",
       "3      4       0       0       0       0       0       0       0       0   \n",
       "4      0       0       0       0       0       0       0       0       0   \n",
       "\n",
       "   pixel8  ...  pixel774  pixel775  pixel776  pixel777  pixel778  pixel779  \\\n",
       "0       0  ...         0         0         0         0         0         0   \n",
       "1       0  ...         0         0         0         0         0         0   \n",
       "2       0  ...         0         0         0         0         0         0   \n",
       "3       0  ...         0         0         0         0         0         0   \n",
       "4       0  ...         0         0         0         0         0         0   \n",
       "\n",
       "   pixel780  pixel781  pixel782  pixel783  \n",
       "0         0         0         0         0  \n",
       "1         0         0         0         0  \n",
       "2         0         0         0         0  \n",
       "3         0         0         0         0  \n",
       "4         0         0         0         0  \n",
       "\n",
       "[5 rows x 785 columns]"
      ]
     },
     "execution_count": 2,
     "metadata": {},
     "output_type": "execute_result"
    }
   ],
   "source": [
    "df = pd.read_csv(\"/kaggle/input/mnist-digit-recognizer/train.csv\")\n",
    "df.head()"
   ]
  },
  {
   "cell_type": "code",
   "execution_count": 3,
   "id": "b4e9e129",
   "metadata": {
    "execution": {
     "iopub.execute_input": "2025-02-08T06:49:58.991429Z",
     "iopub.status.busy": "2025-02-08T06:49:58.991035Z",
     "iopub.status.idle": "2025-02-08T06:49:58.997175Z",
     "shell.execute_reply": "2025-02-08T06:49:58.995740Z"
    },
    "papermill": {
     "duration": 0.017169,
     "end_time": "2025-02-08T06:49:58.999101",
     "exception": false,
     "start_time": "2025-02-08T06:49:58.981932",
     "status": "completed"
    },
    "tags": []
   },
   "outputs": [
    {
     "data": {
      "text/plain": [
       "(42000, 785)"
      ]
     },
     "execution_count": 3,
     "metadata": {},
     "output_type": "execute_result"
    }
   ],
   "source": [
    "df.shape # rows show how many pictures there are in the csv "
   ]
  },
  {
   "cell_type": "markdown",
   "id": "934446eb",
   "metadata": {
    "papermill": {
     "duration": 0.008007,
     "end_time": "2025-02-08T06:49:59.015631",
     "exception": false,
     "start_time": "2025-02-08T06:49:59.007624",
     "status": "completed"
    },
    "tags": []
   },
   "source": [
    "We are going to convert this DataFrame into a np.array, and use test_train_split() by sklearn. Then we want to take the **tranpose** of each array so that each array is actually an individual picture (which will be one of the 784 nodes)."
   ]
  },
  {
   "cell_type": "code",
   "execution_count": 4,
   "id": "d5b8466f",
   "metadata": {
    "execution": {
     "iopub.execute_input": "2025-02-08T06:49:59.033676Z",
     "iopub.status.busy": "2025-02-08T06:49:59.033291Z",
     "iopub.status.idle": "2025-02-08T06:49:59.617118Z",
     "shell.execute_reply": "2025-02-08T06:49:59.616001Z"
    },
    "papermill": {
     "duration": 0.594765,
     "end_time": "2025-02-08T06:49:59.618832",
     "exception": false,
     "start_time": "2025-02-08T06:49:59.024067",
     "status": "completed"
    },
    "tags": []
   },
   "outputs": [
    {
     "data": {
      "text/plain": [
       "(784,)"
      ]
     },
     "metadata": {},
     "output_type": "display_data"
    },
    {
     "data": {
      "text/plain": [
       "16800"
      ]
     },
     "metadata": {},
     "output_type": "display_data"
    },
    {
     "data": {
      "text/plain": [
       "array([[0, 0, 9, ..., 6, 1, 8]])"
      ]
     },
     "metadata": {},
     "output_type": "display_data"
    },
    {
     "data": {
      "text/plain": [
       "array([[0, 3, 2, ..., 1, 3, 3]])"
      ]
     },
     "metadata": {},
     "output_type": "display_data"
    }
   ],
   "source": [
    "x_train, x_test, y_train, y_test = train_test_split(np.array(df.iloc[:, 1:]), np.array(df[['label']]), test_size = .4)\n",
    "x_train, x_test, y_train, y_test = x_train.T, x_test.T, y_train.T, y_test.T \n",
    "pixels = df.shape[1] - 1\n",
    "display(x_train[:, 0].shape, len(x_test[0]), y_train, y_test) # check configs\n",
    "# n_xtrain (rows of pixels) = 784, m_xtrain (columns of items) = train/split"
   ]
  },
  {
   "cell_type": "markdown",
   "id": "5321ed30",
   "metadata": {
    "papermill": {
     "duration": 0.009169,
     "end_time": "2025-02-08T06:49:59.637004",
     "exception": false,
     "start_time": "2025-02-08T06:49:59.627835",
     "status": "completed"
    },
    "tags": []
   },
   "source": [
    "**Note**: Basically we want to make the train set an nxm matrix so we can left multiply it by a weight matrix to move from Rm -> R10 (10 is an arbitrary number for the first layer but makes computation easier). This will help to compute a linear combination with the weights and nodes "
   ]
  },
  {
   "cell_type": "markdown",
   "id": "45dd31d0",
   "metadata": {
    "papermill": {
     "duration": 0.009586,
     "end_time": "2025-02-08T06:49:59.655447",
     "exception": false,
     "start_time": "2025-02-08T06:49:59.645861",
     "status": "completed"
    },
    "tags": []
   },
   "source": [
    "# Initialization and Propagation: \n",
    "1. weights\n",
    "2. biases \n",
    "3. arrays for each layer:\n",
    "    * input layer\n",
    "    * first reLU layer (a function applied to each node)\n",
    "    * second output layer (which will also have a softmax to find a probability distribution of numbers)\n",
    "4. Make forward and backwards propagation. \n",
    "\n",
    "We are also going to start with random weights and biases. Below is a diagram in LaTeX explaining the matrix multiplcation, where matrix $B$ is our input layer tranposed multiplied by our $A$ matrix, and the biases being added as matrix $C$. The result will be a $10 * m$ matrix, where $m$ is the number of training pictures.\n",
    "\n"
   ]
  },
  {
   "cell_type": "markdown",
   "id": "8894f5e1",
   "metadata": {
    "papermill": {
     "duration": 0.008554,
     "end_time": "2025-02-08T06:49:59.673874",
     "exception": false,
     "start_time": "2025-02-08T06:49:59.665320",
     "status": "completed"
    },
    "tags": []
   },
   "source": [
    "\n",
    "\n",
    "$$\\begin{bmatrix}\n",
    "a_{11} & a_{12} & \\cdots & a_{1,784} \\\\\n",
    "a_{21} & a_{22} & \\cdots & a_{2,784} \\\\\n",
    "\\vdots & \\vdots & \\ddots & \\vdots \\\\\n",
    "a_{10,1} & a_{10,2} & \\cdots & a_{10,784}\n",
    "\\end{bmatrix}\n",
    "\\times\n",
    "\\begin{bmatrix}\n",
    "b_{11} & b_{12} & \\cdots & b_{1m} \\\\\n",
    "b_{21} & b_{22} & \\cdots & b_{2m} \\\\\n",
    "\\vdots & \\vdots & \\ddots & \\vdots \\\\\n",
    "b_{784,1} & b_{784,2} & \\cdots & b_{784,m}\n",
    "\\end{bmatrix}\n",
    "+\n",
    "\\begin{bmatrix}\n",
    "c_{11} & c_{12} & \\cdots & c_{1m} \\\\\n",
    "c_{21} & c_{22} & \\cdots & c_{2m} \\\\\n",
    "\\vdots & \\vdots & \\ddots & \\vdots \\\\\n",
    "c_{10,1} & c_{10,2} & \\cdots & c_{10,m}\n",
    "\\end{bmatrix}\n",
    "$$\n"
   ]
  },
  {
   "cell_type": "markdown",
   "id": "8c65ca8a",
   "metadata": {
    "papermill": {
     "duration": 0.008754,
     "end_time": "2025-02-08T06:49:59.691345",
     "exception": false,
     "start_time": "2025-02-08T06:49:59.682591",
     "status": "completed"
    },
    "tags": []
   },
   "source": [
    "Here are the softmax function and ReLU function definitions:\n",
    "\n",
    "$\n",
    "\\text{softmax}(z_i) = \\frac{e^{z_i}}{\\sum_{j=1}^n e^{z_j}}\n",
    "$\n",
    "\n",
    "where $z_i$ is the i-th element of the input vector z. The softmax function will apply this to each $z_i$.\n",
    "\n",
    "The softmax function is applied independently to each column of $z$. For a single column (logits for one image), softmax computes that equation.\n",
    "\n",
    "$\n",
    "\\text{ReLU}(x) = \\max(0, x)\n",
    "$\n"
   ]
  },
  {
   "cell_type": "code",
   "execution_count": 5,
   "id": "e6ca575a",
   "metadata": {
    "execution": {
     "iopub.execute_input": "2025-02-08T06:49:59.710427Z",
     "iopub.status.busy": "2025-02-08T06:49:59.710099Z",
     "iopub.status.idle": "2025-02-08T06:49:59.717349Z",
     "shell.execute_reply": "2025-02-08T06:49:59.716141Z"
    },
    "papermill": {
     "duration": 0.018862,
     "end_time": "2025-02-08T06:49:59.719253",
     "exception": false,
     "start_time": "2025-02-08T06:49:59.700391",
     "status": "completed"
    },
    "tags": []
   },
   "outputs": [],
   "source": [
    "def init_params(): \n",
    "    # populate a 10 x 784 matrix with random numbers, W1 is weight for first layer\n",
    "    W1 = np.random.rand(10, pixels) \n",
    "    # continue with biases, which should be a 10x1 vector, which we will broadcast\n",
    "    # 10x1 -> 10xm so we can add the dot product + b\n",
    "    b1 = np.random.rand(10, 1) \n",
    "    # second layer weights and biases\n",
    "    W2 = np.random.rand(10, 10) \n",
    "    b2 = np.random.rand(10, 1)\n",
    "    return W1, b1, W2, b2\n",
    "def reLU(Z): # return the same sized matrix, applied reLU\n",
    "    for row in Z: \n",
    "        for i in range(row): \n",
    "            if row[i] < 0: \n",
    "                row[i] = 0;\n",
    "    return Z\n",
    "    # better solution use np.maximum(0, Z)\n",
    "def softMax(Z): # input: 10 x m matrix\n",
    "    return np.exp(Z) / np.sum(np.exp(Z)) \n",
    "\n",
    "    # 1. np.exp(Z) applied to every element in Z \n",
    "    # 2. np.sum(np.exp(Z)) sums all the values of Z from exp, scalar\n",
    "    # 3. All elements are normalized, result = 10 x m, for each training result\n",
    "def forward_propagation(W1, b1, W2, b2, X): # X is the initial input matrix\n",
    "    # Z1 will be the resulting matrix from matrix multiplication\n",
    "    Z1 = W1.dot(X) + b1 \n",
    "    # apply reLU to change from linear combination -> non-linear function\n",
    "    A1 = ReLu(Z1)\n",
    "    Z2 = W2.dot(A1) + b2 # 10 x m\n",
    "    A2 = SoftMax(Z2) # predictions\n",
    "    # return values to update in backpropgation\n",
    "    return Z1, A1, Z2, A2"
   ]
  },
  {
   "cell_type": "markdown",
   "id": "43e797ea",
   "metadata": {
    "papermill": {
     "duration": 0.00873,
     "end_time": "2025-02-08T06:49:59.737426",
     "exception": false,
     "start_time": "2025-02-08T06:49:59.728696",
     "status": "completed"
    },
    "tags": []
   },
   "source": [
    "## Back Propagation and Updating Weights\n",
    "We will now be writing the backpropagation part: https://www.youtube.com/watch?v=Ilg3gGewQ5U&list=PLZHQObOWTQDNU6R1_67000Dx_ZCJB-3pi&index=3\n",
    "\n",
    "1. We need to write one hot (which is the vector equivalent of what the \"actual\" value is)\n",
    "2. write down these equations, which are partial derivatives. z is the error (or called cost) of each of the columns (not to be confused with the previous z), dw is the change in weights with respect to the cost da is the change in activation (which is actually just activation(dz, the change in weighted sum) and db is the change in bias. Here are the equations for singular nodes: \n",
    "\n",
    "$\\frac{\\partial C_0}{\\partial w^{(L)}} = \\frac{\\partial z^{(L)}}{\\partial w^{(L)}} \\frac{\\partial a^{(L)}}{\\partial z^{(L)}} \\frac{\\partial C_0}{\\partial a^{(L)}}$\n",
    "\n",
    "$z^{(L)} = w^{(L)} a^{(L-1)} + b^{(L)}$ <br>\n",
    "$a^{(L)} = \\sigma(z^{(L)})$ <br>\n",
    "$C^{(0)} = a^{(L)} - y$\n",
    "\n",
    "\n",
    "3. Using these equations, we can compute a gradient, which for each layer is a vector that tells us the mangitutde of the effect (cost) of each partial derivative. "
   ]
  },
  {
   "cell_type": "code",
   "execution_count": 6,
   "id": "ad23d91b",
   "metadata": {
    "execution": {
     "iopub.execute_input": "2025-02-08T06:49:59.756311Z",
     "iopub.status.busy": "2025-02-08T06:49:59.755938Z",
     "iopub.status.idle": "2025-02-08T06:49:59.761921Z",
     "shell.execute_reply": "2025-02-08T06:49:59.760809Z"
    },
    "papermill": {
     "duration": 0.01773,
     "end_time": "2025-02-08T06:49:59.763933",
     "exception": false,
     "start_time": "2025-02-08T06:49:59.746203",
     "status": "completed"
    },
    "tags": []
   },
   "outputs": [],
   "source": [
    "def one_hot(Y): # input: the example labels, output: all the one hot Y's\n",
    "    one_hot_Y = np.zeros((Y.size, Y.max() + 1)) # (#examples, 0-9 *10), we will take transpose later\n",
    "    for row in one_hot_Y: \n",
    "        for label in y_train: \n",
    "           one_hot_Y[row, label] = 1 # labels are 0 based\n",
    "    # even better one_hot is one_hot_Y[np.arrange(Y.size), Y] = 1 muah\n",
    "    return one_hot_Y.T\n",
    "def back_propagation(Z1, A1, Z2, A2, W2, Y): \n",
    "    m = Y.size # number examples\n",
    "    \n",
    "    dC2 = A2 - one_hot(Y) # dZ2 = predicted - actual, this is the cost\n",
    "    # above is a 10 x m cost matrix per example\n",
    "    \n",
    "    dB2 = 1/m * np.sum(dC2, 2) \n",
    "    dW2 = 1/m * dC2.dot(A1.T) # partial d of the second costs to weights\n",
    "    dC1 = W2.T.dot(dC2) * deriative_ReLU\n",
    "# the A2.T activation transpose serves to \"go backwards\" in a sense"
   ]
  },
  {
   "cell_type": "markdown",
   "id": "f3445efe",
   "metadata": {
    "papermill": {
     "duration": 0.009502,
     "end_time": "2025-02-08T06:49:59.782417",
     "exception": false,
     "start_time": "2025-02-08T06:49:59.772915",
     "status": "completed"
    },
    "tags": []
   },
   "source": [
    "Now, we'll go the opposite way and calculate how to nudge our parameters to carry out gradient descent.\n",
    "\n",
    "Mathematically, what we're actually computing is the derivative of the loss function with respect to each weight and bias parameter. For a softmax classifier, we'll use a cross-entropy loss function:\n",
    "\n",
    "$$J(\\hat{y}, y) = -\\sum_{i=0}^{c} y_i \\log(\\hat{y}_i)$$\n",
    "\n",
    "Here, $$\\hat{y}$$ is our prediction vector. It might look like this:\n",
    "\n",
    "$$\\begin{bmatrix} 0.01 \\ 0.02 \\ 0.05 \\ 0.02 \\ 0.80 \\ 0.01 \\ 0.01 \\ 0.00 \\ 0.01 \\ 0.07 \\ \\end{bmatrix}$$\n",
    "\n",
    "$$y$$ is the one-hot encoding of the correct label for the training example. If the label for a training example is 4* , for example, the one-hot encoding of $$y$$ would look like this:\n",
    "\n",
    "$$\\begin{bmatrix} 0 \\ 0 \\ 0 \\ 0 \\ 1 \\ 0 \\ 0 \\ 0 \\ 0 \\ 0 \\ \\end{bmatrix}$$\n",
    "\n",
    "Notice that in our sum $$\\sum_{i=0}^{c} y_i \\log(\\hat{y}_i)$$, $$y_i = 0$$ for all $$i$$ except the correct label. The loss for a given example, then, is just the log of the probability given for the correct prediction. In our example above, $$J(\\hat{y}, y) = -\\log(y_4) = -\\log(0.80) \\approx 0.097$$. Notice that, the closer the prediction probability is to 1, the closer the loss is to 0. As the probability approaches 0, the loss approaches $$+\\infty$$. By minimizing the cost function, we improve the accuracy of our model. We do so by substracting the derivative of the loss function with respect to each parameter from that parameter over many rounds of graident descent:\n",
    "\n",
    "$$W^{[1]} := W^{[1]} - \\alpha \\frac{\\delta J}{\\delta W^{[1]}} \\ b^{[1]} := b^{[1]} - \\alpha \\frac{\\delta J}{\\delta b^{[1]}} \\ W^{[2]} := W^{[2]} - \\alpha \\frac{\\delta J}{\\delta W^{[2]}} \\ b^{[2]} := b^{[2]} - \\alpha \\frac{\\delta J}{\\delta b^{[2]}} \\ $$\n",
    "\n",
    "Our objective in backprop is to find $$\\frac{\\delta J}{\\delta W^{[1]}},\\frac{\\delta J}{\\delta b^{[1]}},\\frac{\\delta J}{\\delta W^{[2]}},$$ and $$\\frac{\\delta J}{\\delta b^{[2]}}$$. For concision, we'll write these values as $$dW^{[1]}, db^{[1]}, dW^{[2]},$$and $$db^{[2]}$$. We'll find these values by stepping backwards through our network, starting by calculating $$\\frac{\\delta J}{\\delta A^{[2]}}$$, or $$dA^{[2]}$$. Turns out that this derivative is simply:\n",
    "\n",
    "$$dA^{[2]} = Y - A^{[2]}$$\n",
    "\n",
    "If you know calculus, you can take the derivative of the loss function and confirm this for yourself. (Hint: $$\\hat{y} = A^{[2]}$$)\n",
    "\n",
    "From $$dA^{[2]}$$, we can calculate $$dW^{[2]}$$ and $$db^{[1]}$$:\n",
    "\n",
    "$$dW^{[2]} = \\frac{1}{m} dZ^{[2]} A^{[1]T} \\ dB^{[2]} = \\frac{1}{m} \\Sigma {dZ^{[2]}}$$\n",
    "\n",
    "Then, to calculate $$dW^{[1]}$$ and $$db^{[1]}$$, we'll first find $$dZ^{[1]}$$:\n",
    "\n",
    "$$dZ^{[1]} = W^{[2]T} dZ^{[2]} .* g^{[1]\\prime} (Z^{[1]})$$\n",
    "\n",
    "I won't explain all the details of the math, but you can get some intuitive hints at what's going on here by just looking at the variables. We're applying $$W^{[2]T}$$ to $$dZ^{[2]}$$, akin to applying the weights between layers 1 and 2 in reverse. Then, we perform an element-wise multiplication with the derivative of the activation function, akin to \"undoing\" it to get the correct error values.\n",
    "\n",
    "Since our activation function is ReLU, our derivative is actually pretty simple. Let's revisit our graph:"
   ]
  },
  {
   "cell_type": "code",
   "execution_count": null,
   "id": "c856eda2",
   "metadata": {
    "papermill": {
     "duration": 0.009125,
     "end_time": "2025-02-08T06:49:59.801234",
     "exception": false,
     "start_time": "2025-02-08T06:49:59.792109",
     "status": "completed"
    },
    "tags": []
   },
   "outputs": [],
   "source": []
  },
  {
   "cell_type": "code",
   "execution_count": null,
   "id": "508a01b8",
   "metadata": {
    "papermill": {
     "duration": 0.008525,
     "end_time": "2025-02-08T06:49:59.818834",
     "exception": false,
     "start_time": "2025-02-08T06:49:59.810309",
     "status": "completed"
    },
    "tags": []
   },
   "outputs": [],
   "source": []
  },
  {
   "cell_type": "code",
   "execution_count": null,
   "id": "988a9158",
   "metadata": {
    "papermill": {
     "duration": 0.008436,
     "end_time": "2025-02-08T06:49:59.836167",
     "exception": false,
     "start_time": "2025-02-08T06:49:59.827731",
     "status": "completed"
    },
    "tags": []
   },
   "outputs": [],
   "source": []
  },
  {
   "cell_type": "code",
   "execution_count": null,
   "id": "a669e3d1",
   "metadata": {
    "papermill": {
     "duration": 0.008923,
     "end_time": "2025-02-08T06:49:59.853878",
     "exception": false,
     "start_time": "2025-02-08T06:49:59.844955",
     "status": "completed"
    },
    "tags": []
   },
   "outputs": [],
   "source": []
  },
  {
   "cell_type": "code",
   "execution_count": null,
   "id": "7158eca4",
   "metadata": {
    "papermill": {
     "duration": 0.009143,
     "end_time": "2025-02-08T06:49:59.872842",
     "exception": false,
     "start_time": "2025-02-08T06:49:59.863699",
     "status": "completed"
    },
    "tags": []
   },
   "outputs": [],
   "source": []
  },
  {
   "cell_type": "code",
   "execution_count": null,
   "id": "2faa2fc1",
   "metadata": {
    "papermill": {
     "duration": 0.008793,
     "end_time": "2025-02-08T06:49:59.890767",
     "exception": false,
     "start_time": "2025-02-08T06:49:59.881974",
     "status": "completed"
    },
    "tags": []
   },
   "outputs": [],
   "source": []
  },
  {
   "cell_type": "code",
   "execution_count": null,
   "id": "c656d0ee",
   "metadata": {
    "papermill": {
     "duration": 0.008912,
     "end_time": "2025-02-08T06:49:59.909651",
     "exception": false,
     "start_time": "2025-02-08T06:49:59.900739",
     "status": "completed"
    },
    "tags": []
   },
   "outputs": [],
   "source": []
  },
  {
   "cell_type": "code",
   "execution_count": null,
   "id": "6c36694e",
   "metadata": {
    "papermill": {
     "duration": 0.008508,
     "end_time": "2025-02-08T06:49:59.926896",
     "exception": false,
     "start_time": "2025-02-08T06:49:59.918388",
     "status": "completed"
    },
    "tags": []
   },
   "outputs": [],
   "source": []
  },
  {
   "cell_type": "code",
   "execution_count": null,
   "id": "ec5404f4",
   "metadata": {
    "papermill": {
     "duration": 0.008571,
     "end_time": "2025-02-08T06:49:59.945027",
     "exception": false,
     "start_time": "2025-02-08T06:49:59.936456",
     "status": "completed"
    },
    "tags": []
   },
   "outputs": [],
   "source": []
  },
  {
   "cell_type": "code",
   "execution_count": null,
   "id": "c2c86773",
   "metadata": {
    "papermill": {
     "duration": 0.008348,
     "end_time": "2025-02-08T06:49:59.962297",
     "exception": false,
     "start_time": "2025-02-08T06:49:59.953949",
     "status": "completed"
    },
    "tags": []
   },
   "outputs": [],
   "source": []
  },
  {
   "cell_type": "code",
   "execution_count": null,
   "id": "fd1c7b63",
   "metadata": {
    "papermill": {
     "duration": 0.00876,
     "end_time": "2025-02-08T06:49:59.980147",
     "exception": false,
     "start_time": "2025-02-08T06:49:59.971387",
     "status": "completed"
    },
    "tags": []
   },
   "outputs": [],
   "source": []
  },
  {
   "cell_type": "code",
   "execution_count": null,
   "id": "e5344683",
   "metadata": {
    "papermill": {
     "duration": 0.008388,
     "end_time": "2025-02-08T06:49:59.997326",
     "exception": false,
     "start_time": "2025-02-08T06:49:59.988938",
     "status": "completed"
    },
    "tags": []
   },
   "outputs": [],
   "source": []
  },
  {
   "cell_type": "code",
   "execution_count": null,
   "id": "62bf15dc",
   "metadata": {
    "papermill": {
     "duration": 0.008535,
     "end_time": "2025-02-08T06:50:00.015279",
     "exception": false,
     "start_time": "2025-02-08T06:50:00.006744",
     "status": "completed"
    },
    "tags": []
   },
   "outputs": [],
   "source": []
  },
  {
   "cell_type": "code",
   "execution_count": null,
   "id": "01e6a509",
   "metadata": {
    "papermill": {
     "duration": 0.00855,
     "end_time": "2025-02-08T06:50:00.032726",
     "exception": false,
     "start_time": "2025-02-08T06:50:00.024176",
     "status": "completed"
    },
    "tags": []
   },
   "outputs": [],
   "source": []
  },
  {
   "cell_type": "code",
   "execution_count": null,
   "id": "b322237c",
   "metadata": {
    "papermill": {
     "duration": 0.00851,
     "end_time": "2025-02-08T06:50:00.050289",
     "exception": false,
     "start_time": "2025-02-08T06:50:00.041779",
     "status": "completed"
    },
    "tags": []
   },
   "outputs": [],
   "source": []
  },
  {
   "cell_type": "code",
   "execution_count": null,
   "id": "67d6b03f",
   "metadata": {
    "papermill": {
     "duration": 0.008585,
     "end_time": "2025-02-08T06:50:00.067672",
     "exception": false,
     "start_time": "2025-02-08T06:50:00.059087",
     "status": "completed"
    },
    "tags": []
   },
   "outputs": [],
   "source": []
  },
  {
   "cell_type": "code",
   "execution_count": null,
   "id": "6b54ccfb",
   "metadata": {
    "papermill": {
     "duration": 0.008474,
     "end_time": "2025-02-08T06:50:00.085445",
     "exception": false,
     "start_time": "2025-02-08T06:50:00.076971",
     "status": "completed"
    },
    "tags": []
   },
   "outputs": [],
   "source": []
  },
  {
   "cell_type": "code",
   "execution_count": null,
   "id": "22f0f680",
   "metadata": {
    "papermill": {
     "duration": 0.009334,
     "end_time": "2025-02-08T06:50:00.103456",
     "exception": false,
     "start_time": "2025-02-08T06:50:00.094122",
     "status": "completed"
    },
    "tags": []
   },
   "outputs": [],
   "source": []
  },
  {
   "cell_type": "code",
   "execution_count": null,
   "id": "1a624026",
   "metadata": {
    "papermill": {
     "duration": 0.009468,
     "end_time": "2025-02-08T06:50:00.122103",
     "exception": false,
     "start_time": "2025-02-08T06:50:00.112635",
     "status": "completed"
    },
    "tags": []
   },
   "outputs": [],
   "source": []
  },
  {
   "cell_type": "code",
   "execution_count": null,
   "id": "727cd2c5",
   "metadata": {
    "papermill": {
     "duration": 0.009357,
     "end_time": "2025-02-08T06:50:00.141394",
     "exception": false,
     "start_time": "2025-02-08T06:50:00.132037",
     "status": "completed"
    },
    "tags": []
   },
   "outputs": [],
   "source": []
  },
  {
   "cell_type": "code",
   "execution_count": null,
   "id": "94971443",
   "metadata": {
    "papermill": {
     "duration": 0.008556,
     "end_time": "2025-02-08T06:50:00.158978",
     "exception": false,
     "start_time": "2025-02-08T06:50:00.150422",
     "status": "completed"
    },
    "tags": []
   },
   "outputs": [],
   "source": []
  },
  {
   "cell_type": "code",
   "execution_count": null,
   "id": "cfdcb2f1",
   "metadata": {
    "papermill": {
     "duration": 0.010273,
     "end_time": "2025-02-08T06:50:00.178346",
     "exception": false,
     "start_time": "2025-02-08T06:50:00.168073",
     "status": "completed"
    },
    "tags": []
   },
   "outputs": [],
   "source": []
  },
  {
   "cell_type": "code",
   "execution_count": null,
   "id": "ea03609e",
   "metadata": {
    "papermill": {
     "duration": 0.010428,
     "end_time": "2025-02-08T06:50:00.197917",
     "exception": false,
     "start_time": "2025-02-08T06:50:00.187489",
     "status": "completed"
    },
    "tags": []
   },
   "outputs": [],
   "source": []
  },
  {
   "cell_type": "code",
   "execution_count": null,
   "id": "db34d3d4",
   "metadata": {
    "papermill": {
     "duration": 0.008464,
     "end_time": "2025-02-08T06:50:00.215465",
     "exception": false,
     "start_time": "2025-02-08T06:50:00.207001",
     "status": "completed"
    },
    "tags": []
   },
   "outputs": [],
   "source": []
  },
  {
   "cell_type": "code",
   "execution_count": null,
   "id": "2bd0c845",
   "metadata": {
    "papermill": {
     "duration": 0.008515,
     "end_time": "2025-02-08T06:50:00.232733",
     "exception": false,
     "start_time": "2025-02-08T06:50:00.224218",
     "status": "completed"
    },
    "tags": []
   },
   "outputs": [],
   "source": []
  },
  {
   "cell_type": "code",
   "execution_count": null,
   "id": "eef76dcf",
   "metadata": {
    "papermill": {
     "duration": 0.008668,
     "end_time": "2025-02-08T06:50:00.250120",
     "exception": false,
     "start_time": "2025-02-08T06:50:00.241452",
     "status": "completed"
    },
    "tags": []
   },
   "outputs": [],
   "source": []
  },
  {
   "cell_type": "code",
   "execution_count": null,
   "id": "7d01b895",
   "metadata": {
    "papermill": {
     "duration": 0.008533,
     "end_time": "2025-02-08T06:50:00.267858",
     "exception": false,
     "start_time": "2025-02-08T06:50:00.259325",
     "status": "completed"
    },
    "tags": []
   },
   "outputs": [],
   "source": []
  },
  {
   "cell_type": "code",
   "execution_count": null,
   "id": "719db98e",
   "metadata": {
    "papermill": {
     "duration": 0.00941,
     "end_time": "2025-02-08T06:50:00.286436",
     "exception": false,
     "start_time": "2025-02-08T06:50:00.277026",
     "status": "completed"
    },
    "tags": []
   },
   "outputs": [],
   "source": []
  },
  {
   "cell_type": "code",
   "execution_count": null,
   "id": "f3f77c20",
   "metadata": {
    "papermill": {
     "duration": 0.00861,
     "end_time": "2025-02-08T06:50:00.304235",
     "exception": false,
     "start_time": "2025-02-08T06:50:00.295625",
     "status": "completed"
    },
    "tags": []
   },
   "outputs": [],
   "source": []
  },
  {
   "cell_type": "code",
   "execution_count": null,
   "id": "49a9e874",
   "metadata": {
    "papermill": {
     "duration": 0.00857,
     "end_time": "2025-02-08T06:50:00.322299",
     "exception": false,
     "start_time": "2025-02-08T06:50:00.313729",
     "status": "completed"
    },
    "tags": []
   },
   "outputs": [],
   "source": []
  },
  {
   "cell_type": "code",
   "execution_count": null,
   "id": "7244612a",
   "metadata": {
    "papermill": {
     "duration": 0.00894,
     "end_time": "2025-02-08T06:50:00.340071",
     "exception": false,
     "start_time": "2025-02-08T06:50:00.331131",
     "status": "completed"
    },
    "tags": []
   },
   "outputs": [],
   "source": []
  },
  {
   "cell_type": "code",
   "execution_count": null,
   "id": "53ee7d6a",
   "metadata": {
    "papermill": {
     "duration": 0.008632,
     "end_time": "2025-02-08T06:50:00.359227",
     "exception": false,
     "start_time": "2025-02-08T06:50:00.350595",
     "status": "completed"
    },
    "tags": []
   },
   "outputs": [],
   "source": []
  },
  {
   "cell_type": "code",
   "execution_count": null,
   "id": "05d6aaf1",
   "metadata": {
    "papermill": {
     "duration": 0.008372,
     "end_time": "2025-02-08T06:50:00.376541",
     "exception": false,
     "start_time": "2025-02-08T06:50:00.368169",
     "status": "completed"
    },
    "tags": []
   },
   "outputs": [],
   "source": []
  },
  {
   "cell_type": "code",
   "execution_count": null,
   "id": "026410ce",
   "metadata": {
    "papermill": {
     "duration": 0.008252,
     "end_time": "2025-02-08T06:50:00.393268",
     "exception": false,
     "start_time": "2025-02-08T06:50:00.385016",
     "status": "completed"
    },
    "tags": []
   },
   "outputs": [],
   "source": []
  },
  {
   "cell_type": "code",
   "execution_count": null,
   "id": "9b5c3be2",
   "metadata": {
    "papermill": {
     "duration": 0.008235,
     "end_time": "2025-02-08T06:50:00.410153",
     "exception": false,
     "start_time": "2025-02-08T06:50:00.401918",
     "status": "completed"
    },
    "tags": []
   },
   "outputs": [],
   "source": []
  },
  {
   "cell_type": "code",
   "execution_count": null,
   "id": "6bcf9c65",
   "metadata": {
    "papermill": {
     "duration": 0.008382,
     "end_time": "2025-02-08T06:50:00.427179",
     "exception": false,
     "start_time": "2025-02-08T06:50:00.418797",
     "status": "completed"
    },
    "tags": []
   },
   "outputs": [],
   "source": []
  },
  {
   "cell_type": "code",
   "execution_count": null,
   "id": "008d7277",
   "metadata": {
    "papermill": {
     "duration": 0.008485,
     "end_time": "2025-02-08T06:50:00.444410",
     "exception": false,
     "start_time": "2025-02-08T06:50:00.435925",
     "status": "completed"
    },
    "tags": []
   },
   "outputs": [],
   "source": []
  },
  {
   "cell_type": "code",
   "execution_count": null,
   "id": "07e1b6e0",
   "metadata": {
    "papermill": {
     "duration": 0.008524,
     "end_time": "2025-02-08T06:50:00.462356",
     "exception": false,
     "start_time": "2025-02-08T06:50:00.453832",
     "status": "completed"
    },
    "tags": []
   },
   "outputs": [],
   "source": []
  },
  {
   "cell_type": "code",
   "execution_count": null,
   "id": "f3e1c5e2",
   "metadata": {
    "papermill": {
     "duration": 0.008521,
     "end_time": "2025-02-08T06:50:00.479716",
     "exception": false,
     "start_time": "2025-02-08T06:50:00.471195",
     "status": "completed"
    },
    "tags": []
   },
   "outputs": [],
   "source": []
  },
  {
   "cell_type": "code",
   "execution_count": null,
   "id": "5fe88267",
   "metadata": {
    "papermill": {
     "duration": 0.067457,
     "end_time": "2025-02-08T06:50:00.556025",
     "exception": false,
     "start_time": "2025-02-08T06:50:00.488568",
     "status": "completed"
    },
    "tags": []
   },
   "outputs": [],
   "source": []
  },
  {
   "cell_type": "code",
   "execution_count": null,
   "id": "b2d77b1d",
   "metadata": {
    "papermill": {
     "duration": 0.009794,
     "end_time": "2025-02-08T06:50:00.574667",
     "exception": false,
     "start_time": "2025-02-08T06:50:00.564873",
     "status": "completed"
    },
    "tags": []
   },
   "outputs": [],
   "source": []
  }
 ],
 "metadata": {
  "kaggle": {
   "accelerator": "none",
   "dataSources": [
    {
     "datasetId": 3147,
     "sourceId": 5196,
     "sourceType": "datasetVersion"
    },
    {
     "datasetId": 1396483,
     "sourceId": 2314159,
     "sourceType": "datasetVersion"
    }
   ],
   "dockerImageVersionId": 30839,
   "isGpuEnabled": false,
   "isInternetEnabled": false,
   "language": "python",
   "sourceType": "notebook"
  },
  "kernelspec": {
   "display_name": "Python 3",
   "language": "python",
   "name": "python3"
  },
  "language_info": {
   "codemirror_mode": {
    "name": "ipython",
    "version": 3
   },
   "file_extension": ".py",
   "mimetype": "text/x-python",
   "name": "python",
   "nbconvert_exporter": "python",
   "pygments_lexer": "ipython3",
   "version": "3.10.12"
  },
  "papermill": {
   "default_parameters": {},
   "duration": 11.366602,
   "end_time": "2025-02-08T06:50:01.305012",
   "environment_variables": {},
   "exception": null,
   "input_path": "__notebook__.ipynb",
   "output_path": "__notebook__.ipynb",
   "parameters": {},
   "start_time": "2025-02-08T06:49:49.938410",
   "version": "2.6.0"
  }
 },
 "nbformat": 4,
 "nbformat_minor": 5
}
