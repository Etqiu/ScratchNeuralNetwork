{
 "cells": [
  {
   "cell_type": "markdown",
   "id": "eff5bd52",
   "metadata": {
    "papermill": {
     "duration": 0.007974,
     "end_time": "2025-02-09T05:37:43.991602",
     "exception": false,
     "start_time": "2025-02-09T05:37:43.983628",
     "status": "completed"
    },
    "tags": []
   },
   "source": [
    "# Making A Neural Network From Scratch:\n",
    "\n",
    "**Goal**: To implement a neural network using only numPy that has two hidden layers and one output layer with two activation functions. We can then train our neural network on the MNIST data-set, and test it to see our accuracy. "
   ]
  },
  {
   "cell_type": "code",
   "execution_count": 1,
   "id": "09ad2a0c",
   "metadata": {
    "_cell_guid": "b1076dfc-b9ad-4769-8c92-a6c4dae69d19",
    "_uuid": "8f2839f25d086af736a60e9eeb907d3b93b6e0e5",
    "execution": {
     "iopub.execute_input": "2025-02-09T05:37:44.005068Z",
     "iopub.status.busy": "2025-02-09T05:37:44.004697Z",
     "iopub.status.idle": "2025-02-09T05:37:46.316851Z",
     "shell.execute_reply": "2025-02-09T05:37:46.315478Z"
    },
    "papermill": {
     "duration": 2.320973,
     "end_time": "2025-02-09T05:37:46.318695",
     "exception": false,
     "start_time": "2025-02-09T05:37:43.997722",
     "status": "completed"
    },
    "tags": []
   },
   "outputs": [
    {
     "name": "stdout",
     "output_type": "stream",
     "text": [
      "/kaggle/input/mnist-digit-recognizer/train.csv\n",
      "/kaggle/input/chinese-mnist-digit-recognizer/chineseMNIST.csv\n"
     ]
    }
   ],
   "source": [
    "# This Python 3 environment comes with many helpful analytics libraries installed\n",
    "# It is defined by the kaggle/python Docker image: https://github.com/kaggle/docker-python\n",
    "# For example, here's several helpful packages to load\n",
    "\n",
    "import numpy as np # linear algebra\n",
    "import pandas as pd # data processing, CSV file I/O (e.g. pd.read_csv)\n",
    "from matplotlib import pyplot as plt\n",
    "from sklearn.model_selection import train_test_split\n",
    "# Input data files are available in the read-only \"../input/\" directory\n",
    "# For example, running this (by clicking run or pressing Shift+Enter) will list all files under the input directory\n",
    "\n",
    "import os\n",
    "for dirname, _, filenames in os.walk('/kaggle/input'):\n",
    "    for filename in filenames:\n",
    "        print(os.path.join(dirname, filename))\n",
    "\n",
    "# You can write up to 20GB to the current directory (/kaggle/working/) that gets preserved as output when you create a version using \"Save & Run All\" \n",
    "# You can also write temporary files to /kaggle/temp/, but they won't be saved outside of the current session"
   ]
  },
  {
   "cell_type": "markdown",
   "id": "e8ebf1d1",
   "metadata": {
    "papermill": {
     "duration": 0.005699,
     "end_time": "2025-02-09T05:37:46.330383",
     "exception": false,
     "start_time": "2025-02-09T05:37:46.324684",
     "status": "completed"
    },
    "tags": []
   },
   "source": [
    "I'm going to first import the mnist digits in csv form, every row represents an image and every column, a pixel, with the first column being the label of the number."
   ]
  },
  {
   "cell_type": "code",
   "execution_count": 2,
   "id": "1ba9dfd9",
   "metadata": {
    "execution": {
     "iopub.execute_input": "2025-02-09T05:37:46.343207Z",
     "iopub.status.busy": "2025-02-09T05:37:46.342688Z",
     "iopub.status.idle": "2025-02-09T05:37:49.579237Z",
     "shell.execute_reply": "2025-02-09T05:37:49.578214Z"
    },
    "papermill": {
     "duration": 3.244754,
     "end_time": "2025-02-09T05:37:49.580822",
     "exception": false,
     "start_time": "2025-02-09T05:37:46.336068",
     "status": "completed"
    },
    "tags": []
   },
   "outputs": [
    {
     "data": {
      "text/html": [
       "<div>\n",
       "<style scoped>\n",
       "    .dataframe tbody tr th:only-of-type {\n",
       "        vertical-align: middle;\n",
       "    }\n",
       "\n",
       "    .dataframe tbody tr th {\n",
       "        vertical-align: top;\n",
       "    }\n",
       "\n",
       "    .dataframe thead th {\n",
       "        text-align: right;\n",
       "    }\n",
       "</style>\n",
       "<table border=\"1\" class=\"dataframe\">\n",
       "  <thead>\n",
       "    <tr style=\"text-align: right;\">\n",
       "      <th></th>\n",
       "      <th>label</th>\n",
       "      <th>pixel0</th>\n",
       "      <th>pixel1</th>\n",
       "      <th>pixel2</th>\n",
       "      <th>pixel3</th>\n",
       "      <th>pixel4</th>\n",
       "      <th>pixel5</th>\n",
       "      <th>pixel6</th>\n",
       "      <th>pixel7</th>\n",
       "      <th>pixel8</th>\n",
       "      <th>...</th>\n",
       "      <th>pixel774</th>\n",
       "      <th>pixel775</th>\n",
       "      <th>pixel776</th>\n",
       "      <th>pixel777</th>\n",
       "      <th>pixel778</th>\n",
       "      <th>pixel779</th>\n",
       "      <th>pixel780</th>\n",
       "      <th>pixel781</th>\n",
       "      <th>pixel782</th>\n",
       "      <th>pixel783</th>\n",
       "    </tr>\n",
       "  </thead>\n",
       "  <tbody>\n",
       "    <tr>\n",
       "      <th>0</th>\n",
       "      <td>1</td>\n",
       "      <td>0</td>\n",
       "      <td>0</td>\n",
       "      <td>0</td>\n",
       "      <td>0</td>\n",
       "      <td>0</td>\n",
       "      <td>0</td>\n",
       "      <td>0</td>\n",
       "      <td>0</td>\n",
       "      <td>0</td>\n",
       "      <td>...</td>\n",
       "      <td>0</td>\n",
       "      <td>0</td>\n",
       "      <td>0</td>\n",
       "      <td>0</td>\n",
       "      <td>0</td>\n",
       "      <td>0</td>\n",
       "      <td>0</td>\n",
       "      <td>0</td>\n",
       "      <td>0</td>\n",
       "      <td>0</td>\n",
       "    </tr>\n",
       "    <tr>\n",
       "      <th>1</th>\n",
       "      <td>0</td>\n",
       "      <td>0</td>\n",
       "      <td>0</td>\n",
       "      <td>0</td>\n",
       "      <td>0</td>\n",
       "      <td>0</td>\n",
       "      <td>0</td>\n",
       "      <td>0</td>\n",
       "      <td>0</td>\n",
       "      <td>0</td>\n",
       "      <td>...</td>\n",
       "      <td>0</td>\n",
       "      <td>0</td>\n",
       "      <td>0</td>\n",
       "      <td>0</td>\n",
       "      <td>0</td>\n",
       "      <td>0</td>\n",
       "      <td>0</td>\n",
       "      <td>0</td>\n",
       "      <td>0</td>\n",
       "      <td>0</td>\n",
       "    </tr>\n",
       "    <tr>\n",
       "      <th>2</th>\n",
       "      <td>1</td>\n",
       "      <td>0</td>\n",
       "      <td>0</td>\n",
       "      <td>0</td>\n",
       "      <td>0</td>\n",
       "      <td>0</td>\n",
       "      <td>0</td>\n",
       "      <td>0</td>\n",
       "      <td>0</td>\n",
       "      <td>0</td>\n",
       "      <td>...</td>\n",
       "      <td>0</td>\n",
       "      <td>0</td>\n",
       "      <td>0</td>\n",
       "      <td>0</td>\n",
       "      <td>0</td>\n",
       "      <td>0</td>\n",
       "      <td>0</td>\n",
       "      <td>0</td>\n",
       "      <td>0</td>\n",
       "      <td>0</td>\n",
       "    </tr>\n",
       "    <tr>\n",
       "      <th>3</th>\n",
       "      <td>4</td>\n",
       "      <td>0</td>\n",
       "      <td>0</td>\n",
       "      <td>0</td>\n",
       "      <td>0</td>\n",
       "      <td>0</td>\n",
       "      <td>0</td>\n",
       "      <td>0</td>\n",
       "      <td>0</td>\n",
       "      <td>0</td>\n",
       "      <td>...</td>\n",
       "      <td>0</td>\n",
       "      <td>0</td>\n",
       "      <td>0</td>\n",
       "      <td>0</td>\n",
       "      <td>0</td>\n",
       "      <td>0</td>\n",
       "      <td>0</td>\n",
       "      <td>0</td>\n",
       "      <td>0</td>\n",
       "      <td>0</td>\n",
       "    </tr>\n",
       "    <tr>\n",
       "      <th>4</th>\n",
       "      <td>0</td>\n",
       "      <td>0</td>\n",
       "      <td>0</td>\n",
       "      <td>0</td>\n",
       "      <td>0</td>\n",
       "      <td>0</td>\n",
       "      <td>0</td>\n",
       "      <td>0</td>\n",
       "      <td>0</td>\n",
       "      <td>0</td>\n",
       "      <td>...</td>\n",
       "      <td>0</td>\n",
       "      <td>0</td>\n",
       "      <td>0</td>\n",
       "      <td>0</td>\n",
       "      <td>0</td>\n",
       "      <td>0</td>\n",
       "      <td>0</td>\n",
       "      <td>0</td>\n",
       "      <td>0</td>\n",
       "      <td>0</td>\n",
       "    </tr>\n",
       "  </tbody>\n",
       "</table>\n",
       "<p>5 rows × 785 columns</p>\n",
       "</div>"
      ],
      "text/plain": [
       "   label  pixel0  pixel1  pixel2  pixel3  pixel4  pixel5  pixel6  pixel7  \\\n",
       "0      1       0       0       0       0       0       0       0       0   \n",
       "1      0       0       0       0       0       0       0       0       0   \n",
       "2      1       0       0       0       0       0       0       0       0   \n",
       "3      4       0       0       0       0       0       0       0       0   \n",
       "4      0       0       0       0       0       0       0       0       0   \n",
       "\n",
       "   pixel8  ...  pixel774  pixel775  pixel776  pixel777  pixel778  pixel779  \\\n",
       "0       0  ...         0         0         0         0         0         0   \n",
       "1       0  ...         0         0         0         0         0         0   \n",
       "2       0  ...         0         0         0         0         0         0   \n",
       "3       0  ...         0         0         0         0         0         0   \n",
       "4       0  ...         0         0         0         0         0         0   \n",
       "\n",
       "   pixel780  pixel781  pixel782  pixel783  \n",
       "0         0         0         0         0  \n",
       "1         0         0         0         0  \n",
       "2         0         0         0         0  \n",
       "3         0         0         0         0  \n",
       "4         0         0         0         0  \n",
       "\n",
       "[5 rows x 785 columns]"
      ]
     },
     "execution_count": 2,
     "metadata": {},
     "output_type": "execute_result"
    }
   ],
   "source": [
    "df = pd.read_csv(\"/kaggle/input/mnist-digit-recognizer/train.csv\")\n",
    "df.head()"
   ]
  },
  {
   "cell_type": "code",
   "execution_count": 3,
   "id": "aa9b1619",
   "metadata": {
    "execution": {
     "iopub.execute_input": "2025-02-09T05:37:49.595187Z",
     "iopub.status.busy": "2025-02-09T05:37:49.594800Z",
     "iopub.status.idle": "2025-02-09T05:37:49.600242Z",
     "shell.execute_reply": "2025-02-09T05:37:49.599410Z"
    },
    "papermill": {
     "duration": 0.014515,
     "end_time": "2025-02-09T05:37:49.601764",
     "exception": false,
     "start_time": "2025-02-09T05:37:49.587249",
     "status": "completed"
    },
    "tags": []
   },
   "outputs": [
    {
     "data": {
      "text/plain": [
       "(42000, 785)"
      ]
     },
     "execution_count": 3,
     "metadata": {},
     "output_type": "execute_result"
    }
   ],
   "source": [
    "df.shape # rows show how many pictures there are in the csv "
   ]
  },
  {
   "cell_type": "markdown",
   "id": "b7a6462e",
   "metadata": {
    "papermill": {
     "duration": 0.005981,
     "end_time": "2025-02-09T05:37:49.614156",
     "exception": false,
     "start_time": "2025-02-09T05:37:49.608175",
     "status": "completed"
    },
    "tags": []
   },
   "source": [
    "We are going to convert this DataFrame into a np.array, and use test_train_split() by sklearn. Then we want to take the **tranpose** of each array so that each array is actually an individual picture (which will be one of the 784 nodes)."
   ]
  },
  {
   "cell_type": "code",
   "execution_count": 4,
   "id": "5406a6bc",
   "metadata": {
    "execution": {
     "iopub.execute_input": "2025-02-09T05:37:49.627976Z",
     "iopub.status.busy": "2025-02-09T05:37:49.627608Z",
     "iopub.status.idle": "2025-02-09T05:37:50.181245Z",
     "shell.execute_reply": "2025-02-09T05:37:50.180307Z"
    },
    "papermill": {
     "duration": 0.562355,
     "end_time": "2025-02-09T05:37:50.182700",
     "exception": false,
     "start_time": "2025-02-09T05:37:49.620345",
     "status": "completed"
    },
    "tags": []
   },
   "outputs": [
    {
     "data": {
      "text/plain": [
       "(784,)"
      ]
     },
     "metadata": {},
     "output_type": "display_data"
    },
    {
     "data": {
      "text/plain": [
       "16800"
      ]
     },
     "metadata": {},
     "output_type": "display_data"
    },
    {
     "data": {
      "text/plain": [
       "array([[0, 0, 0, ..., 0, 0, 0],\n",
       "       [0, 0, 0, ..., 0, 0, 0],\n",
       "       [0, 0, 0, ..., 0, 0, 0],\n",
       "       ...,\n",
       "       [0, 0, 0, ..., 0, 0, 0],\n",
       "       [0, 0, 0, ..., 0, 0, 0],\n",
       "       [0, 0, 0, ..., 0, 0, 0]])"
      ]
     },
     "metadata": {},
     "output_type": "display_data"
    },
    {
     "data": {
      "text/plain": [
       "array([[1, 3, 6, ..., 3, 2, 8]])"
      ]
     },
     "metadata": {},
     "output_type": "display_data"
    },
    {
     "data": {
      "text/plain": [
       "array([[0, 0, 6, ..., 4, 6, 2]])"
      ]
     },
     "metadata": {},
     "output_type": "display_data"
    }
   ],
   "source": [
    "x_train, x_test, y_train, y_test = train_test_split(np.array(df.iloc[:, 1:]), np.array(df[['label']]), test_size = .4)\n",
    "x_train, x_test, y_train, y_test = x_train.T, x_test.T, y_train.T, y_test.T \n",
    "pixels = df.shape[1] - 1\n",
    "display(x_train[:, 0].shape, len(x_test[0]), x_train, y_train, y_test) # check configs\n",
    "# n_xtrain (rows of pixels) = 784, m_xtrain (columns of items) = train/split"
   ]
  },
  {
   "cell_type": "markdown",
   "id": "bd6b70e9",
   "metadata": {
    "papermill": {
     "duration": 0.00649,
     "end_time": "2025-02-09T05:37:50.195901",
     "exception": false,
     "start_time": "2025-02-09T05:37:50.189411",
     "status": "completed"
    },
    "tags": []
   },
   "source": [
    "Above, we see that y_train is actually an array inside an array, we will fix that below:"
   ]
  },
  {
   "cell_type": "code",
   "execution_count": 5,
   "id": "6c3711a9",
   "metadata": {
    "execution": {
     "iopub.execute_input": "2025-02-09T05:37:50.210317Z",
     "iopub.status.busy": "2025-02-09T05:37:50.209915Z",
     "iopub.status.idle": "2025-02-09T05:37:50.215783Z",
     "shell.execute_reply": "2025-02-09T05:37:50.214827Z"
    },
    "papermill": {
     "duration": 0.0148,
     "end_time": "2025-02-09T05:37:50.217286",
     "exception": false,
     "start_time": "2025-02-09T05:37:50.202486",
     "status": "completed"
    },
    "tags": []
   },
   "outputs": [
    {
     "data": {
      "text/plain": [
       "(array([1, 3, 6, ..., 3, 2, 8]), array([0, 0, 6, ..., 4, 6, 2]))"
      ]
     },
     "execution_count": 5,
     "metadata": {},
     "output_type": "execute_result"
    }
   ],
   "source": [
    "y_train, y_test = y_train[0], y_test[0]\n",
    "y_train, y_test"
   ]
  },
  {
   "cell_type": "markdown",
   "id": "faaab433",
   "metadata": {
    "papermill": {
     "duration": 0.006466,
     "end_time": "2025-02-09T05:37:50.230732",
     "exception": false,
     "start_time": "2025-02-09T05:37:50.224266",
     "status": "completed"
    },
    "tags": []
   },
   "source": [
    "We also want the RGB values to be scaled from 0-1 so I will divide all training and test X values (the pixels) by 255. Without it some \"gradient explosion\" will happen. "
   ]
  },
  {
   "cell_type": "code",
   "execution_count": 6,
   "id": "53fd4718",
   "metadata": {
    "execution": {
     "iopub.execute_input": "2025-02-09T05:37:50.245548Z",
     "iopub.status.busy": "2025-02-09T05:37:50.245208Z",
     "iopub.status.idle": "2025-02-09T05:37:50.371676Z",
     "shell.execute_reply": "2025-02-09T05:37:50.370539Z"
    },
    "papermill": {
     "duration": 0.135948,
     "end_time": "2025-02-09T05:37:50.373433",
     "exception": false,
     "start_time": "2025-02-09T05:37:50.237485",
     "status": "completed"
    },
    "tags": []
   },
   "outputs": [
    {
     "data": {
      "text/plain": [
       "(array([[0., 0., 0., ..., 0., 0., 0.],\n",
       "        [0., 0., 0., ..., 0., 0., 0.],\n",
       "        [0., 0., 0., ..., 0., 0., 0.],\n",
       "        ...,\n",
       "        [0., 0., 0., ..., 0., 0., 0.],\n",
       "        [0., 0., 0., ..., 0., 0., 0.],\n",
       "        [0., 0., 0., ..., 0., 0., 0.]]),\n",
       " (784, 16800))"
      ]
     },
     "execution_count": 6,
     "metadata": {},
     "output_type": "execute_result"
    }
   ],
   "source": [
    "x_train, x_test = x_train / 255, x_test / 255\n",
    "x_train, x_test.shape"
   ]
  },
  {
   "cell_type": "markdown",
   "id": "20411d45",
   "metadata": {
    "papermill": {
     "duration": 0.006653,
     "end_time": "2025-02-09T05:37:50.387294",
     "exception": false,
     "start_time": "2025-02-09T05:37:50.380641",
     "status": "completed"
    },
    "tags": []
   },
   "source": [
    "**Note**: Basically we want to make the train set an nxm matrix so we can left multiply it by a weight matrix to move from Rm -> R10 (10 is an arbitrary number for the first layer but makes computation easier). This will help to compute a linear combination with the weights and nodes "
   ]
  },
  {
   "cell_type": "markdown",
   "id": "94280589",
   "metadata": {
    "papermill": {
     "duration": 0.006649,
     "end_time": "2025-02-09T05:37:50.400909",
     "exception": false,
     "start_time": "2025-02-09T05:37:50.394260",
     "status": "completed"
    },
    "tags": []
   },
   "source": [
    "# Initialization and Propagation: \n",
    "1. creating a random array of weights, W1, W2\n",
    "2. creating a random array of biases, b1, b2\n",
    "3. arrays for each layer:\n",
    "    * input layer\n",
    "    * first reLU layer (a function applied to each node)\n",
    "    * second output layer (which will also have a softmax to find a probability distribution of numbers)\n",
    "4. Make forward and backwards propagation. \n",
    "\n",
    "We are also going to start with random weights and biases. Below is a diagram in LaTeX explaining the matrix multiplcation **for a single picture**, where matrix $B$ is our input layer tranposed multiplied by our $A$ matrix, and the biases being added as matrix $C$. The result will be a $10 * m$ matrix, where $m$ is the number of training pictures.\n",
    "\n"
   ]
  },
  {
   "cell_type": "markdown",
   "id": "79007033",
   "metadata": {
    "papermill": {
     "duration": 0.006637,
     "end_time": "2025-02-09T05:37:50.414378",
     "exception": false,
     "start_time": "2025-02-09T05:37:50.407741",
     "status": "completed"
    },
    "tags": []
   },
   "source": [
    "\n",
    "\n",
    "$$\\begin{bmatrix}\n",
    "a_{11} & a_{12} & \\cdots & a_{1,784} \\\\\n",
    "a_{21} & a_{22} & \\cdots & a_{2,784} \\\\\n",
    "\\vdots & \\vdots & \\ddots & \\vdots \\\\\n",
    "a_{10,1} & a_{10,2} & \\cdots & a_{10,784}\n",
    "\\end{bmatrix}\n",
    "\\times\n",
    "\\begin{bmatrix}\n",
    "b_{11} & b_{12} & \\cdots & b_{1m} \\\\\n",
    "b_{21} & b_{22} & \\cdots & b_{2m} \\\\\n",
    "\\vdots & \\vdots & \\ddots & \\vdots \\\\\n",
    "b_{784,1} & b_{784,2} & \\cdots & b_{784,m}\n",
    "\\end{bmatrix}\n",
    "+\n",
    "\\begin{bmatrix}\n",
    "c_{11} & c_{12} & \\cdots & c_{1m} \\\\\n",
    "c_{21} & c_{22} & \\cdots & c_{2m} \\\\\n",
    "\\vdots & \\vdots & \\ddots & \\vdots \\\\\n",
    "c_{10,1} & c_{10,2} & \\cdots & c_{10,m}\n",
    "\\end{bmatrix}\n",
    "$$\n"
   ]
  },
  {
   "cell_type": "markdown",
   "id": "6920de48",
   "metadata": {
    "papermill": {
     "duration": 0.006567,
     "end_time": "2025-02-09T05:37:50.427752",
     "exception": false,
     "start_time": "2025-02-09T05:37:50.421185",
     "status": "completed"
    },
    "tags": []
   },
   "source": [
    "Here are the softmax function and ReLU function definitions:\n",
    "\n",
    "$\n",
    "\\text{softmax}(z_i) = \\frac{e^{z_i}}{\\sum_{j=1}^n e^{z_j}}\n",
    "$\n",
    "\n",
    "where $z_i$ is the i-th element of the input vector z. The softmax function will apply this to each $z_i$.\n",
    "\n",
    "The softmax function is applied independently to each column of $z$. For a single column (logits for one image), softmax computes that equation.\n",
    "\n",
    "$\n",
    "\\text{ReLU}(x) = \\max(0, x)\n",
    "$\n"
   ]
  },
  {
   "cell_type": "code",
   "execution_count": 7,
   "id": "6f29dd56",
   "metadata": {
    "execution": {
     "iopub.execute_input": "2025-02-09T05:37:50.442843Z",
     "iopub.status.busy": "2025-02-09T05:37:50.442469Z",
     "iopub.status.idle": "2025-02-09T05:37:50.448953Z",
     "shell.execute_reply": "2025-02-09T05:37:50.447953Z"
    },
    "papermill": {
     "duration": 0.015896,
     "end_time": "2025-02-09T05:37:50.450584",
     "exception": false,
     "start_time": "2025-02-09T05:37:50.434688",
     "status": "completed"
    },
    "tags": []
   },
   "outputs": [],
   "source": [
    "def init_parameters(): \n",
    "    # populate a 10 x 784 matrix with random numbers, W1 is weight for first layer\n",
    "    W1 = np.random.rand(10, pixels) -0.5\n",
    "    # continue with biases, which should be a 10x1 vector, which we will broadcast\n",
    "    # 10x1 -> 10xm so we can add the dot product + b\n",
    "    b1 = np.random.rand(10, 1) - 0.5\n",
    "    # second layer weights and biases\n",
    "    W2 = np.random.rand(10, 10) - 0.5\n",
    "    b2 = np.random.rand(10, 1) - 0.5\n",
    "    # we ensure that the weights are centered around 0, instead of 0.5\n",
    "    # we want some negative weights as well so that is why\n",
    "    return W1, b1, W2, b2\n",
    "    \n",
    "def ReLU(Z): # return the same sized matrix, applied reLU\n",
    "    return np.maximum(0,Z)\n",
    "    \n",
    "def SoftMax(Z): # input: 10 x m matrix\n",
    "    # for numerical stability, we can add something to catch nan-values\n",
    "    A = np.exp(Z) / sum(np.exp(Z))\n",
    "    return A\n",
    "\n",
    "    # 1. np.exp(Z) applied to every element in Z \n",
    "    # 2. np.sum(np.exp(Z)) sums all the values of Z from exp, scalar\n",
    "    # 3. All elements are normalized, result = 10 x m, for each training result\n",
    "def forward_propagation(W1, b1, W2, b2, X): # X is the initial input matrix\n",
    "    # Z1 will be the resulting matrix from matrix multiplication\n",
    "    Z1 = W1.dot(X) + b1 \n",
    "    # apply reLU to change from linear combination -> non-linear function\n",
    "    A1 = ReLU(Z1)\n",
    "    Z2 = W2.dot(A1) + b2 # 10 x m\n",
    "    A2 = SoftMax(Z2) # predictions\n",
    "    # return values to update in backpropgation\n",
    "    return Z1, A1, Z2, A2"
   ]
  },
  {
   "cell_type": "markdown",
   "id": "24bbb609",
   "metadata": {
    "papermill": {
     "duration": 0.006727,
     "end_time": "2025-02-09T05:37:50.464191",
     "exception": false,
     "start_time": "2025-02-09T05:37:50.457464",
     "status": "completed"
    },
    "tags": []
   },
   "source": [
    "## Back Propagation and Updating Weights\n",
    "We will now be writing the backpropagation part: \n",
    "1. We need to write one hot, defined as Y (which is the vector equivalent of what the \"actual\" value is). This will help determine the cost \n",
    "2. Calculate how much each layer contributes to the cost function via partial derivatives:\n",
    "   * dZ is the error of each of the columns (not the cost). This is written as the partial derivative of the cost with respect to the activation (second layer being soft-max and first layer being ReLU).\n",
    "   *  dW is the change in cost with respect to the weights. \n",
    "   *  dB is the change in cost with respect to the biases.<br>\n",
    " For a softmax classifier, we'll use a cross-entropy loss function, which will basically come out to dZ if you take the derivative with respect to activation:\n",
    "\n",
    "$$J(\\hat{y}, y) = -\\sum_{i=0}^{c} y_i \\log(\\hat{y}_i)$$\n",
    "\n",
    "For the entire math behind what dz is, here is a forum: https://community.deeplearning.ai/t/calculating-gradient-of-softmax-function/1897\n",
    "\n",
    "Here are the equations if the neural network was linked by one node at a time. z in this case is the the result of the linear combination of the weights + bias not related to \"activation\" ([3B1B's explanation](https://www.youtube.com/watch?v=Ilg3gGewQ5U&list=PLZHQObOWTQDNU6R1_67000Dx_ZCJB-3pi&index=3))\n",
    ":\n",
    "\n",
    "$\\frac{\\partial C_0}{\\partial w^{(L)}} = \\frac{\\partial z^{(L)}}{\\partial w^{(L)}} \\frac{\\partial a^{(L)}}{\\partial z^{(L)}} \\frac{\\partial C_0}{\\partial a^{(L)}}$\n",
    "\n",
    "$z^{(L)} = w^{(L)} a^{(L-1)} + b^{(L)}$ <br>\n",
    "$a^{(L)} = \\sigma(z^{(L)})$ <br>\n",
    "$C^{(0)} = a^{(L)} - y$\n",
    "\n",
    "Notice how the new layer is based off activation result of the previous layer, this can be also translated into matricies in code you will see below.  \n",
    "\n",
    "By terrible convention, these names dZ, dB, and dW are equal to the following in 3b1b language: \n",
    "\n",
    "$dZ = \\frac{\\partial C_0}{\\partial a^{(L)}}$,\n",
    "$dB = \\frac{\\partial C_0}{\\partial b^{(L)}}$,\n",
    "$dW = \\frac{\\partial C_0}{\\partial w^{(L)}}$,\n",
    "\n",
    "\n",
    "3. Using these equations, we can compute a gradient, which for each layer is a vector that tells us the mangitutde of the effect (cost) of each partial derivative (fancy wording for what we just had above).\n",
    "   \n",
    "4. We will then adjust our weights by subtracting each layer's weights by their specific dW, each layer's biases by their dB. We cannot specifically change the previous layer's (L-1) activation, but used it in helping compute each dW and dB. Here's what it will look like:\n",
    "\n",
    "    $w^{(1)} = w^{(1)} - a * dw^{(1)}$<br>\n",
    "    $b^{(1)} = b^{(1)} - a * db^{(1)}$<br>\n",
    "   $w^{(2)} = w^{(2)} - a * dw^{(2)}$<br>\n",
    "    $b^{(2)} = w^{(2)} - a * db^{(2)}$<br>\n",
    "\n",
    "This is how gradient descent will work, as dw and db will converge to 0 through **minimizing the cost** with respect to all its partial derivitives. Alpha is the learning rate (a)\n",
    "\n",
    "\n",
    "\n",
    "* After all these initialization steps, we will be able to run our own neural network by repitition. "
   ]
  },
  {
   "cell_type": "code",
   "execution_count": 8,
   "id": "d7486089",
   "metadata": {
    "execution": {
     "iopub.execute_input": "2025-02-09T05:37:50.479164Z",
     "iopub.status.busy": "2025-02-09T05:37:50.478773Z",
     "iopub.status.idle": "2025-02-09T05:37:50.486179Z",
     "shell.execute_reply": "2025-02-09T05:37:50.485192Z"
    },
    "papermill": {
     "duration": 0.016717,
     "end_time": "2025-02-09T05:37:50.487788",
     "exception": false,
     "start_time": "2025-02-09T05:37:50.471071",
     "status": "completed"
    },
    "tags": []
   },
   "outputs": [],
   "source": [
    "def one_hot(Y): # input: the example labels, output: all the one hot Y's\n",
    "    one_hot_Y = np.zeros((Y.size, Y.max() + 1)) \n",
    "    # (#examples, 0-9 *10), we will take transpose later\n",
    "    \n",
    "    one_hot_Y[np.arange(Y.size), Y] = 1\n",
    "    # basically you can put arrays inside index selection in 2d arrays, which is super neat\n",
    "    # this looks like one_hot_Y[(0 - 784 pixels), (4,5,1,2,4... to m images)]\n",
    "    return one_hot_Y.T\n",
    "    \n",
    "def derivative_ReLU(Z): \n",
    "    return Z > 0 # boolean matrix works since True = 1\n",
    "    \n",
    "def back_propagation(Z1, A1, Z2, A2, W2, X, Y): # figuring out partial derivatives\n",
    "    # Z1, Z2 = result of a linear combination of weights + biases\n",
    "    # A1, A2, = result of activation being called on Z1, Z2\n",
    "    # X = training input, Y = ouput results\n",
    "    # reminder that Z1 - A2 are all 10 x m matricies and will broadcast Y.\n",
    "    m, _ = df.shape # number examples\n",
    "    \n",
    "    dZ2 = A2 - one_hot(Y) \n",
    "    # dZ2 = partial d of the change in cost in terms of soft-max activation\n",
    "    # Note this equation is based off of the error because it is the last layer\n",
    "  \n",
    "    dW2 = 1/m * dZ2.dot(A1.T)\n",
    "    # partial d of the second layer costs to weights\n",
    "    # 1/m is applied to every value and is not part of the p derivative\n",
    "    # transpose ensures that matrix multiplication exists\n",
    "   \n",
    "    dB2 = 1/m * np.sum(dZ2, axis = 1, keepdims = True)\n",
    "    # collapses all rows into 10 x m -> 10 x 1, \n",
    "    # partial d of the second layer costs to biases \n",
    "    # also has 1/m applied since this matrix is applied to all training examples\n",
    "    \n",
    "    dZ1 = W2.T.dot(dZ2) * derivative_ReLU(Z1)\n",
    "    # the W2.T activation transpose serves to \"go backwards\" in a sense\n",
    "    # mathmatical proof will for all calculations will be linked below.\n",
    "\n",
    "    dW1 = 1/m * dZ1.dot(X.T)\n",
    "    dB1 = 1/m * np.sum(dZ1, axis = 1, keepdims = True)\n",
    "    # these are actually the same formula as before due to the chain rule !\n",
    "    return dW1, dB1, dW2, dB2 \n",
    "\n",
    "def adjust_parameters(W1, b1, W2, b2, dW1, db1, dW2, db2, alpha): \n",
    "    W1 = W1 - alpha * dW1\n",
    "    b1 = b1 - alpha * db1    \n",
    "    W2 = W2 - alpha * dW2  \n",
    "    b2 = b2 - alpha * db2   \n",
    "    return W1, b1, W2, b2"
   ]
  },
  {
   "cell_type": "markdown",
   "id": "92c9a754",
   "metadata": {
    "papermill": {
     "duration": 0.006497,
     "end_time": "2025-02-09T05:37:50.501366",
     "exception": false,
     "start_time": "2025-02-09T05:37:50.494869",
     "status": "completed"
    },
    "tags": []
   },
   "source": [
    "# Training / Testing the Neural Network\n",
    "We will now be implmeneting the training functionality of the network and test for its accuracy. With gradient descent, the idea is to forward -> backward propagate -> adjust parameters (weights and biases) and then do it again with those new weights and biases. "
   ]
  },
  {
   "cell_type": "code",
   "execution_count": 9,
   "id": "986d5f48",
   "metadata": {
    "execution": {
     "iopub.execute_input": "2025-02-09T05:37:50.516226Z",
     "iopub.status.busy": "2025-02-09T05:37:50.515824Z",
     "iopub.status.idle": "2025-02-09T05:38:13.070600Z",
     "shell.execute_reply": "2025-02-09T05:38:13.069573Z"
    },
    "papermill": {
     "duration": 22.564273,
     "end_time": "2025-02-09T05:38:13.072408",
     "exception": false,
     "start_time": "2025-02-09T05:37:50.508135",
     "status": "completed"
    },
    "tags": []
   },
   "outputs": [
    {
     "name": "stdout",
     "output_type": "stream",
     "text": [
      "[5 6 0 ... 6 5 4] [1 3 6 ... 3 2 8]\n",
      "Iteration 1 : 0.060198412698412695\n",
      "[8 2 9 ... 1 8 8] [1 3 6 ... 3 2 8]\n",
      "Iteration 20 : 0.30583333333333335\n",
      "[2 2 9 ... 1 6 6] [1 3 6 ... 3 2 8]\n",
      "Iteration 40 : 0.41845238095238096\n",
      "[2 2 9 ... 1 6 2] [1 3 6 ... 3 2 8]\n",
      "Iteration 60 : 0.4957142857142857\n",
      "[2 2 9 ... 1 6 2] [1 3 6 ... 3 2 8]\n",
      "Iteration 80 : 0.5635714285714286\n",
      "[2 2 9 ... 1 6 2] [1 3 6 ... 3 2 8]\n",
      "Iteration 100 : 0.6171031746031747\n",
      "[2 3 4 ... 1 6 2] [1 3 6 ... 3 2 8]\n",
      "Iteration 120 : 0.6608730158730158\n",
      "[2 3 4 ... 3 6 2] [1 3 6 ... 3 2 8]\n",
      "Iteration 140 : 0.6932936507936508\n",
      "[2 3 4 ... 3 6 2] [1 3 6 ... 3 2 8]\n",
      "Iteration 160 : 0.719484126984127\n",
      "[2 3 4 ... 3 6 2] [1 3 6 ... 3 2 8]\n",
      "Iteration 180 : 0.7394047619047619\n",
      "[2 3 4 ... 3 6 2] [1 3 6 ... 3 2 8]\n",
      "Iteration 200 : 0.7542063492063492\n",
      "[1 3 4 ... 3 6 8] [1 3 6 ... 3 2 8]\n",
      "Iteration 220 : 0.7674603174603175\n",
      "[1 3 4 ... 3 6 8] [1 3 6 ... 3 2 8]\n",
      "Iteration 240 : 0.7776587301587301\n",
      "[1 3 4 ... 3 2 8] [1 3 6 ... 3 2 8]\n",
      "Iteration 260 : 0.786984126984127\n",
      "[1 3 4 ... 3 2 8] [1 3 6 ... 3 2 8]\n",
      "Iteration 280 : 0.7965873015873016\n",
      "[1 3 4 ... 3 2 8] [1 3 6 ... 3 2 8]\n",
      "Iteration 300 : 0.8033333333333333\n",
      "[1 3 4 ... 3 2 8] [1 3 6 ... 3 2 8]\n",
      "Iteration 320 : 0.8090079365079365\n",
      "[1 3 4 ... 3 2 8] [1 3 6 ... 3 2 8]\n",
      "Iteration 340 : 0.8150396825396825\n",
      "[1 3 4 ... 3 2 8] [1 3 6 ... 3 2 8]\n",
      "Iteration 360 : 0.8209920634920634\n",
      "[1 3 4 ... 3 2 8] [1 3 6 ... 3 2 8]\n",
      "Iteration 380 : 0.8258333333333333\n",
      "[1 3 4 ... 3 2 8] [1 3 6 ... 3 2 8]\n",
      "Iteration 400 : 0.8301190476190476\n",
      "[1 3 4 ... 3 2 8] [1 3 6 ... 3 2 8]\n",
      "Iteration 420 : 0.834047619047619\n",
      "[1 3 4 ... 3 2 8] [1 3 6 ... 3 2 8]\n",
      "Iteration 440 : 0.8374206349206349\n",
      "[1 3 4 ... 3 2 8] [1 3 6 ... 3 2 8]\n",
      "Iteration 460 : 0.841031746031746\n",
      "[1 3 4 ... 3 2 8] [1 3 6 ... 3 2 8]\n",
      "Iteration 480 : 0.8438095238095238\n",
      "[1 3 4 ... 3 2 8] [1 3 6 ... 3 2 8]\n",
      "Iteration 500 : 0.8460714285714286\n"
     ]
    },
    {
     "data": {
      "image/png": "[encoded data removed]",
      "text/plain": [
       "<Figure size 640x480 with 1 Axes>"
      ]
     },
     "metadata": {},
     "output_type": "display_data"
    }
   ],
   "source": [
    "def get_predictions(A2):\n",
    "    return np.argmax(A2, axis = 0) \n",
    "    # argmax for a 10 x m matrix (A2, result of SoftMax)\n",
    "    # this converts our Softmax probability distribution into predictions\n",
    "    # using axis 0, we look at the maximum of each column and return the **INDEX**, which is 0 based.\n",
    "   \n",
    "def accuracy(predictions, Y):\n",
    "    print(predictions, Y)\n",
    "    return np.sum(predictions == Y) / Y.size\n",
    "    # thank you Data 8 for encoding this formula into my head\n",
    "\n",
    "def train_gradient_descent(X, Y, alpha, iterations):\n",
    "    W1, b1, W2, b2 = init_parameters()\n",
    "    accuracy_arr = []\n",
    "    #print(\"init: \", W1, b1, W2, b2)\n",
    "    for i in range(1, iterations+1): \n",
    "        Z1, A1, Z2, A2 = forward_propagation(W1, b1, W2, b2, X)\n",
    "        #print(\"forward: \", Z1, A1, Z2, A2) *testing\n",
    "        #print(A2.shape)\n",
    "        dW1, db1, dW2, db2  = back_propagation(Z1, A1, Z2, A2, W2, X, Y)\n",
    "        #print(\"back: \", dW1, db1, dW2, db2)\n",
    "        W1, b1, W2, b2 = adjust_parameters(W1, b1, W2, b2, dW1, db1, dW2, db2, alpha)\n",
    "        #print(\"adj: \", W1, b1, W2, b2)\n",
    "        \n",
    "        if i % 20 == 0 or i == 1: \n",
    "            predictions = get_predictions(A2)\n",
    "            acc = accuracy(predictions, Y)\n",
    "            print(f\"Iteration {i} : {acc}\")\n",
    "            accuracy_arr.append(acc)\n",
    "            \n",
    "    # plot accuracy over iterations \n",
    "    plt.plot(np.arange(0,iterations + 1, 20), np.array(accuracy_arr) * 100)\n",
    "    plt.xlabel(\"Number of Iterations\")\n",
    "    plt.ylabel(\"Accuracy\")\n",
    "    plt.title(\"Accuracy Over Number of Backpropagations\")\n",
    "    return W1, b1, W2, b2,\n",
    "\n",
    "W1, b1, W2, b2 = train_gradient_descent(x_train, y_train, 0.15, 500)\n"
   ]
  },
  {
   "cell_type": "markdown",
   "id": "70d10980",
   "metadata": {
    "papermill": {
     "duration": 0.009791,
     "end_time": "2025-02-09T05:38:13.091264",
     "exception": false,
     "start_time": "2025-02-09T05:38:13.081473",
     "status": "completed"
    },
    "tags": []
   },
   "source": [
    "Accuracy of ~80-81% for 500 iterations at a learning rate of 15%"
   ]
  },
  {
   "cell_type": "markdown",
   "id": "b52bc64a",
   "metadata": {
    "papermill": {
     "duration": 0.008483,
     "end_time": "2025-02-09T05:38:13.108634",
     "exception": false,
     "start_time": "2025-02-09T05:38:13.100151",
     "status": "completed"
    },
    "tags": []
   },
   "source": [
    "# Results with Testing: \n",
    "Now I will write a method to get the single prediction for any image, so that we can see some results by plotting. "
   ]
  },
  {
   "cell_type": "code",
   "execution_count": 10,
   "id": "e81fd15c",
   "metadata": {
    "execution": {
     "iopub.execute_input": "2025-02-09T05:38:13.127895Z",
     "iopub.status.busy": "2025-02-09T05:38:13.127553Z",
     "iopub.status.idle": "2025-02-09T05:38:13.147895Z",
     "shell.execute_reply": "2025-02-09T05:38:13.146827Z"
    },
    "papermill": {
     "duration": 0.03186,
     "end_time": "2025-02-09T05:38:13.149669",
     "exception": false,
     "start_time": "2025-02-09T05:38:13.117809",
     "status": "completed"
    },
    "tags": []
   },
   "outputs": [
    {
     "data": {
      "text/plain": [
       "0"
      ]
     },
     "execution_count": 10,
     "metadata": {},
     "output_type": "execute_result"
    }
   ],
   "source": [
    "def get_single_prediction(W1, b1, W2, b2, X, index): \n",
    "    _, _, _, A2 = forward_propagation(W1, b1, W2, b2, X)\n",
    "    predictions = get_predictions(A2)\n",
    "    # print(predictions)\n",
    "    return predictions[index]  \n",
    "p = get_single_prediction(W1, b1, W2, b2, x_test, 0) # this should return 5 as the predicted value    \n",
    "p"
   ]
  },
  {
   "cell_type": "markdown",
   "id": "c0d43082",
   "metadata": {
    "papermill": {
     "duration": 0.008723,
     "end_time": "2025-02-09T05:38:13.167549",
     "exception": false,
     "start_time": "2025-02-09T05:38:13.158826",
     "status": "completed"
    },
    "tags": []
   },
   "source": [
    "I'm gonna now going to convert our x_test, y_test (pixels and labels) into numpy arrays, then display some examples using matplotlib. "
   ]
  },
  {
   "cell_type": "code",
   "execution_count": 11,
   "id": "ca304645",
   "metadata": {
    "execution": {
     "iopub.execute_input": "2025-02-09T05:38:13.187302Z",
     "iopub.status.busy": "2025-02-09T05:38:13.186925Z",
     "iopub.status.idle": "2025-02-09T05:38:13.370869Z",
     "shell.execute_reply": "2025-02-09T05:38:13.369872Z"
    },
    "papermill": {
     "duration": 0.195578,
     "end_time": "2025-02-09T05:38:13.372617",
     "exception": false,
     "start_time": "2025-02-09T05:38:13.177039",
     "status": "completed"
    },
    "tags": []
   },
   "outputs": [
    {
     "name": "stdout",
     "output_type": "stream",
     "text": [
      "Predicted: 0, Actual: 0\n"
     ]
    },
    {
     "data": {
      "image/png": "[encoded data removed]",
      "text/plain": [
       "<Figure size 640x480 with 1 Axes>"
      ]
     },
     "metadata": {},
     "output_type": "display_data"
    }
   ],
   "source": [
    "image_size = 28 # 28 x 28\n",
    "number_row = 0\n",
    "# the testing section is about 40% of the remaining data shuffled \n",
    "# forgot we actually transposed it before, so undo that by tranposing again\n",
    "def plot(image_size, number_row, x_test, y_test, p):\n",
    "    pixel_array = x_test.T[number_row] # pixel column as 1d array for the row chosen\n",
    "    pixel_matrix = pixel_array.reshape(image_size, image_size) #reshape into 28 x 28 matrix\n",
    "    print(f\"Predicted: {p}, Actual: {y_test[number_row]}\") # muah f strings \n",
    "    plt.imshow(pixel_matrix) # this is an image of the actual value \n",
    "\n",
    "plot(image_size, number_row, x_test, y_test, p)"
   ]
  },
  {
   "cell_type": "markdown",
   "id": "cc69bb05",
   "metadata": {
    "papermill": {
     "duration": 0.008902,
     "end_time": "2025-02-09T05:38:13.390979",
     "exception": false,
     "start_time": "2025-02-09T05:38:13.382077",
     "status": "completed"
    },
    "tags": []
   },
   "source": [
    "Lets do a few more to see what the first 5 predictions look like "
   ]
  },
  {
   "cell_type": "code",
   "execution_count": 12,
   "id": "af7ca14d",
   "metadata": {
    "execution": {
     "iopub.execute_input": "2025-02-09T05:38:13.410819Z",
     "iopub.status.busy": "2025-02-09T05:38:13.410466Z",
     "iopub.status.idle": "2025-02-09T05:38:13.602804Z",
     "shell.execute_reply": "2025-02-09T05:38:13.601727Z"
    },
    "papermill": {
     "duration": 0.204288,
     "end_time": "2025-02-09T05:38:13.604605",
     "exception": false,
     "start_time": "2025-02-09T05:38:13.400317",
     "status": "completed"
    },
    "tags": []
   },
   "outputs": [
    {
     "name": "stdout",
     "output_type": "stream",
     "text": [
      "Predicted: 0, Actual: 0\n"
     ]
    },
    {
     "data": {
      "image/png": "[encoded data removed]",
      "text/plain": [
       "<Figure size 640x480 with 1 Axes>"
      ]
     },
     "metadata": {},
     "output_type": "display_data"
    }
   ],
   "source": [
    "p = get_single_prediction(W1, b1, W2, b2, x_test, 1)\n",
    "plot(image_size, 1, x_test, y_test, p)"
   ]
  },
  {
   "cell_type": "code",
   "execution_count": 13,
   "id": "5dbbb0bd",
   "metadata": {
    "execution": {
     "iopub.execute_input": "2025-02-09T05:38:13.625317Z",
     "iopub.status.busy": "2025-02-09T05:38:13.624928Z",
     "iopub.status.idle": "2025-02-09T05:38:13.826475Z",
     "shell.execute_reply": "2025-02-09T05:38:13.825433Z"
    },
    "papermill": {
     "duration": 0.213519,
     "end_time": "2025-02-09T05:38:13.828016",
     "exception": false,
     "start_time": "2025-02-09T05:38:13.614497",
     "status": "completed"
    },
    "tags": []
   },
   "outputs": [
    {
     "name": "stdout",
     "output_type": "stream",
     "text": [
      "Predicted: 6, Actual: 6\n"
     ]
    },
    {
     "data": {
      "image/png": "[encoded data removed]",
      "text/plain": [
       "<Figure size 640x480 with 1 Axes>"
      ]
     },
     "metadata": {},
     "output_type": "display_data"
    }
   ],
   "source": [
    "p = get_single_prediction(W1, b1, W2, b2, x_test, 2)\n",
    "plot(image_size, 2, x_test, y_test, p)"
   ]
  },
  {
   "cell_type": "code",
   "execution_count": 14,
   "id": "5b443c6a",
   "metadata": {
    "_kg_hide-input": true,
    "execution": {
     "iopub.execute_input": "2025-02-09T05:38:13.849281Z",
     "iopub.status.busy": "2025-02-09T05:38:13.848901Z",
     "iopub.status.idle": "2025-02-09T05:38:14.048833Z",
     "shell.execute_reply": "2025-02-09T05:38:14.047724Z"
    },
    "papermill": {
     "duration": 0.212522,
     "end_time": "2025-02-09T05:38:14.050602",
     "exception": false,
     "start_time": "2025-02-09T05:38:13.838080",
     "status": "completed"
    },
    "tags": []
   },
   "outputs": [
    {
     "name": "stdout",
     "output_type": "stream",
     "text": [
      "Predicted: 7, Actual: 9\n"
     ]
    },
    {
     "data": {
      "image/png": "[encoded data removed]",
      "text/plain": [
       "<Figure size 640x480 with 1 Axes>"
      ]
     },
     "metadata": {},
     "output_type": "display_data"
    }
   ],
   "source": [
    "p = get_single_prediction(W1, b1, W2, b2, x_test, 3)\n",
    "plot(image_size, 3, x_test, y_test, p)"
   ]
  },
  {
   "cell_type": "code",
   "execution_count": 15,
   "id": "b5c0dcb5",
   "metadata": {
    "execution": {
     "iopub.execute_input": "2025-02-09T05:38:14.072902Z",
     "iopub.status.busy": "2025-02-09T05:38:14.072569Z",
     "iopub.status.idle": "2025-02-09T05:38:14.274653Z",
     "shell.execute_reply": "2025-02-09T05:38:14.273477Z"
    },
    "papermill": {
     "duration": 0.214782,
     "end_time": "2025-02-09T05:38:14.276193",
     "exception": false,
     "start_time": "2025-02-09T05:38:14.061411",
     "status": "completed"
    },
    "tags": []
   },
   "outputs": [
    {
     "name": "stdout",
     "output_type": "stream",
     "text": [
      "Predicted: 7, Actual: 7\n"
     ]
    },
    {
     "data": {
      "image/png": "[encoded data removed]",
      "text/plain": [
       "<Figure size 640x480 with 1 Axes>"
      ]
     },
     "metadata": {},
     "output_type": "display_data"
    }
   ],
   "source": [
    "p = get_single_prediction(W1, b1, W2, b2, x_test, 4)\n",
    "plot(image_size, 4, x_test, y_test, p)"
   ]
  },
  {
   "cell_type": "code",
   "execution_count": 16,
   "id": "aca39182",
   "metadata": {
    "_kg_hide-input": true,
    "execution": {
     "iopub.execute_input": "2025-02-09T05:38:14.298405Z",
     "iopub.status.busy": "2025-02-09T05:38:14.298019Z",
     "iopub.status.idle": "2025-02-09T05:38:14.492824Z",
     "shell.execute_reply": "2025-02-09T05:38:14.491743Z"
    },
    "papermill": {
     "duration": 0.207979,
     "end_time": "2025-02-09T05:38:14.494679",
     "exception": false,
     "start_time": "2025-02-09T05:38:14.286700",
     "status": "completed"
    },
    "tags": []
   },
   "outputs": [
    {
     "name": "stdout",
     "output_type": "stream",
     "text": [
      "Predicted: 7, Actual: 7\n"
     ]
    },
    {
     "data": {
      "image/png": "[encoded data removed]",
      "text/plain": [
       "<Figure size 640x480 with 1 Axes>"
      ]
     },
     "metadata": {},
     "output_type": "display_data"
    }
   ],
   "source": [
    "p = get_single_prediction(W1, b1, W2, b2, x_test, 5)\n",
    "plot(image_size, 5, x_test, y_test, p)"
   ]
  },
  {
   "cell_type": "markdown",
   "id": "1966757c",
   "metadata": {
    "papermill": {
     "duration": 0.010443,
     "end_time": "2025-02-09T05:38:14.516201",
     "exception": false,
     "start_time": "2025-02-09T05:38:14.505758",
     "status": "completed"
    },
    "tags": []
   },
   "source": [
    "# Conclusion and Acknowledgements: \n",
    "For the derivations of the partial derivatives with respect to the matricies here are some useful videos:\n",
    "\n",
    "1. https://youtu.be/f-nW8cSa_Ec?si=3zQW1QK-63bRiUC7\n",
    "2. https://youtu.be/URJ9pP1aURo\n",
    "3. [3b1b's neural network playlist for singular nodes](https://www.youtube.com/watch?v=tIeHLnjs5U8&list=PLZHQObOWTQDNU6R1_67000Dx_ZCJB-3pi&index=4)\n"
   ]
  }
 ],
 "metadata": {
  "kaggle": {
   "accelerator": "none",
   "dataSources": [
    {
     "datasetId": 3147,
     "sourceId": 5196,
     "sourceType": "datasetVersion"
    },
    {
     "datasetId": 1396483,
     "sourceId": 2314159,
     "sourceType": "datasetVersion"
    }
   ],
   "dockerImageVersionId": 30839,
   "isGpuEnabled": false,
   "isInternetEnabled": false,
   "language": "python",
   "sourceType": "notebook"
  },
  "kernelspec": {
   "display_name": "Python 3",
   "language": "python",
   "name": "python3"
  },
  "language_info": {
   "codemirror_mode": {
    "name": "ipython",
    "version": 3
   },
   "file_extension": ".py",
   "mimetype": "text/x-python",
   "name": "python",
   "nbconvert_exporter": "python",
   "pygments_lexer": "ipython3",
   "version": "3.10.12"
  },
  "papermill": {
   "default_parameters": {},
   "duration": 34.089438,
   "end_time": "2025-02-09T05:38:15.247336",
   "environment_variables": {},
   "exception": null,
   "input_path": "__notebook__.ipynb",
   "output_path": "__notebook__.ipynb",
   "parameters": {},
   "start_time": "2025-02-09T05:37:41.157898",
   "version": "2.6.0"
  }
 },
 "nbformat": 4,
 "nbformat_minor": 5
}
