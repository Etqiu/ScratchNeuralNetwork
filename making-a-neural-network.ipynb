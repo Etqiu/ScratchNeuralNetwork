{
 "cells": [
  {
   "cell_type": "markdown",
   "id": "c83b0567",
   "metadata": {
    "papermill": {
     "duration": 0.003428,
     "end_time": "2025-02-07T07:24:27.383272",
     "exception": false,
     "start_time": "2025-02-07T07:24:27.379844",
     "status": "completed"
    },
    "tags": []
   },
   "source": [
    "# Making A Neural Network From Scratch:\n",
    "\n",
    "**Goal**: To implement a neural network using only numPy that has a one hidden layer and one output layer. We can then train our neural network on the MNIST data-set, and test it to see our accuracy. "
   ]
  },
  {
   "cell_type": "code",
   "execution_count": 1,
   "id": "e5dd4ec0",
   "metadata": {
    "_cell_guid": "b1076dfc-b9ad-4769-8c92-a6c4dae69d19",
    "_uuid": "8f2839f25d086af736a60e9eeb907d3b93b6e0e5",
    "execution": {
     "iopub.execute_input": "2025-02-07T07:24:27.390881Z",
     "iopub.status.busy": "2025-02-07T07:24:27.390451Z",
     "iopub.status.idle": "2025-02-07T07:24:29.945572Z",
     "shell.execute_reply": "2025-02-07T07:24:29.944081Z"
    },
    "papermill": {
     "duration": 2.560891,
     "end_time": "2025-02-07T07:24:29.947368",
     "exception": false,
     "start_time": "2025-02-07T07:24:27.386477",
     "status": "completed"
    },
    "tags": []
   },
   "outputs": [
    {
     "name": "stdout",
     "output_type": "stream",
     "text": [
      "/kaggle/input/chinese-mnist-digit-recognizer/chineseMNIST.csv\n",
      "/kaggle/input/mnist-digit-recognizer/train.csv\n"
     ]
    }
   ],
   "source": [
    "# This Python 3 environment comes with many helpful analytics libraries installed\n",
    "# It is defined by the kaggle/python Docker image: https://github.com/kaggle/docker-python\n",
    "# For example, here's several helpful packages to load\n",
    "\n",
    "import numpy as np # linear algebra\n",
    "import pandas as pd # data processing, CSV file I/O (e.g. pd.read_csv)\n",
    "from matplotlib import pyplot as plt\n",
    "from sklearn.model_selection import train_test_split\n",
    "# Input data files are available in the read-only \"../input/\" directory\n",
    "# For example, running this (by clicking run or pressing Shift+Enter) will list all files under the input directory\n",
    "\n",
    "import os\n",
    "for dirname, _, filenames in os.walk('/kaggle/input'):\n",
    "    for filename in filenames:\n",
    "        print(os.path.join(dirname, filename))\n",
    "\n",
    "# You can write up to 20GB to the current directory (/kaggle/working/) that gets preserved as output when you create a version using \"Save & Run All\" \n",
    "# You can also write temporary files to /kaggle/temp/, but they won't be saved outside of the current session"
   ]
  },
  {
   "cell_type": "markdown",
   "id": "c2f2fd8e",
   "metadata": {
    "papermill": {
     "duration": 0.004342,
     "end_time": "2025-02-07T07:24:29.954976",
     "exception": false,
     "start_time": "2025-02-07T07:24:29.950634",
     "status": "completed"
    },
    "tags": []
   },
   "source": [
    "I'm going to first import the mnist digits in csv form, every row represents an image and every column, a pixel, with the first column being the label of the number."
   ]
  },
  {
   "cell_type": "code",
   "execution_count": 2,
   "id": "689a4ca0",
   "metadata": {
    "execution": {
     "iopub.execute_input": "2025-02-07T07:24:29.962886Z",
     "iopub.status.busy": "2025-02-07T07:24:29.962352Z",
     "iopub.status.idle": "2025-02-07T07:24:33.490747Z",
     "shell.execute_reply": "2025-02-07T07:24:33.489675Z"
    },
    "papermill": {
     "duration": 3.533883,
     "end_time": "2025-02-07T07:24:33.492392",
     "exception": false,
     "start_time": "2025-02-07T07:24:29.958509",
     "status": "completed"
    },
    "tags": []
   },
   "outputs": [
    {
     "data": {
      "text/html": [
       "<div>\n",
       "<style scoped>\n",
       "    .dataframe tbody tr th:only-of-type {\n",
       "        vertical-align: middle;\n",
       "    }\n",
       "\n",
       "    .dataframe tbody tr th {\n",
       "        vertical-align: top;\n",
       "    }\n",
       "\n",
       "    .dataframe thead th {\n",
       "        text-align: right;\n",
       "    }\n",
       "</style>\n",
       "<table border=\"1\" class=\"dataframe\">\n",
       "  <thead>\n",
       "    <tr style=\"text-align: right;\">\n",
       "      <th></th>\n",
       "      <th>label</th>\n",
       "      <th>pixel0</th>\n",
       "      <th>pixel1</th>\n",
       "      <th>pixel2</th>\n",
       "      <th>pixel3</th>\n",
       "      <th>pixel4</th>\n",
       "      <th>pixel5</th>\n",
       "      <th>pixel6</th>\n",
       "      <th>pixel7</th>\n",
       "      <th>pixel8</th>\n",
       "      <th>...</th>\n",
       "      <th>pixel774</th>\n",
       "      <th>pixel775</th>\n",
       "      <th>pixel776</th>\n",
       "      <th>pixel777</th>\n",
       "      <th>pixel778</th>\n",
       "      <th>pixel779</th>\n",
       "      <th>pixel780</th>\n",
       "      <th>pixel781</th>\n",
       "      <th>pixel782</th>\n",
       "      <th>pixel783</th>\n",
       "    </tr>\n",
       "  </thead>\n",
       "  <tbody>\n",
       "    <tr>\n",
       "      <th>0</th>\n",
       "      <td>1</td>\n",
       "      <td>0</td>\n",
       "      <td>0</td>\n",
       "      <td>0</td>\n",
       "      <td>0</td>\n",
       "      <td>0</td>\n",
       "      <td>0</td>\n",
       "      <td>0</td>\n",
       "      <td>0</td>\n",
       "      <td>0</td>\n",
       "      <td>...</td>\n",
       "      <td>0</td>\n",
       "      <td>0</td>\n",
       "      <td>0</td>\n",
       "      <td>0</td>\n",
       "      <td>0</td>\n",
       "      <td>0</td>\n",
       "      <td>0</td>\n",
       "      <td>0</td>\n",
       "      <td>0</td>\n",
       "      <td>0</td>\n",
       "    </tr>\n",
       "    <tr>\n",
       "      <th>1</th>\n",
       "      <td>0</td>\n",
       "      <td>0</td>\n",
       "      <td>0</td>\n",
       "      <td>0</td>\n",
       "      <td>0</td>\n",
       "      <td>0</td>\n",
       "      <td>0</td>\n",
       "      <td>0</td>\n",
       "      <td>0</td>\n",
       "      <td>0</td>\n",
       "      <td>...</td>\n",
       "      <td>0</td>\n",
       "      <td>0</td>\n",
       "      <td>0</td>\n",
       "      <td>0</td>\n",
       "      <td>0</td>\n",
       "      <td>0</td>\n",
       "      <td>0</td>\n",
       "      <td>0</td>\n",
       "      <td>0</td>\n",
       "      <td>0</td>\n",
       "    </tr>\n",
       "    <tr>\n",
       "      <th>2</th>\n",
       "      <td>1</td>\n",
       "      <td>0</td>\n",
       "      <td>0</td>\n",
       "      <td>0</td>\n",
       "      <td>0</td>\n",
       "      <td>0</td>\n",
       "      <td>0</td>\n",
       "      <td>0</td>\n",
       "      <td>0</td>\n",
       "      <td>0</td>\n",
       "      <td>...</td>\n",
       "      <td>0</td>\n",
       "      <td>0</td>\n",
       "      <td>0</td>\n",
       "      <td>0</td>\n",
       "      <td>0</td>\n",
       "      <td>0</td>\n",
       "      <td>0</td>\n",
       "      <td>0</td>\n",
       "      <td>0</td>\n",
       "      <td>0</td>\n",
       "    </tr>\n",
       "    <tr>\n",
       "      <th>3</th>\n",
       "      <td>4</td>\n",
       "      <td>0</td>\n",
       "      <td>0</td>\n",
       "      <td>0</td>\n",
       "      <td>0</td>\n",
       "      <td>0</td>\n",
       "      <td>0</td>\n",
       "      <td>0</td>\n",
       "      <td>0</td>\n",
       "      <td>0</td>\n",
       "      <td>...</td>\n",
       "      <td>0</td>\n",
       "      <td>0</td>\n",
       "      <td>0</td>\n",
       "      <td>0</td>\n",
       "      <td>0</td>\n",
       "      <td>0</td>\n",
       "      <td>0</td>\n",
       "      <td>0</td>\n",
       "      <td>0</td>\n",
       "      <td>0</td>\n",
       "    </tr>\n",
       "    <tr>\n",
       "      <th>4</th>\n",
       "      <td>0</td>\n",
       "      <td>0</td>\n",
       "      <td>0</td>\n",
       "      <td>0</td>\n",
       "      <td>0</td>\n",
       "      <td>0</td>\n",
       "      <td>0</td>\n",
       "      <td>0</td>\n",
       "      <td>0</td>\n",
       "      <td>0</td>\n",
       "      <td>...</td>\n",
       "      <td>0</td>\n",
       "      <td>0</td>\n",
       "      <td>0</td>\n",
       "      <td>0</td>\n",
       "      <td>0</td>\n",
       "      <td>0</td>\n",
       "      <td>0</td>\n",
       "      <td>0</td>\n",
       "      <td>0</td>\n",
       "      <td>0</td>\n",
       "    </tr>\n",
       "  </tbody>\n",
       "</table>\n",
       "<p>5 rows × 785 columns</p>\n",
       "</div>"
      ],
      "text/plain": [
       "   label  pixel0  pixel1  pixel2  pixel3  pixel4  pixel5  pixel6  pixel7  \\\n",
       "0      1       0       0       0       0       0       0       0       0   \n",
       "1      0       0       0       0       0       0       0       0       0   \n",
       "2      1       0       0       0       0       0       0       0       0   \n",
       "3      4       0       0       0       0       0       0       0       0   \n",
       "4      0       0       0       0       0       0       0       0       0   \n",
       "\n",
       "   pixel8  ...  pixel774  pixel775  pixel776  pixel777  pixel778  pixel779  \\\n",
       "0       0  ...         0         0         0         0         0         0   \n",
       "1       0  ...         0         0         0         0         0         0   \n",
       "2       0  ...         0         0         0         0         0         0   \n",
       "3       0  ...         0         0         0         0         0         0   \n",
       "4       0  ...         0         0         0         0         0         0   \n",
       "\n",
       "   pixel780  pixel781  pixel782  pixel783  \n",
       "0         0         0         0         0  \n",
       "1         0         0         0         0  \n",
       "2         0         0         0         0  \n",
       "3         0         0         0         0  \n",
       "4         0         0         0         0  \n",
       "\n",
       "[5 rows x 785 columns]"
      ]
     },
     "execution_count": 2,
     "metadata": {},
     "output_type": "execute_result"
    }
   ],
   "source": [
    "df = pd.read_csv(\"/kaggle/input/mnist-digit-recognizer/train.csv\")\n",
    "df.head()"
   ]
  },
  {
   "cell_type": "code",
   "execution_count": 3,
   "id": "d8028d4b",
   "metadata": {
    "execution": {
     "iopub.execute_input": "2025-02-07T07:24:33.500605Z",
     "iopub.status.busy": "2025-02-07T07:24:33.500253Z",
     "iopub.status.idle": "2025-02-07T07:24:33.505873Z",
     "shell.execute_reply": "2025-02-07T07:24:33.504888Z"
    },
    "papermill": {
     "duration": 0.011268,
     "end_time": "2025-02-07T07:24:33.507323",
     "exception": false,
     "start_time": "2025-02-07T07:24:33.496055",
     "status": "completed"
    },
    "tags": []
   },
   "outputs": [
    {
     "data": {
      "text/plain": [
       "(42000, 785)"
      ]
     },
     "execution_count": 3,
     "metadata": {},
     "output_type": "execute_result"
    }
   ],
   "source": [
    "df.shape # rows show how many pictures there are in the csv "
   ]
  },
  {
   "cell_type": "markdown",
   "id": "3e2f5b94",
   "metadata": {
    "papermill": {
     "duration": 0.003194,
     "end_time": "2025-02-07T07:24:33.514090",
     "exception": false,
     "start_time": "2025-02-07T07:24:33.510896",
     "status": "completed"
    },
    "tags": []
   },
   "source": [
    "We are going to convert this DataFrame into a np.array, and use test_train_split() by sklearn. Then we want to take the **tranpose** of each array so that each array is actually an individual picture (which will be one of the 784 nodes)."
   ]
  },
  {
   "cell_type": "code",
   "execution_count": 4,
   "id": "d2942a2e",
   "metadata": {
    "execution": {
     "iopub.execute_input": "2025-02-07T07:24:33.522004Z",
     "iopub.status.busy": "2025-02-07T07:24:33.521645Z",
     "iopub.status.idle": "2025-02-07T07:24:34.076695Z",
     "shell.execute_reply": "2025-02-07T07:24:34.075677Z"
    },
    "papermill": {
     "duration": 0.560963,
     "end_time": "2025-02-07T07:24:34.078375",
     "exception": false,
     "start_time": "2025-02-07T07:24:33.517412",
     "status": "completed"
    },
    "tags": []
   },
   "outputs": [
    {
     "data": {
      "text/plain": [
       "(784,)"
      ]
     },
     "metadata": {},
     "output_type": "display_data"
    },
    {
     "data": {
      "text/plain": [
       "16800"
      ]
     },
     "metadata": {},
     "output_type": "display_data"
    },
    {
     "data": {
      "text/plain": [
       "array([[5, 6, 9, ..., 5, 9, 8]])"
      ]
     },
     "metadata": {},
     "output_type": "display_data"
    },
    {
     "data": {
      "text/plain": [
       "array([[6, 2, 3, ..., 3, 0, 5]])"
      ]
     },
     "metadata": {},
     "output_type": "display_data"
    }
   ],
   "source": [
    "x_train, x_test, y_train, y_test = train_test_split(np.array(df.iloc[:, 1:]), np.array(df[['label']]), test_size = .4)\n",
    "x_train, x_test, y_train, y_test = x_train.T, x_test.T, y_train.T, y_test.T \n",
    "display(x_train[:, 0].shape, len(x_test[0]), y_train, y_test) # check configs\n",
    "# n_xtrain (rows of pixels) = 784, m_xtrain (columns of items) = train/split"
   ]
  },
  {
   "cell_type": "markdown",
   "id": "7f4afc4f",
   "metadata": {
    "papermill": {
     "duration": 0.003455,
     "end_time": "2025-02-07T07:24:34.085704",
     "exception": false,
     "start_time": "2025-02-07T07:24:34.082249",
     "status": "completed"
    },
    "tags": []
   },
   "source": [
    "**Note**: Basically we want to make the train set an nxm matrix so we can left multiply it by a weight matrix to move from Rm -> R10 (10 is an arbitrary number for the first layer but makes computation easier). This will help to compute a linear combination with the weights and nodes "
   ]
  },
  {
   "cell_type": "markdown",
   "id": "05ac6bd2",
   "metadata": {
    "papermill": {
     "duration": 0.003428,
     "end_time": "2025-02-07T07:24:34.092645",
     "exception": false,
     "start_time": "2025-02-07T07:24:34.089217",
     "status": "completed"
    },
    "tags": []
   },
   "source": [
    "# Initialization and Forward Propagation: \n",
    "1. weights\n",
    "2. biases \n",
    "3. arrays for each layer:\n",
    "    * input layer\n",
    "    * first reLU layer (a function applied to each node)\n",
    "    * second output layer (which will also have a softmax to find a probability distribution of numbers)\n",
    "4. Make forward propagation \n",
    "\n",
    "We are also going to start with random weights and biases. Below is a diagram in LaTeX explaining the matrix multiplcation, where matrix $B$ is our input layer tranposed multiplied by our $A$ matrix, and the biases being added as matrix $C$. The result will be a $10 * m$ matrix, where $m$ is the number of training pictures.\n",
    "\n"
   ]
  },
  {
   "cell_type": "markdown",
   "id": "0c57ed0a",
   "metadata": {
    "papermill": {
     "duration": 0.003328,
     "end_time": "2025-02-07T07:24:34.099437",
     "exception": false,
     "start_time": "2025-02-07T07:24:34.096109",
     "status": "completed"
    },
    "tags": []
   },
   "source": [
    "\n",
    "\n",
    "$$\\begin{bmatrix}\n",
    "a_{11} & a_{12} & \\cdots & a_{1,784} \\\\\n",
    "a_{21} & a_{22} & \\cdots & a_{2,784} \\\\\n",
    "\\vdots & \\vdots & \\ddots & \\vdots \\\\\n",
    "a_{10,1} & a_{10,2} & \\cdots & a_{10,784}\n",
    "\\end{bmatrix}\n",
    "\\times\n",
    "\\begin{bmatrix}\n",
    "b_{11} & b_{12} & \\cdots & b_{1m} \\\\\n",
    "b_{21} & b_{22} & \\cdots & b_{2m} \\\\\n",
    "\\vdots & \\vdots & \\ddots & \\vdots \\\\\n",
    "b_{784,1} & b_{784,2} & \\cdots & b_{784,m}\n",
    "\\end{bmatrix}\n",
    "+\n",
    "\\begin{bmatrix}\n",
    "c_{11} & c_{12} & \\cdots & c_{1m} \\\\\n",
    "c_{21} & c_{22} & \\cdots & c_{2m} \\\\\n",
    "\\vdots & \\vdots & \\ddots & \\vdots \\\\\n",
    "c_{10,1} & c_{10,2} & \\cdots & c_{10,m}\n",
    "\\end{bmatrix}\n",
    "$$\n"
   ]
  },
  {
   "cell_type": "markdown",
   "id": "4a4d86bc",
   "metadata": {
    "papermill": {
     "duration": 0.003355,
     "end_time": "2025-02-07T07:24:34.106282",
     "exception": false,
     "start_time": "2025-02-07T07:24:34.102927",
     "status": "completed"
    },
    "tags": []
   },
   "source": [
    "Here are the softmax function and ReLU function definitions:\n",
    "\n",
    "$\n",
    "\\text{softmax}(z_i) = \\frac{e^{z_i}}{\\sum_{j=1}^n e^{z_j}}\n",
    "$\n",
    "\n",
    "where $z_i$ is the i-th element of the input vector z. The softmax function will apply this to each $z_i$.\n",
    "\n",
    "The softmax function is applied independently to each column of Z2. For a single column (logits for one image), softmax computes that equation.\n",
    "\n",
    "$\n",
    "\\text{ReLU}(x) = \\max(0, x)\n",
    "$\n"
   ]
  },
  {
   "cell_type": "code",
   "execution_count": 5,
   "id": "9c240247",
   "metadata": {
    "execution": {
     "iopub.execute_input": "2025-02-07T07:24:34.114663Z",
     "iopub.status.busy": "2025-02-07T07:24:34.114298Z",
     "iopub.status.idle": "2025-02-07T07:24:34.120916Z",
     "shell.execute_reply": "2025-02-07T07:24:34.120039Z"
    },
    "papermill": {
     "duration": 0.012654,
     "end_time": "2025-02-07T07:24:34.122412",
     "exception": false,
     "start_time": "2025-02-07T07:24:34.109758",
     "status": "completed"
    },
    "tags": []
   },
   "outputs": [],
   "source": [
    "def init_params(): \n",
    "    # populate a 10 x 784 matrix with random numbers, W1 is weight for first layer\n",
    "    W1 = np.random.rand(10, 784) \n",
    "    # continue with biases, which should be a 10x1 vector, which we will broadcast\n",
    "    # 10x1 -> 10xm so we can add the dot product + b\n",
    "    b1 = np.random.rand(10, 1) \n",
    "    # second layer weights and biases\n",
    "    W2 = np.random.rand(10, 10) \n",
    "    b2 = np.random.rand(10, 1)\n",
    "    return W1, b1, W2, b2\n",
    "def reLU(Z): # return the same sized matrix, applied reLU\n",
    "    for row in Z: \n",
    "        for i in range(row): \n",
    "            if row[i] < 0: \n",
    "                row[i] = 0;\n",
    "    return Z\n",
    "    # better solution use np.maximum(0, Z)\n",
    "def softMax(Z): # input: 10 x m matrix\n",
    "    return np.exp(Z) / np.sum(np.exp(Z)) \n",
    "    # collapses all rows to one and preserves columns\n",
    "    \n",
    "def forward_propagation(W1, b1, W2, b2, X): # X is the initial input matrix\n",
    "    # Z1 will be the resulting matrix from matrix multiplication\n",
    "    Z1 = W1.dot(X) + b1 \n",
    "    # apply reLU to change from linear combination -> non-linear function\n",
    "    A1 = ReLu(Z1)\n",
    "    Z2 = W2.dot(A1) + b2 # 10 x m\n",
    "    A2 = SoftMax(Z2)\n"
   ]
  },
  {
   "cell_type": "code",
   "execution_count": null,
   "id": "362f5ce8",
   "metadata": {
    "papermill": {
     "duration": 0.00347,
     "end_time": "2025-02-07T07:24:34.129852",
     "exception": false,
     "start_time": "2025-02-07T07:24:34.126382",
     "status": "completed"
    },
    "tags": []
   },
   "outputs": [],
   "source": []
  }
 ],
 "metadata": {
  "kaggle": {
   "accelerator": "none",
   "dataSources": [
    {
     "datasetId": 3147,
     "sourceId": 5196,
     "sourceType": "datasetVersion"
    },
    {
     "datasetId": 1396483,
     "sourceId": 2314159,
     "sourceType": "datasetVersion"
    }
   ],
   "dockerImageVersionId": 30839,
   "isGpuEnabled": false,
   "isInternetEnabled": false,
   "language": "python",
   "sourceType": "notebook"
  },
  "kernelspec": {
   "display_name": "Python 3",
   "language": "python",
   "name": "python3"
  },
  "language_info": {
   "codemirror_mode": {
    "name": "ipython",
    "version": 3
   },
   "file_extension": ".py",
   "mimetype": "text/x-python",
   "name": "python",
   "nbconvert_exporter": "python",
   "pygments_lexer": "ipython3",
   "version": "3.10.12"
  },
  "papermill": {
   "default_parameters": {},
   "duration": 10.326315,
   "end_time": "2025-02-07T07:24:34.854045",
   "environment_variables": {},
   "exception": null,
   "input_path": "__notebook__.ipynb",
   "output_path": "__notebook__.ipynb",
   "parameters": {},
   "start_time": "2025-02-07T07:24:24.527730",
   "version": "2.6.0"
  }
 },
 "nbformat": 4,
 "nbformat_minor": 5
}
