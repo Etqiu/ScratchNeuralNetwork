{
 "cells": [
  {
   "cell_type": "markdown",
   "id": "acb3cdbe",
   "metadata": {
    "papermill": {
     "duration": 0.007773,
     "end_time": "2025-02-09T05:30:36.554791",
     "exception": false,
     "start_time": "2025-02-09T05:30:36.547018",
     "status": "completed"
    },
    "tags": []
   },
   "source": [
    "# Making A Neural Network From Scratch:\n",
    "\n",
    "**Goal**: To implement a neural network using only numPy that has two hidden layers and one output layer with two activation functions. We can then train our neural network on the MNIST data-set, and test it to see our accuracy. "
   ]
  },
  {
   "cell_type": "code",
   "execution_count": 1,
   "id": "ba5222ae",
   "metadata": {
    "_cell_guid": "b1076dfc-b9ad-4769-8c92-a6c4dae69d19",
    "_uuid": "8f2839f25d086af736a60e9eeb907d3b93b6e0e5",
    "execution": {
     "iopub.execute_input": "2025-02-09T05:30:36.568184Z",
     "iopub.status.busy": "2025-02-09T05:30:36.567812Z",
     "iopub.status.idle": "2025-02-09T05:30:39.273062Z",
     "shell.execute_reply": "2025-02-09T05:30:39.271490Z"
    },
    "papermill": {
     "duration": 2.714183,
     "end_time": "2025-02-09T05:30:39.274953",
     "exception": false,
     "start_time": "2025-02-09T05:30:36.560770",
     "status": "completed"
    },
    "tags": []
   },
   "outputs": [
    {
     "name": "stdout",
     "output_type": "stream",
     "text": [
      "/kaggle/input/mnist-digit-recognizer/train.csv\n",
      "/kaggle/input/chinese-mnist-digit-recognizer/chineseMNIST.csv\n"
     ]
    }
   ],
   "source": [
    "# This Python 3 environment comes with many helpful analytics libraries installed\n",
    "# It is defined by the kaggle/python Docker image: https://github.com/kaggle/docker-python\n",
    "# For example, here's several helpful packages to load\n",
    "\n",
    "import numpy as np # linear algebra\n",
    "import pandas as pd # data processing, CSV file I/O (e.g. pd.read_csv)\n",
    "from matplotlib import pyplot as plt\n",
    "from sklearn.model_selection import train_test_split\n",
    "# Input data files are available in the read-only \"../input/\" directory\n",
    "# For example, running this (by clicking run or pressing Shift+Enter) will list all files under the input directory\n",
    "\n",
    "import os\n",
    "for dirname, _, filenames in os.walk('/kaggle/input'):\n",
    "    for filename in filenames:\n",
    "        print(os.path.join(dirname, filename))\n",
    "\n",
    "# You can write up to 20GB to the current directory (/kaggle/working/) that gets preserved as output when you create a version using \"Save & Run All\" \n",
    "# You can also write temporary files to /kaggle/temp/, but they won't be saved outside of the current session"
   ]
  },
  {
   "cell_type": "markdown",
   "id": "6a7b6f08",
   "metadata": {
    "papermill": {
     "duration": 0.006676,
     "end_time": "2025-02-09T05:30:39.288787",
     "exception": false,
     "start_time": "2025-02-09T05:30:39.282111",
     "status": "completed"
    },
    "tags": []
   },
   "source": [
    "I'm going to first import the mnist digits in csv form, every row represents an image and every column, a pixel, with the first column being the label of the number."
   ]
  },
  {
   "cell_type": "code",
   "execution_count": 2,
   "id": "3d4ddc09",
   "metadata": {
    "execution": {
     "iopub.execute_input": "2025-02-09T05:30:39.302890Z",
     "iopub.status.busy": "2025-02-09T05:30:39.302313Z",
     "iopub.status.idle": "2025-02-09T05:30:42.922346Z",
     "shell.execute_reply": "2025-02-09T05:30:42.921158Z"
    },
    "papermill": {
     "duration": 3.629241,
     "end_time": "2025-02-09T05:30:42.924120",
     "exception": false,
     "start_time": "2025-02-09T05:30:39.294879",
     "status": "completed"
    },
    "tags": []
   },
   "outputs": [
    {
     "data": {
      "text/html": [
       "<div>\n",
       "<style scoped>\n",
       "    .dataframe tbody tr th:only-of-type {\n",
       "        vertical-align: middle;\n",
       "    }\n",
       "\n",
       "    .dataframe tbody tr th {\n",
       "        vertical-align: top;\n",
       "    }\n",
       "\n",
       "    .dataframe thead th {\n",
       "        text-align: right;\n",
       "    }\n",
       "</style>\n",
       "<table border=\"1\" class=\"dataframe\">\n",
       "  <thead>\n",
       "    <tr style=\"text-align: right;\">\n",
       "      <th></th>\n",
       "      <th>label</th>\n",
       "      <th>pixel0</th>\n",
       "      <th>pixel1</th>\n",
       "      <th>pixel2</th>\n",
       "      <th>pixel3</th>\n",
       "      <th>pixel4</th>\n",
       "      <th>pixel5</th>\n",
       "      <th>pixel6</th>\n",
       "      <th>pixel7</th>\n",
       "      <th>pixel8</th>\n",
       "      <th>...</th>\n",
       "      <th>pixel774</th>\n",
       "      <th>pixel775</th>\n",
       "      <th>pixel776</th>\n",
       "      <th>pixel777</th>\n",
       "      <th>pixel778</th>\n",
       "      <th>pixel779</th>\n",
       "      <th>pixel780</th>\n",
       "      <th>pixel781</th>\n",
       "      <th>pixel782</th>\n",
       "      <th>pixel783</th>\n",
       "    </tr>\n",
       "  </thead>\n",
       "  <tbody>\n",
       "    <tr>\n",
       "      <th>0</th>\n",
       "      <td>1</td>\n",
       "      <td>0</td>\n",
       "      <td>0</td>\n",
       "      <td>0</td>\n",
       "      <td>0</td>\n",
       "      <td>0</td>\n",
       "      <td>0</td>\n",
       "      <td>0</td>\n",
       "      <td>0</td>\n",
       "      <td>0</td>\n",
       "      <td>...</td>\n",
       "      <td>0</td>\n",
       "      <td>0</td>\n",
       "      <td>0</td>\n",
       "      <td>0</td>\n",
       "      <td>0</td>\n",
       "      <td>0</td>\n",
       "      <td>0</td>\n",
       "      <td>0</td>\n",
       "      <td>0</td>\n",
       "      <td>0</td>\n",
       "    </tr>\n",
       "    <tr>\n",
       "      <th>1</th>\n",
       "      <td>0</td>\n",
       "      <td>0</td>\n",
       "      <td>0</td>\n",
       "      <td>0</td>\n",
       "      <td>0</td>\n",
       "      <td>0</td>\n",
       "      <td>0</td>\n",
       "      <td>0</td>\n",
       "      <td>0</td>\n",
       "      <td>0</td>\n",
       "      <td>...</td>\n",
       "      <td>0</td>\n",
       "      <td>0</td>\n",
       "      <td>0</td>\n",
       "      <td>0</td>\n",
       "      <td>0</td>\n",
       "      <td>0</td>\n",
       "      <td>0</td>\n",
       "      <td>0</td>\n",
       "      <td>0</td>\n",
       "      <td>0</td>\n",
       "    </tr>\n",
       "    <tr>\n",
       "      <th>2</th>\n",
       "      <td>1</td>\n",
       "      <td>0</td>\n",
       "      <td>0</td>\n",
       "      <td>0</td>\n",
       "      <td>0</td>\n",
       "      <td>0</td>\n",
       "      <td>0</td>\n",
       "      <td>0</td>\n",
       "      <td>0</td>\n",
       "      <td>0</td>\n",
       "      <td>...</td>\n",
       "      <td>0</td>\n",
       "      <td>0</td>\n",
       "      <td>0</td>\n",
       "      <td>0</td>\n",
       "      <td>0</td>\n",
       "      <td>0</td>\n",
       "      <td>0</td>\n",
       "      <td>0</td>\n",
       "      <td>0</td>\n",
       "      <td>0</td>\n",
       "    </tr>\n",
       "    <tr>\n",
       "      <th>3</th>\n",
       "      <td>4</td>\n",
       "      <td>0</td>\n",
       "      <td>0</td>\n",
       "      <td>0</td>\n",
       "      <td>0</td>\n",
       "      <td>0</td>\n",
       "      <td>0</td>\n",
       "      <td>0</td>\n",
       "      <td>0</td>\n",
       "      <td>0</td>\n",
       "      <td>...</td>\n",
       "      <td>0</td>\n",
       "      <td>0</td>\n",
       "      <td>0</td>\n",
       "      <td>0</td>\n",
       "      <td>0</td>\n",
       "      <td>0</td>\n",
       "      <td>0</td>\n",
       "      <td>0</td>\n",
       "      <td>0</td>\n",
       "      <td>0</td>\n",
       "    </tr>\n",
       "    <tr>\n",
       "      <th>4</th>\n",
       "      <td>0</td>\n",
       "      <td>0</td>\n",
       "      <td>0</td>\n",
       "      <td>0</td>\n",
       "      <td>0</td>\n",
       "      <td>0</td>\n",
       "      <td>0</td>\n",
       "      <td>0</td>\n",
       "      <td>0</td>\n",
       "      <td>0</td>\n",
       "      <td>...</td>\n",
       "      <td>0</td>\n",
       "      <td>0</td>\n",
       "      <td>0</td>\n",
       "      <td>0</td>\n",
       "      <td>0</td>\n",
       "      <td>0</td>\n",
       "      <td>0</td>\n",
       "      <td>0</td>\n",
       "      <td>0</td>\n",
       "      <td>0</td>\n",
       "    </tr>\n",
       "  </tbody>\n",
       "</table>\n",
       "<p>5 rows × 785 columns</p>\n",
       "</div>"
      ],
      "text/plain": [
       "   label  pixel0  pixel1  pixel2  pixel3  pixel4  pixel5  pixel6  pixel7  \\\n",
       "0      1       0       0       0       0       0       0       0       0   \n",
       "1      0       0       0       0       0       0       0       0       0   \n",
       "2      1       0       0       0       0       0       0       0       0   \n",
       "3      4       0       0       0       0       0       0       0       0   \n",
       "4      0       0       0       0       0       0       0       0       0   \n",
       "\n",
       "   pixel8  ...  pixel774  pixel775  pixel776  pixel777  pixel778  pixel779  \\\n",
       "0       0  ...         0         0         0         0         0         0   \n",
       "1       0  ...         0         0         0         0         0         0   \n",
       "2       0  ...         0         0         0         0         0         0   \n",
       "3       0  ...         0         0         0         0         0         0   \n",
       "4       0  ...         0         0         0         0         0         0   \n",
       "\n",
       "   pixel780  pixel781  pixel782  pixel783  \n",
       "0         0         0         0         0  \n",
       "1         0         0         0         0  \n",
       "2         0         0         0         0  \n",
       "3         0         0         0         0  \n",
       "4         0         0         0         0  \n",
       "\n",
       "[5 rows x 785 columns]"
      ]
     },
     "execution_count": 2,
     "metadata": {},
     "output_type": "execute_result"
    }
   ],
   "source": [
    "df = pd.read_csv(\"/kaggle/input/mnist-digit-recognizer/train.csv\")\n",
    "df.head()"
   ]
  },
  {
   "cell_type": "code",
   "execution_count": 3,
   "id": "f87495a8",
   "metadata": {
    "execution": {
     "iopub.execute_input": "2025-02-09T05:30:42.938177Z",
     "iopub.status.busy": "2025-02-09T05:30:42.937831Z",
     "iopub.status.idle": "2025-02-09T05:30:42.943807Z",
     "shell.execute_reply": "2025-02-09T05:30:42.942882Z"
    },
    "papermill": {
     "duration": 0.014959,
     "end_time": "2025-02-09T05:30:42.945596",
     "exception": false,
     "start_time": "2025-02-09T05:30:42.930637",
     "status": "completed"
    },
    "tags": []
   },
   "outputs": [
    {
     "data": {
      "text/plain": [
       "(42000, 785)"
      ]
     },
     "execution_count": 3,
     "metadata": {},
     "output_type": "execute_result"
    }
   ],
   "source": [
    "df.shape # rows show how many pictures there are in the csv "
   ]
  },
  {
   "cell_type": "markdown",
   "id": "29aeefd2",
   "metadata": {
    "papermill": {
     "duration": 0.006787,
     "end_time": "2025-02-09T05:30:42.958871",
     "exception": false,
     "start_time": "2025-02-09T05:30:42.952084",
     "status": "completed"
    },
    "tags": []
   },
   "source": [
    "We are going to convert this DataFrame into a np.array, and use test_train_split() by sklearn. Then we want to take the **tranpose** of each array so that each array is actually an individual picture (which will be one of the 784 nodes)."
   ]
  },
  {
   "cell_type": "code",
   "execution_count": 4,
   "id": "0e916433",
   "metadata": {
    "execution": {
     "iopub.execute_input": "2025-02-09T05:30:42.974695Z",
     "iopub.status.busy": "2025-02-09T05:30:42.974291Z",
     "iopub.status.idle": "2025-02-09T05:30:43.547576Z",
     "shell.execute_reply": "2025-02-09T05:30:43.546630Z"
    },
    "papermill": {
     "duration": 0.583063,
     "end_time": "2025-02-09T05:30:43.549213",
     "exception": false,
     "start_time": "2025-02-09T05:30:42.966150",
     "status": "completed"
    },
    "tags": []
   },
   "outputs": [
    {
     "data": {
      "text/plain": [
       "(784,)"
      ]
     },
     "metadata": {},
     "output_type": "display_data"
    },
    {
     "data": {
      "text/plain": [
       "16800"
      ]
     },
     "metadata": {},
     "output_type": "display_data"
    },
    {
     "data": {
      "text/plain": [
       "array([[0, 0, 0, ..., 0, 0, 0],\n",
       "       [0, 0, 0, ..., 0, 0, 0],\n",
       "       [0, 0, 0, ..., 0, 0, 0],\n",
       "       ...,\n",
       "       [0, 0, 0, ..., 0, 0, 0],\n",
       "       [0, 0, 0, ..., 0, 0, 0],\n",
       "       [0, 0, 0, ..., 0, 0, 0]])"
      ]
     },
     "metadata": {},
     "output_type": "display_data"
    },
    {
     "data": {
      "text/plain": [
       "array([[5, 8, 3, ..., 3, 6, 6]])"
      ]
     },
     "metadata": {},
     "output_type": "display_data"
    },
    {
     "data": {
      "text/plain": [
       "array([[0, 7, 0, ..., 3, 6, 3]])"
      ]
     },
     "metadata": {},
     "output_type": "display_data"
    }
   ],
   "source": [
    "x_train, x_test, y_train, y_test = train_test_split(np.array(df.iloc[:, 1:]), np.array(df[['label']]), test_size = .4)\n",
    "x_train, x_test, y_train, y_test = x_train.T, x_test.T, y_train.T, y_test.T \n",
    "pixels = df.shape[1] - 1\n",
    "display(x_train[:, 0].shape, len(x_test[0]), x_train, y_train, y_test) # check configs\n",
    "# n_xtrain (rows of pixels) = 784, m_xtrain (columns of items) = train/split"
   ]
  },
  {
   "cell_type": "markdown",
   "id": "0e6bf201",
   "metadata": {
    "papermill": {
     "duration": 0.007004,
     "end_time": "2025-02-09T05:30:43.565991",
     "exception": false,
     "start_time": "2025-02-09T05:30:43.558987",
     "status": "completed"
    },
    "tags": []
   },
   "source": [
    "Above, we see that y_train is actually an array inside an array, we will fix that below:"
   ]
  },
  {
   "cell_type": "code",
   "execution_count": 5,
   "id": "94bc66e7",
   "metadata": {
    "execution": {
     "iopub.execute_input": "2025-02-09T05:30:43.580893Z",
     "iopub.status.busy": "2025-02-09T05:30:43.580540Z",
     "iopub.status.idle": "2025-02-09T05:30:43.587079Z",
     "shell.execute_reply": "2025-02-09T05:30:43.586023Z"
    },
    "papermill": {
     "duration": 0.015988,
     "end_time": "2025-02-09T05:30:43.588800",
     "exception": false,
     "start_time": "2025-02-09T05:30:43.572812",
     "status": "completed"
    },
    "tags": []
   },
   "outputs": [
    {
     "data": {
      "text/plain": [
       "(array([5, 8, 3, ..., 3, 6, 6]), array([0, 7, 0, ..., 3, 6, 3]))"
      ]
     },
     "execution_count": 5,
     "metadata": {},
     "output_type": "execute_result"
    }
   ],
   "source": [
    "y_train, y_test = y_train[0], y_test[0]\n",
    "y_train, y_test"
   ]
  },
  {
   "cell_type": "markdown",
   "id": "d7bb1126",
   "metadata": {
    "papermill": {
     "duration": 0.006479,
     "end_time": "2025-02-09T05:30:43.602292",
     "exception": false,
     "start_time": "2025-02-09T05:30:43.595813",
     "status": "completed"
    },
    "tags": []
   },
   "source": [
    "We also want the RGB values to be scaled from 0-1 so I will divide all training and test X values (the pixels) by 255. Without it some \"gradient explosion\" will happen. "
   ]
  },
  {
   "cell_type": "code",
   "execution_count": 6,
   "id": "9593bdf4",
   "metadata": {
    "execution": {
     "iopub.execute_input": "2025-02-09T05:30:43.617095Z",
     "iopub.status.busy": "2025-02-09T05:30:43.616738Z",
     "iopub.status.idle": "2025-02-09T05:30:43.769573Z",
     "shell.execute_reply": "2025-02-09T05:30:43.768346Z"
    },
    "papermill": {
     "duration": 0.163018,
     "end_time": "2025-02-09T05:30:43.772020",
     "exception": false,
     "start_time": "2025-02-09T05:30:43.609002",
     "status": "completed"
    },
    "tags": []
   },
   "outputs": [
    {
     "data": {
      "text/plain": [
       "(array([[0., 0., 0., ..., 0., 0., 0.],\n",
       "        [0., 0., 0., ..., 0., 0., 0.],\n",
       "        [0., 0., 0., ..., 0., 0., 0.],\n",
       "        ...,\n",
       "        [0., 0., 0., ..., 0., 0., 0.],\n",
       "        [0., 0., 0., ..., 0., 0., 0.],\n",
       "        [0., 0., 0., ..., 0., 0., 0.]]),\n",
       " (784, 16800))"
      ]
     },
     "execution_count": 6,
     "metadata": {},
     "output_type": "execute_result"
    }
   ],
   "source": [
    "x_train, x_test = x_train / 255, x_test / 255\n",
    "x_train, x_test.shape"
   ]
  },
  {
   "cell_type": "markdown",
   "id": "497e1175",
   "metadata": {
    "papermill": {
     "duration": 0.007355,
     "end_time": "2025-02-09T05:30:43.787438",
     "exception": false,
     "start_time": "2025-02-09T05:30:43.780083",
     "status": "completed"
    },
    "tags": []
   },
   "source": [
    "**Note**: Basically we want to make the train set an nxm matrix so we can left multiply it by a weight matrix to move from Rm -> R10 (10 is an arbitrary number for the first layer but makes computation easier). This will help to compute a linear combination with the weights and nodes "
   ]
  },
  {
   "cell_type": "markdown",
   "id": "1d411bf4",
   "metadata": {
    "papermill": {
     "duration": 0.006717,
     "end_time": "2025-02-09T05:30:43.801279",
     "exception": false,
     "start_time": "2025-02-09T05:30:43.794562",
     "status": "completed"
    },
    "tags": []
   },
   "source": [
    "# Initialization and Propagation: \n",
    "1. creating a random array of weights, W1, W2\n",
    "2. creating a random array of biases, b1, b2\n",
    "3. arrays for each layer:\n",
    "    * input layer\n",
    "    * first reLU layer (a function applied to each node)\n",
    "    * second output layer (which will also have a softmax to find a probability distribution of numbers)\n",
    "4. Make forward and backwards propagation. \n",
    "\n",
    "We are also going to start with random weights and biases. Below is a diagram in LaTeX explaining the matrix multiplcation **for a single picture**, where matrix $B$ is our input layer tranposed multiplied by our $A$ matrix, and the biases being added as matrix $C$. The result will be a $10 * m$ matrix, where $m$ is the number of training pictures.\n",
    "\n"
   ]
  },
  {
   "cell_type": "markdown",
   "id": "9db4dbe5",
   "metadata": {
    "papermill": {
     "duration": 0.008654,
     "end_time": "2025-02-09T05:30:43.817600",
     "exception": false,
     "start_time": "2025-02-09T05:30:43.808946",
     "status": "completed"
    },
    "tags": []
   },
   "source": [
    "\n",
    "\n",
    "$$\\begin{bmatrix}\n",
    "a_{11} & a_{12} & \\cdots & a_{1,784} \\\\\n",
    "a_{21} & a_{22} & \\cdots & a_{2,784} \\\\\n",
    "\\vdots & \\vdots & \\ddots & \\vdots \\\\\n",
    "a_{10,1} & a_{10,2} & \\cdots & a_{10,784}\n",
    "\\end{bmatrix}\n",
    "\\times\n",
    "\\begin{bmatrix}\n",
    "b_{11} & b_{12} & \\cdots & b_{1m} \\\\\n",
    "b_{21} & b_{22} & \\cdots & b_{2m} \\\\\n",
    "\\vdots & \\vdots & \\ddots & \\vdots \\\\\n",
    "b_{784,1} & b_{784,2} & \\cdots & b_{784,m}\n",
    "\\end{bmatrix}\n",
    "+\n",
    "\\begin{bmatrix}\n",
    "c_{11} & c_{12} & \\cdots & c_{1m} \\\\\n",
    "c_{21} & c_{22} & \\cdots & c_{2m} \\\\\n",
    "\\vdots & \\vdots & \\ddots & \\vdots \\\\\n",
    "c_{10,1} & c_{10,2} & \\cdots & c_{10,m}\n",
    "\\end{bmatrix}\n",
    "$$\n"
   ]
  },
  {
   "cell_type": "markdown",
   "id": "e10ac1a6",
   "metadata": {
    "papermill": {
     "duration": 0.007485,
     "end_time": "2025-02-09T05:30:43.832744",
     "exception": false,
     "start_time": "2025-02-09T05:30:43.825259",
     "status": "completed"
    },
    "tags": []
   },
   "source": [
    "Here are the softmax function and ReLU function definitions:\n",
    "\n",
    "$\n",
    "\\text{softmax}(z_i) = \\frac{e^{z_i}}{\\sum_{j=1}^n e^{z_j}}\n",
    "$\n",
    "\n",
    "where $z_i$ is the i-th element of the input vector z. The softmax function will apply this to each $z_i$.\n",
    "\n",
    "The softmax function is applied independently to each column of $z$. For a single column (logits for one image), softmax computes that equation.\n",
    "\n",
    "$\n",
    "\\text{ReLU}(x) = \\max(0, x)\n",
    "$\n"
   ]
  },
  {
   "cell_type": "code",
   "execution_count": 7,
   "id": "16599caf",
   "metadata": {
    "execution": {
     "iopub.execute_input": "2025-02-09T05:30:43.849759Z",
     "iopub.status.busy": "2025-02-09T05:30:43.849342Z",
     "iopub.status.idle": "2025-02-09T05:30:43.856153Z",
     "shell.execute_reply": "2025-02-09T05:30:43.854959Z"
    },
    "papermill": {
     "duration": 0.017373,
     "end_time": "2025-02-09T05:30:43.857982",
     "exception": false,
     "start_time": "2025-02-09T05:30:43.840609",
     "status": "completed"
    },
    "tags": []
   },
   "outputs": [],
   "source": [
    "def init_parameters(): \n",
    "    # populate a 10 x 784 matrix with random numbers, W1 is weight for first layer\n",
    "    W1 = np.random.rand(10, pixels) -0.5\n",
    "    # continue with biases, which should be a 10x1 vector, which we will broadcast\n",
    "    # 10x1 -> 10xm so we can add the dot product + b\n",
    "    b1 = np.random.rand(10, 1) - 0.5\n",
    "    # second layer weights and biases\n",
    "    W2 = np.random.rand(10, 10) - 0.5\n",
    "    b2 = np.random.rand(10, 1) - 0.5\n",
    "    # we ensure that the weights are centered around 0, instead of 0.5\n",
    "    # we want some negative weights as well so that is why\n",
    "    return W1, b1, W2, b2\n",
    "    \n",
    "def ReLU(Z): # return the same sized matrix, applied reLU\n",
    "    return np.maximum(0,Z)\n",
    "    \n",
    "def SoftMax(Z): # input: 10 x m matrix\n",
    "    # for numerical stability, we can add something to catch nan-values\n",
    "    A = np.exp(Z) / sum(np.exp(Z))\n",
    "    return A\n",
    "\n",
    "    # 1. np.exp(Z) applied to every element in Z \n",
    "    # 2. np.sum(np.exp(Z)) sums all the values of Z from exp, scalar\n",
    "    # 3. All elements are normalized, result = 10 x m, for each training result\n",
    "def forward_propagation(W1, b1, W2, b2, X): # X is the initial input matrix\n",
    "    # Z1 will be the resulting matrix from matrix multiplication\n",
    "    Z1 = W1.dot(X) + b1 \n",
    "    # apply reLU to change from linear combination -> non-linear function\n",
    "    A1 = ReLU(Z1)\n",
    "    Z2 = W2.dot(A1) + b2 # 10 x m\n",
    "    A2 = SoftMax(Z2) # predictions\n",
    "    # return values to update in backpropgation\n",
    "    return Z1, A1, Z2, A2"
   ]
  },
  {
   "cell_type": "markdown",
   "id": "f6e08bac",
   "metadata": {
    "papermill": {
     "duration": 0.0096,
     "end_time": "2025-02-09T05:30:43.879563",
     "exception": false,
     "start_time": "2025-02-09T05:30:43.869963",
     "status": "completed"
    },
    "tags": []
   },
   "source": [
    "## Back Propagation and Updating Weights\n",
    "We will now be writing the backpropagation part: \n",
    "1. We need to write one hot, defined as Y (which is the vector equivalent of what the \"actual\" value is). This will help determine the cost \n",
    "2. Calculate how much each layer contributes to the cost function via partial derivatives:\n",
    "   * dZ is the error of each of the columns (not the cost). This is written as the partial derivative of the cost with respect to the activation (second layer being soft-max and first layer being ReLU).\n",
    "   *  dW is the change in cost with respect to the weights. \n",
    "   *  dB is the change in cost with respect to the biases.<br>\n",
    " For a softmax classifier, we'll use a cross-entropy loss function, which will basically come out to dZ if you take the derivative with respect to activation:\n",
    "\n",
    "$$J(\\hat{y}, y) = -\\sum_{i=0}^{c} y_i \\log(\\hat{y}_i)$$\n",
    "\n",
    "For the entire math behind what dz is, here is a forum: https://community.deeplearning.ai/t/calculating-gradient-of-softmax-function/1897\n",
    "\n",
    "Here are the equations if the neural network was linked by one node at a time. z in this case is the the result of the linear combination of the weights + bias not related to \"activation\" ([3B1B's explanation](https://www.youtube.com/watch?v=Ilg3gGewQ5U&list=PLZHQObOWTQDNU6R1_67000Dx_ZCJB-3pi&index=3))\n",
    ":\n",
    "\n",
    "$\\frac{\\partial C_0}{\\partial w^{(L)}} = \\frac{\\partial z^{(L)}}{\\partial w^{(L)}} \\frac{\\partial a^{(L)}}{\\partial z^{(L)}} \\frac{\\partial C_0}{\\partial a^{(L)}}$\n",
    "\n",
    "$z^{(L)} = w^{(L)} a^{(L-1)} + b^{(L)}$ <br>\n",
    "$a^{(L)} = \\sigma(z^{(L)})$ <br>\n",
    "$C^{(0)} = a^{(L)} - y$\n",
    "\n",
    "Notice how the new layer is based off activation result of the previous layer, this can be also translated into matricies in code you will see below.  \n",
    "\n",
    "By terrible convention, these names dZ, dB, and dW are equal to the following in 3b1b language: \n",
    "\n",
    "$dZ = \\frac{\\partial C_0}{\\partial a^{(L)}}$,\n",
    "$dB = \\frac{\\partial C_0}{\\partial b^{(L)}}$,\n",
    "$dW = \\frac{\\partial C_0}{\\partial w^{(L)}}$,\n",
    "\n",
    "\n",
    "3. Using these equations, we can compute a gradient, which for each layer is a vector that tells us the mangitutde of the effect (cost) of each partial derivative (fancy wording for what we just had above).\n",
    "   \n",
    "4. We will then adjust our weights by subtracting each layer's weights by their specific dW, each layer's biases by their dB. We cannot specifically change the previous layer's (L-1) activation, but used it in helping compute each dW and dB. Here's what it will look like:\n",
    "\n",
    "    $w^{(1)} = w^{(1)} - a * dw^{(1)}$<br>\n",
    "    $b^{(1)} = b^{(1)} - a * db^{(1)}$<br>\n",
    "   $w^{(2)} = w^{(2)} - a * dw^{(2)}$<br>\n",
    "    $b^{(2)} = w^{(2)} - a * db^{(2)}$<br>\n",
    "\n",
    "This is how gradient descent will work, as dw and db will converge to 0 through **minimizing the cost** with respect to all its partial derivitives. Alpha is the learning rate (a)\n",
    "\n",
    "\n",
    "\n",
    "* After all these initialization steps, we will be able to run our own neural network by repitition. "
   ]
  },
  {
   "cell_type": "code",
   "execution_count": 8,
   "id": "30058c4e",
   "metadata": {
    "execution": {
     "iopub.execute_input": "2025-02-09T05:30:43.896194Z",
     "iopub.status.busy": "2025-02-09T05:30:43.895831Z",
     "iopub.status.idle": "2025-02-09T05:30:43.904334Z",
     "shell.execute_reply": "2025-02-09T05:30:43.903119Z"
    },
    "papermill": {
     "duration": 0.019286,
     "end_time": "2025-02-09T05:30:43.906461",
     "exception": false,
     "start_time": "2025-02-09T05:30:43.887175",
     "status": "completed"
    },
    "tags": []
   },
   "outputs": [],
   "source": [
    "def one_hot(Y): # input: the example labels, output: all the one hot Y's\n",
    "    one_hot_Y = np.zeros((Y.size, Y.max() + 1)) \n",
    "    # (#examples, 0-9 *10), we will take transpose later\n",
    "    \n",
    "    one_hot_Y[np.arange(Y.size), Y] = 1\n",
    "    # basically you can put arrays inside index selection in 2d arrays, which is super neat\n",
    "    # this looks like one_hot_Y[(0 - 784 pixels), (4,5,1,2,4... to m images)]\n",
    "    return one_hot_Y.T\n",
    "    \n",
    "def derivative_ReLU(Z): \n",
    "    return Z > 0 # boolean matrix works since True = 1\n",
    "    \n",
    "def back_propagation(Z1, A1, Z2, A2, W2, X, Y): # figuring out partial derivatives\n",
    "    # Z1, Z2 = result of a linear combination of weights + biases\n",
    "    # A1, A2, = result of activation being called on Z1, Z2\n",
    "    # X = training input, Y = ouput results\n",
    "    # reminder that Z1 - A2 are all 10 x m matricies and will broadcast Y.\n",
    "    m, _ = df.shape # number examples\n",
    "    \n",
    "    dZ2 = A2 - one_hot(Y) \n",
    "    # dZ2 = partial d of the change in cost in terms of soft-max activation\n",
    "    # Note this equation is based off of the error because it is the last layer\n",
    "  \n",
    "    dW2 = 1/m * dZ2.dot(A1.T)\n",
    "    # partial d of the second layer costs to weights\n",
    "    # 1/m is applied to every value and is not part of the p derivative\n",
    "    # transpose ensures that matrix multiplication exists\n",
    "   \n",
    "    dB2 = 1/m * np.sum(dZ2, axis = 1, keepdims = True)\n",
    "    # collapses all rows into 10 x m -> 10 x 1, \n",
    "    # partial d of the second layer costs to biases \n",
    "    # also has 1/m applied since this matrix is applied to all training examples\n",
    "    \n",
    "    dZ1 = W2.T.dot(dZ2) * derivative_ReLU(Z1)\n",
    "    # the W2.T activation transpose serves to \"go backwards\" in a sense\n",
    "    # mathmatical proof will for all calculations will be linked below.\n",
    "\n",
    "    dW1 = 1/m * dZ1.dot(X.T)\n",
    "    dB1 = 1/m * np.sum(dZ1, axis = 1, keepdims = True)\n",
    "    # these are actually the same formula as before due to the chain rule !\n",
    "    return dW1, dB1, dW2, dB2 \n",
    "\n",
    "def adjust_parameters(W1, b1, W2, b2, dW1, db1, dW2, db2, alpha): \n",
    "    W1 = W1 - alpha * dW1\n",
    "    b1 = b1 - alpha * db1    \n",
    "    W2 = W2 - alpha * dW2  \n",
    "    b2 = b2 - alpha * db2   \n",
    "    return W1, b1, W2, b2"
   ]
  },
  {
   "cell_type": "markdown",
   "id": "312a14bb",
   "metadata": {
    "papermill": {
     "duration": 0.006843,
     "end_time": "2025-02-09T05:30:43.921046",
     "exception": false,
     "start_time": "2025-02-09T05:30:43.914203",
     "status": "completed"
    },
    "tags": []
   },
   "source": [
    "# Training / Testing the Neural Network\n",
    "We will now be implmeneting the training functionality of the network and test for its accuracy. With gradient descent, the idea is to forward -> backward propagate -> adjust parameters (weights and biases) and then do it again with those new weights and biases. "
   ]
  },
  {
   "cell_type": "code",
   "execution_count": 9,
   "id": "93e20897",
   "metadata": {
    "execution": {
     "iopub.execute_input": "2025-02-09T05:30:43.937185Z",
     "iopub.status.busy": "2025-02-09T05:30:43.936808Z",
     "iopub.status.idle": "2025-02-09T05:31:09.001281Z",
     "shell.execute_reply": "2025-02-09T05:31:09.000186Z"
    },
    "papermill": {
     "duration": 25.074397,
     "end_time": "2025-02-09T05:31:09.003122",
     "exception": false,
     "start_time": "2025-02-09T05:30:43.928725",
     "status": "completed"
    },
    "tags": []
   },
   "outputs": [
    {
     "name": "stdout",
     "output_type": "stream",
     "text": [
      "[3 3 8 ... 8 0 3] [5 8 3 ... 3 6 6]\n",
      "Iteration 1 : 0.0801984126984127\n",
      "[3 3 2 ... 7 7 7] [5 8 3 ... 3 6 6]\n",
      "Iteration 20 : 0.16182539682539682\n",
      "[3 3 3 ... 3 7 7] [5 8 3 ... 3 6 6]\n",
      "Iteration 40 : 0.32575396825396824\n",
      "[3 5 3 ... 3 7 6] [5 8 3 ... 3 6 6]\n",
      "Iteration 60 : 0.40075396825396825\n",
      "[6 5 3 ... 3 6 6] [5 8 3 ... 3 6 6]\n",
      "Iteration 80 : 0.45436507936507936\n",
      "[6 5 3 ... 3 6 6] [5 8 3 ... 3 6 6]\n",
      "Iteration 100 : 0.49964285714285717\n",
      "[3 5 3 ... 3 6 6] [5 8 3 ... 3 6 6]\n",
      "Iteration 120 : 0.536547619047619\n",
      "[3 5 3 ... 3 6 6] [5 8 3 ... 3 6 6]\n",
      "Iteration 140 : 0.5673015873015873\n",
      "[3 5 3 ... 3 6 6] [5 8 3 ... 3 6 6]\n",
      "Iteration 160 : 0.5957936507936508\n",
      "[3 8 3 ... 3 6 6] [5 8 3 ... 3 6 6]\n",
      "Iteration 180 : 0.6236507936507937\n",
      "[3 8 3 ... 3 6 6] [5 8 3 ... 3 6 6]\n",
      "Iteration 200 : 0.6457142857142857\n",
      "[3 8 3 ... 3 6 6] [5 8 3 ... 3 6 6]\n",
      "Iteration 220 : 0.6634126984126985\n",
      "[5 8 3 ... 3 6 6] [5 8 3 ... 3 6 6]\n",
      "Iteration 240 : 0.6807539682539683\n",
      "[5 8 3 ... 3 6 6] [5 8 3 ... 3 6 6]\n",
      "Iteration 260 : 0.6953571428571429\n",
      "[5 8 3 ... 3 6 6] [5 8 3 ... 3 6 6]\n",
      "Iteration 280 : 0.7073412698412699\n",
      "[5 8 3 ... 3 6 6] [5 8 3 ... 3 6 6]\n",
      "Iteration 300 : 0.7190873015873016\n",
      "[5 8 3 ... 3 6 6] [5 8 3 ... 3 6 6]\n",
      "Iteration 320 : 0.729047619047619\n",
      "[5 8 3 ... 3 6 6] [5 8 3 ... 3 6 6]\n",
      "Iteration 340 : 0.7382142857142857\n",
      "[5 8 3 ... 3 6 6] [5 8 3 ... 3 6 6]\n",
      "Iteration 360 : 0.7453571428571428\n",
      "[5 8 3 ... 3 6 6] [5 8 3 ... 3 6 6]\n",
      "Iteration 380 : 0.753015873015873\n",
      "[5 8 3 ... 3 6 6] [5 8 3 ... 3 6 6]\n",
      "Iteration 400 : 0.7591666666666667\n",
      "[5 8 3 ... 3 6 6] [5 8 3 ... 3 6 6]\n",
      "Iteration 420 : 0.765436507936508\n",
      "[5 8 3 ... 3 6 6] [5 8 3 ... 3 6 6]\n",
      "Iteration 440 : 0.77\n",
      "[5 8 3 ... 3 6 6] [5 8 3 ... 3 6 6]\n",
      "Iteration 460 : 0.7751587301587302\n",
      "[5 8 3 ... 3 6 6] [5 8 3 ... 3 6 6]\n",
      "Iteration 480 : 0.7796825396825396\n",
      "[5 8 3 ... 3 6 6] [5 8 3 ... 3 6 6]\n",
      "Iteration 500 : 0.7842857142857143\n"
     ]
    },
    {
     "data": {
      "image/png": "[encoded data removed]",
      "text/plain": [
       "<Figure size 640x480 with 1 Axes>"
      ]
     },
     "metadata": {},
     "output_type": "display_data"
    }
   ],
   "source": [
    "def get_predictions(A2):\n",
    "    return np.argmax(A2, axis = 0) \n",
    "    # argmax for a 10 x m matrix (A2, result of SoftMax)\n",
    "    # this converts our Softmax probability distribution into predictions\n",
    "    # using axis 0, we look at the maximum of each column and return the **INDEX**, which is 0 based.\n",
    "   \n",
    "def accuracy(predictions, Y):\n",
    "    print(predictions, Y)\n",
    "    return np.sum(predictions == Y) / Y.size\n",
    "    # thank you Data 8 for encoding this formula into my head\n",
    "\n",
    "def train_gradient_descent(X, Y, alpha, iterations):\n",
    "    W1, b1, W2, b2 = init_parameters()\n",
    "    accuracy_arr = []\n",
    "    #print(\"init: \", W1, b1, W2, b2)\n",
    "    for i in range(1, iterations+1): \n",
    "        Z1, A1, Z2, A2 = forward_propagation(W1, b1, W2, b2, X)\n",
    "        #print(\"forward: \", Z1, A1, Z2, A2) *testing\n",
    "        #print(A2.shape)\n",
    "        dW1, db1, dW2, db2  = back_propagation(Z1, A1, Z2, A2, W2, X, Y)\n",
    "        #print(\"back: \", dW1, db1, dW2, db2)\n",
    "        W1, b1, W2, b2 = adjust_parameters(W1, b1, W2, b2, dW1, db1, dW2, db2, alpha)\n",
    "        #print(\"adj: \", W1, b1, W2, b2)\n",
    "        \n",
    "        if i % 20 == 0 or i == 1: \n",
    "            predictions = get_predictions(A2)\n",
    "            acc = accuracy(predictions, Y)\n",
    "            print(f\"Iteration {i} : {acc}\")\n",
    "            accuracy_arr.append(acc)\n",
    "            \n",
    "    # plot accuracy over iterations \n",
    "    plt.plot(np.arange(0,iterations + 1, 20), np.array(accuracy_arr) * 100)\n",
    "    plt.xlabel(\"Number of Iterations\")\n",
    "    plt.ylabel(\"Accuracy\")\n",
    "    plt.title(\"Accuracy Over Number of Backpropagations\")\n",
    "    return W1, b1, W2, b2,\n",
    "\n",
    "W1, b1, W2, b2 = train_gradient_descent(x_train, y_train, 0.15, 500)\n"
   ]
  },
  {
   "cell_type": "markdown",
   "id": "3b834ae6",
   "metadata": {
    "papermill": {
     "duration": 0.008659,
     "end_time": "2025-02-09T05:31:09.021187",
     "exception": false,
     "start_time": "2025-02-09T05:31:09.012528",
     "status": "completed"
    },
    "tags": []
   },
   "source": [
    "Accuracy of ~80-81% for 500 iterations at a learning rate of 15%"
   ]
  },
  {
   "cell_type": "markdown",
   "id": "0f0fc770",
   "metadata": {
    "papermill": {
     "duration": 0.009521,
     "end_time": "2025-02-09T05:31:09.039818",
     "exception": false,
     "start_time": "2025-02-09T05:31:09.030297",
     "status": "completed"
    },
    "tags": []
   },
   "source": [
    "# Results with Testing: \n",
    "Now I will write a method to get the single prediction for any image, so that we can see some results by plotting. "
   ]
  },
  {
   "cell_type": "code",
   "execution_count": 10,
   "id": "48e41368",
   "metadata": {
    "execution": {
     "iopub.execute_input": "2025-02-09T05:31:09.059719Z",
     "iopub.status.busy": "2025-02-09T05:31:09.059305Z",
     "iopub.status.idle": "2025-02-09T05:31:09.081846Z",
     "shell.execute_reply": "2025-02-09T05:31:09.080761Z"
    },
    "papermill": {
     "duration": 0.035,
     "end_time": "2025-02-09T05:31:09.083935",
     "exception": false,
     "start_time": "2025-02-09T05:31:09.048935",
     "status": "completed"
    },
    "tags": []
   },
   "outputs": [
    {
     "data": {
      "text/plain": [
       "0"
      ]
     },
     "execution_count": 10,
     "metadata": {},
     "output_type": "execute_result"
    }
   ],
   "source": [
    "def get_single_prediction(W1, b1, W2, b2, X, index): \n",
    "    _, _, _, A2 = forward_propagation(W1, b1, W2, b2, X)\n",
    "    predictions = get_predictions(A2)\n",
    "    # print(predictions)\n",
    "    return predictions[index]  \n",
    "p = get_single_prediction(W1, b1, W2, b2, x_test, 0) # this should return 5 as the predicted value    \n",
    "p"
   ]
  },
  {
   "cell_type": "markdown",
   "id": "f0e3edb8",
   "metadata": {
    "papermill": {
     "duration": 0.008921,
     "end_time": "2025-02-09T05:31:09.102698",
     "exception": false,
     "start_time": "2025-02-09T05:31:09.093777",
     "status": "completed"
    },
    "tags": []
   },
   "source": [
    "I'm gonna now going to convert our x_test, y_test (pixels and labels) into numpy arrays, then display some examples using matplotlib. "
   ]
  },
  {
   "cell_type": "code",
   "execution_count": 11,
   "id": "18ec9f2a",
   "metadata": {
    "execution": {
     "iopub.execute_input": "2025-02-09T05:31:09.122347Z",
     "iopub.status.busy": "2025-02-09T05:31:09.121976Z",
     "iopub.status.idle": "2025-02-09T05:31:09.327681Z",
     "shell.execute_reply": "2025-02-09T05:31:09.326444Z"
    },
    "papermill": {
     "duration": 0.217848,
     "end_time": "2025-02-09T05:31:09.329694",
     "exception": false,
     "start_time": "2025-02-09T05:31:09.111846",
     "status": "completed"
    },
    "tags": []
   },
   "outputs": [
    {
     "name": "stdout",
     "output_type": "stream",
     "text": [
      "Predicted: 0, Actual: 0\n"
     ]
    },
    {
     "data": {
      "image/png": "[encoded data removed]",
      "text/plain": [
       "<Figure size 640x480 with 1 Axes>"
      ]
     },
     "metadata": {},
     "output_type": "display_data"
    }
   ],
   "source": [
    "image_size = 28 # 28 x 28\n",
    "number_row = 0\n",
    "# the testing section is about 40% of the remaining data shuffled \n",
    "# forgot we actually transposed it before, so undo that by tranposing again\n",
    "def plot(image_size, number_row, x_test, y_test, p):\n",
    "    pixel_array = x_test.T[number_row] # pixel column as 1d array for the row chosen\n",
    "    pixel_matrix = pixel_array.reshape(image_size, image_size) #reshape into 28 x 28 matrix\n",
    "    print(f\"Predicted: {p}, Actual: {y_test[number_row]}\") # muah f strings \n",
    "    plt.imshow(pixel_matrix) # this is an image of the actual value \n",
    "\n",
    "plot(image_size, number_row, x_test, y_test, p)"
   ]
  },
  {
   "cell_type": "markdown",
   "id": "b36ffbf4",
   "metadata": {
    "papermill": {
     "duration": 0.009474,
     "end_time": "2025-02-09T05:31:09.350113",
     "exception": false,
     "start_time": "2025-02-09T05:31:09.340639",
     "status": "completed"
    },
    "tags": []
   },
   "source": [
    "Lets do a few more to see what the first 5 predictions look like "
   ]
  },
  {
   "cell_type": "code",
   "execution_count": 12,
   "id": "1bbd5ded",
   "metadata": {
    "execution": {
     "iopub.execute_input": "2025-02-09T05:31:09.371123Z",
     "iopub.status.busy": "2025-02-09T05:31:09.370778Z",
     "iopub.status.idle": "2025-02-09T05:31:09.582287Z",
     "shell.execute_reply": "2025-02-09T05:31:09.580949Z"
    },
    "papermill": {
     "duration": 0.225219,
     "end_time": "2025-02-09T05:31:09.584988",
     "exception": false,
     "start_time": "2025-02-09T05:31:09.359769",
     "status": "completed"
    },
    "tags": []
   },
   "outputs": [
    {
     "name": "stdout",
     "output_type": "stream",
     "text": [
      "Predicted: 7, Actual: 0\n"
     ]
    },
    {
     "data": {
      "image/png": "[encoded data removed]",
      "text/plain": [
       "<Figure size 640x480 with 1 Axes>"
      ]
     },
     "metadata": {},
     "output_type": "display_data"
    }
   ],
   "source": [
    "p = get_single_prediction(W1, b1, W2, b2, x_test, 1)\n",
    "plot(image_size, 2, x_test, y_test, p)"
   ]
  },
  {
   "cell_type": "code",
   "execution_count": 13,
   "id": "62f30aca",
   "metadata": {
    "execution": {
     "iopub.execute_input": "2025-02-09T05:31:09.608717Z",
     "iopub.status.busy": "2025-02-09T05:31:09.608237Z",
     "iopub.status.idle": "2025-02-09T05:31:09.856442Z",
     "shell.execute_reply": "2025-02-09T05:31:09.855281Z"
    },
    "papermill": {
     "duration": 0.261217,
     "end_time": "2025-02-09T05:31:09.858355",
     "exception": false,
     "start_time": "2025-02-09T05:31:09.597138",
     "status": "completed"
    },
    "tags": []
   },
   "outputs": [
    {
     "name": "stdout",
     "output_type": "stream",
     "text": [
      "Predicted: 0, Actual: 0\n"
     ]
    },
    {
     "data": {
      "image/png": "[encoded data removed]",
      "text/plain": [
       "<Figure size 640x480 with 1 Axes>"
      ]
     },
     "metadata": {},
     "output_type": "display_data"
    }
   ],
   "source": [
    "p = get_single_prediction(W1, b1, W2, b2, x_test, 2)\n",
    "plot(image_size, 2, x_test, y_test, p)"
   ]
  },
  {
   "cell_type": "code",
   "execution_count": 14,
   "id": "e0c73683",
   "metadata": {
    "_kg_hide-input": true,
    "execution": {
     "iopub.execute_input": "2025-02-09T05:31:09.882592Z",
     "iopub.status.busy": "2025-02-09T05:31:09.882138Z",
     "iopub.status.idle": "2025-02-09T05:31:10.104865Z",
     "shell.execute_reply": "2025-02-09T05:31:10.103685Z"
    },
    "papermill": {
     "duration": 0.237171,
     "end_time": "2025-02-09T05:31:10.106870",
     "exception": false,
     "start_time": "2025-02-09T05:31:09.869699",
     "status": "completed"
    },
    "tags": []
   },
   "outputs": [
    {
     "name": "stdout",
     "output_type": "stream",
     "text": [
      "Predicted: 7, Actual: 7\n"
     ]
    },
    {
     "data": {
      "image/png": "[encoded data removed]",
      "text/plain": [
       "<Figure size 640x480 with 1 Axes>"
      ]
     },
     "metadata": {},
     "output_type": "display_data"
    }
   ],
   "source": [
    "p = get_single_prediction(W1, b1, W2, b2, x_test, 3)\n",
    "plot(image_size, 3, x_test, y_test, p)"
   ]
  },
  {
   "cell_type": "code",
   "execution_count": 15,
   "id": "50896ee2",
   "metadata": {
    "execution": {
     "iopub.execute_input": "2025-02-09T05:31:10.129043Z",
     "iopub.status.busy": "2025-02-09T05:31:10.128702Z",
     "iopub.status.idle": "2025-02-09T05:31:10.365099Z",
     "shell.execute_reply": "2025-02-09T05:31:10.363913Z"
    },
    "papermill": {
     "duration": 0.249591,
     "end_time": "2025-02-09T05:31:10.366984",
     "exception": false,
     "start_time": "2025-02-09T05:31:10.117393",
     "status": "completed"
    },
    "tags": []
   },
   "outputs": [
    {
     "name": "stdout",
     "output_type": "stream",
     "text": [
      "Predicted: 8, Actual: 8\n"
     ]
    },
    {
     "data": {
      "image/png": "[encoded data removed]",
      "text/plain": [
       "<Figure size 640x480 with 1 Axes>"
      ]
     },
     "metadata": {},
     "output_type": "display_data"
    }
   ],
   "source": [
    "p = get_single_prediction(W1, b1, W2, b2, x_test, 4)\n",
    "plot(image_size, 4, x_test, y_test, p)"
   ]
  },
  {
   "cell_type": "code",
   "execution_count": 16,
   "id": "1798d0e8",
   "metadata": {
    "_kg_hide-input": true,
    "execution": {
     "iopub.execute_input": "2025-02-09T05:31:10.393096Z",
     "iopub.status.busy": "2025-02-09T05:31:10.392706Z",
     "iopub.status.idle": "2025-02-09T05:31:10.619665Z",
     "shell.execute_reply": "2025-02-09T05:31:10.618496Z"
    },
    "papermill": {
     "duration": 0.242048,
     "end_time": "2025-02-09T05:31:10.621322",
     "exception": false,
     "start_time": "2025-02-09T05:31:10.379274",
     "status": "completed"
    },
    "tags": []
   },
   "outputs": [
    {
     "name": "stdout",
     "output_type": "stream",
     "text": [
      "Predicted: 2, Actual: 2\n"
     ]
    },
    {
     "data": {
      "image/png": "[encoded data removed]",
      "text/plain": [
       "<Figure size 640x480 with 1 Axes>"
      ]
     },
     "metadata": {},
     "output_type": "display_data"
    }
   ],
   "source": [
    "p = get_single_prediction(W1, b1, W2, b2, x_test, 5)\n",
    "plot(image_size, 5, x_test, y_test, p)"
   ]
  },
  {
   "cell_type": "markdown",
   "id": "4c8608ca",
   "metadata": {
    "papermill": {
     "duration": 0.010631,
     "end_time": "2025-02-09T05:31:10.643150",
     "exception": false,
     "start_time": "2025-02-09T05:31:10.632519",
     "status": "completed"
    },
    "tags": []
   },
   "source": [
    "# Conclusion and Acknowledgements: \n",
    "For the derivations of the partial derivatives with respect to the matricies here are some useful videos:\n",
    "\n",
    "1. https://youtu.be/f-nW8cSa_Ec?si=3zQW1QK-63bRiUC7\n",
    "2. https://youtu.be/URJ9pP1aURo\n",
    "3. [3b1b's neural network playlist for singular nodes](https://www.youtube.com/watch?v=tIeHLnjs5U8&list=PLZHQObOWTQDNU6R1_67000Dx_ZCJB-3pi&index=4)\n"
   ]
  }
 ],
 "metadata": {
  "kaggle": {
   "accelerator": "none",
   "dataSources": [
    {
     "datasetId": 3147,
     "sourceId": 5196,
     "sourceType": "datasetVersion"
    },
    {
     "datasetId": 1396483,
     "sourceId": 2314159,
     "sourceType": "datasetVersion"
    }
   ],
   "dockerImageVersionId": 30839,
   "isGpuEnabled": false,
   "isInternetEnabled": false,
   "language": "python",
   "sourceType": "notebook"
  },
  "kernelspec": {
   "display_name": "Python 3",
   "language": "python",
   "name": "python3"
  },
  "language_info": {
   "codemirror_mode": {
    "name": "ipython",
    "version": 3
   },
   "file_extension": ".py",
   "mimetype": "text/x-python",
   "name": "python",
   "nbconvert_exporter": "python",
   "pygments_lexer": "ipython3",
   "version": "3.10.12"
  },
  "papermill": {
   "default_parameters": {},
   "duration": 38.098923,
   "end_time": "2025-02-09T05:31:11.477542",
   "environment_variables": {},
   "exception": null,
   "input_path": "__notebook__.ipynb",
   "output_path": "__notebook__.ipynb",
   "parameters": {},
   "start_time": "2025-02-09T05:30:33.378619",
   "version": "2.6.0"
  }
 },
 "nbformat": 4,
 "nbformat_minor": 5
}
