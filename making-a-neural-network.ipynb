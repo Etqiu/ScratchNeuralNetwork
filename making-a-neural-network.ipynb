{
 "cells": [
  {
   "cell_type": "markdown",
   "id": "dbe2ad84",
   "metadata": {
    "papermill": {
     "duration": 0.003342,
     "end_time": "2025-02-07T06:26:09.247656",
     "exception": false,
     "start_time": "2025-02-07T06:26:09.244314",
     "status": "completed"
    },
    "tags": []
   },
   "source": [
    "# Making A Neural Network From Scratch:\n",
    "\n",
    "**Goal**: To implement a neural network using only numPy that has a one hidden layer and one output layer. We can then train our neural network on the MNIST data-set, and test it to see our accuracy. "
   ]
  },
  {
   "cell_type": "code",
   "execution_count": 1,
   "id": "be47ffc2",
   "metadata": {
    "_cell_guid": "b1076dfc-b9ad-4769-8c92-a6c4dae69d19",
    "_uuid": "8f2839f25d086af736a60e9eeb907d3b93b6e0e5",
    "execution": {
     "iopub.execute_input": "2025-02-07T06:26:09.255054Z",
     "iopub.status.busy": "2025-02-07T06:26:09.254614Z",
     "iopub.status.idle": "2025-02-07T06:26:11.970241Z",
     "shell.execute_reply": "2025-02-07T06:26:11.968984Z"
    },
    "papermill": {
     "duration": 2.72133,
     "end_time": "2025-02-07T06:26:11.972166",
     "exception": false,
     "start_time": "2025-02-07T06:26:09.250836",
     "status": "completed"
    },
    "tags": []
   },
   "outputs": [
    {
     "name": "stdout",
     "output_type": "stream",
     "text": [
      "/kaggle/input/chinese-mnist-digit-recognizer/chineseMNIST.csv\n",
      "/kaggle/input/mnist-digit-recognizer/train.csv\n"
     ]
    }
   ],
   "source": [
    "# This Python 3 environment comes with many helpful analytics libraries installed\n",
    "# It is defined by the kaggle/python Docker image: https://github.com/kaggle/docker-python\n",
    "# For example, here's several helpful packages to load\n",
    "\n",
    "import numpy as np # linear algebra\n",
    "import pandas as pd # data processing, CSV file I/O (e.g. pd.read_csv)\n",
    "from matplotlib import pyplot as plt\n",
    "from sklearn.model_selection import train_test_split\n",
    "# Input data files are available in the read-only \"../input/\" directory\n",
    "# For example, running this (by clicking run or pressing Shift+Enter) will list all files under the input directory\n",
    "\n",
    "import os\n",
    "for dirname, _, filenames in os.walk('/kaggle/input'):\n",
    "    for filename in filenames:\n",
    "        print(os.path.join(dirname, filename))\n",
    "\n",
    "# You can write up to 20GB to the current directory (/kaggle/working/) that gets preserved as output when you create a version using \"Save & Run All\" \n",
    "# You can also write temporary files to /kaggle/temp/, but they won't be saved outside of the current session"
   ]
  },
  {
   "cell_type": "markdown",
   "id": "a444caca",
   "metadata": {
    "papermill": {
     "duration": 0.002701,
     "end_time": "2025-02-07T06:26:11.978036",
     "exception": false,
     "start_time": "2025-02-07T06:26:11.975335",
     "status": "completed"
    },
    "tags": []
   },
   "source": [
    "I'm going to first import the mnist digits in csv form, every row represents an image and every column, a pixel, with the first column being the label of the number."
   ]
  },
  {
   "cell_type": "code",
   "execution_count": 2,
   "id": "c3919e75",
   "metadata": {
    "execution": {
     "iopub.execute_input": "2025-02-07T06:26:11.985681Z",
     "iopub.status.busy": "2025-02-07T06:26:11.985120Z",
     "iopub.status.idle": "2025-02-07T06:26:15.871430Z",
     "shell.execute_reply": "2025-02-07T06:26:15.870394Z"
    },
    "papermill": {
     "duration": 3.892002,
     "end_time": "2025-02-07T06:26:15.873197",
     "exception": false,
     "start_time": "2025-02-07T06:26:11.981195",
     "status": "completed"
    },
    "tags": []
   },
   "outputs": [
    {
     "data": {
      "text/html": [
       "<div>\n",
       "<style scoped>\n",
       "    .dataframe tbody tr th:only-of-type {\n",
       "        vertical-align: middle;\n",
       "    }\n",
       "\n",
       "    .dataframe tbody tr th {\n",
       "        vertical-align: top;\n",
       "    }\n",
       "\n",
       "    .dataframe thead th {\n",
       "        text-align: right;\n",
       "    }\n",
       "</style>\n",
       "<table border=\"1\" class=\"dataframe\">\n",
       "  <thead>\n",
       "    <tr style=\"text-align: right;\">\n",
       "      <th></th>\n",
       "      <th>label</th>\n",
       "      <th>pixel0</th>\n",
       "      <th>pixel1</th>\n",
       "      <th>pixel2</th>\n",
       "      <th>pixel3</th>\n",
       "      <th>pixel4</th>\n",
       "      <th>pixel5</th>\n",
       "      <th>pixel6</th>\n",
       "      <th>pixel7</th>\n",
       "      <th>pixel8</th>\n",
       "      <th>...</th>\n",
       "      <th>pixel774</th>\n",
       "      <th>pixel775</th>\n",
       "      <th>pixel776</th>\n",
       "      <th>pixel777</th>\n",
       "      <th>pixel778</th>\n",
       "      <th>pixel779</th>\n",
       "      <th>pixel780</th>\n",
       "      <th>pixel781</th>\n",
       "      <th>pixel782</th>\n",
       "      <th>pixel783</th>\n",
       "    </tr>\n",
       "  </thead>\n",
       "  <tbody>\n",
       "    <tr>\n",
       "      <th>0</th>\n",
       "      <td>1</td>\n",
       "      <td>0</td>\n",
       "      <td>0</td>\n",
       "      <td>0</td>\n",
       "      <td>0</td>\n",
       "      <td>0</td>\n",
       "      <td>0</td>\n",
       "      <td>0</td>\n",
       "      <td>0</td>\n",
       "      <td>0</td>\n",
       "      <td>...</td>\n",
       "      <td>0</td>\n",
       "      <td>0</td>\n",
       "      <td>0</td>\n",
       "      <td>0</td>\n",
       "      <td>0</td>\n",
       "      <td>0</td>\n",
       "      <td>0</td>\n",
       "      <td>0</td>\n",
       "      <td>0</td>\n",
       "      <td>0</td>\n",
       "    </tr>\n",
       "    <tr>\n",
       "      <th>1</th>\n",
       "      <td>0</td>\n",
       "      <td>0</td>\n",
       "      <td>0</td>\n",
       "      <td>0</td>\n",
       "      <td>0</td>\n",
       "      <td>0</td>\n",
       "      <td>0</td>\n",
       "      <td>0</td>\n",
       "      <td>0</td>\n",
       "      <td>0</td>\n",
       "      <td>...</td>\n",
       "      <td>0</td>\n",
       "      <td>0</td>\n",
       "      <td>0</td>\n",
       "      <td>0</td>\n",
       "      <td>0</td>\n",
       "      <td>0</td>\n",
       "      <td>0</td>\n",
       "      <td>0</td>\n",
       "      <td>0</td>\n",
       "      <td>0</td>\n",
       "    </tr>\n",
       "    <tr>\n",
       "      <th>2</th>\n",
       "      <td>1</td>\n",
       "      <td>0</td>\n",
       "      <td>0</td>\n",
       "      <td>0</td>\n",
       "      <td>0</td>\n",
       "      <td>0</td>\n",
       "      <td>0</td>\n",
       "      <td>0</td>\n",
       "      <td>0</td>\n",
       "      <td>0</td>\n",
       "      <td>...</td>\n",
       "      <td>0</td>\n",
       "      <td>0</td>\n",
       "      <td>0</td>\n",
       "      <td>0</td>\n",
       "      <td>0</td>\n",
       "      <td>0</td>\n",
       "      <td>0</td>\n",
       "      <td>0</td>\n",
       "      <td>0</td>\n",
       "      <td>0</td>\n",
       "    </tr>\n",
       "    <tr>\n",
       "      <th>3</th>\n",
       "      <td>4</td>\n",
       "      <td>0</td>\n",
       "      <td>0</td>\n",
       "      <td>0</td>\n",
       "      <td>0</td>\n",
       "      <td>0</td>\n",
       "      <td>0</td>\n",
       "      <td>0</td>\n",
       "      <td>0</td>\n",
       "      <td>0</td>\n",
       "      <td>...</td>\n",
       "      <td>0</td>\n",
       "      <td>0</td>\n",
       "      <td>0</td>\n",
       "      <td>0</td>\n",
       "      <td>0</td>\n",
       "      <td>0</td>\n",
       "      <td>0</td>\n",
       "      <td>0</td>\n",
       "      <td>0</td>\n",
       "      <td>0</td>\n",
       "    </tr>\n",
       "    <tr>\n",
       "      <th>4</th>\n",
       "      <td>0</td>\n",
       "      <td>0</td>\n",
       "      <td>0</td>\n",
       "      <td>0</td>\n",
       "      <td>0</td>\n",
       "      <td>0</td>\n",
       "      <td>0</td>\n",
       "      <td>0</td>\n",
       "      <td>0</td>\n",
       "      <td>0</td>\n",
       "      <td>...</td>\n",
       "      <td>0</td>\n",
       "      <td>0</td>\n",
       "      <td>0</td>\n",
       "      <td>0</td>\n",
       "      <td>0</td>\n",
       "      <td>0</td>\n",
       "      <td>0</td>\n",
       "      <td>0</td>\n",
       "      <td>0</td>\n",
       "      <td>0</td>\n",
       "    </tr>\n",
       "  </tbody>\n",
       "</table>\n",
       "<p>5 rows × 785 columns</p>\n",
       "</div>"
      ],
      "text/plain": [
       "   label  pixel0  pixel1  pixel2  pixel3  pixel4  pixel5  pixel6  pixel7  \\\n",
       "0      1       0       0       0       0       0       0       0       0   \n",
       "1      0       0       0       0       0       0       0       0       0   \n",
       "2      1       0       0       0       0       0       0       0       0   \n",
       "3      4       0       0       0       0       0       0       0       0   \n",
       "4      0       0       0       0       0       0       0       0       0   \n",
       "\n",
       "   pixel8  ...  pixel774  pixel775  pixel776  pixel777  pixel778  pixel779  \\\n",
       "0       0  ...         0         0         0         0         0         0   \n",
       "1       0  ...         0         0         0         0         0         0   \n",
       "2       0  ...         0         0         0         0         0         0   \n",
       "3       0  ...         0         0         0         0         0         0   \n",
       "4       0  ...         0         0         0         0         0         0   \n",
       "\n",
       "   pixel780  pixel781  pixel782  pixel783  \n",
       "0         0         0         0         0  \n",
       "1         0         0         0         0  \n",
       "2         0         0         0         0  \n",
       "3         0         0         0         0  \n",
       "4         0         0         0         0  \n",
       "\n",
       "[5 rows x 785 columns]"
      ]
     },
     "execution_count": 2,
     "metadata": {},
     "output_type": "execute_result"
    }
   ],
   "source": [
    "df = pd.read_csv(\"/kaggle/input/mnist-digit-recognizer/train.csv\")\n",
    "df.head()"
   ]
  },
  {
   "cell_type": "code",
   "execution_count": 3,
   "id": "cc34c29c",
   "metadata": {
    "execution": {
     "iopub.execute_input": "2025-02-07T06:26:15.880840Z",
     "iopub.status.busy": "2025-02-07T06:26:15.880400Z",
     "iopub.status.idle": "2025-02-07T06:26:15.886703Z",
     "shell.execute_reply": "2025-02-07T06:26:15.885482Z"
    },
    "papermill": {
     "duration": 0.012038,
     "end_time": "2025-02-07T06:26:15.888431",
     "exception": false,
     "start_time": "2025-02-07T06:26:15.876393",
     "status": "completed"
    },
    "tags": []
   },
   "outputs": [
    {
     "data": {
      "text/plain": [
       "(42000, 785)"
      ]
     },
     "execution_count": 3,
     "metadata": {},
     "output_type": "execute_result"
    }
   ],
   "source": [
    "df.shape # rows show how many pictures there are in the csv "
   ]
  },
  {
   "cell_type": "markdown",
   "id": "7dada3d1",
   "metadata": {
    "papermill": {
     "duration": 0.002842,
     "end_time": "2025-02-07T06:26:15.894609",
     "exception": false,
     "start_time": "2025-02-07T06:26:15.891767",
     "status": "completed"
    },
    "tags": []
   },
   "source": [
    "We are going to convert this DataFrame into a np.array, and use test_train_split() by sklearn. Then we want to take the **tranpose** of each array so that each array is actually an individual picture (which will be one of the 784 nodes)."
   ]
  },
  {
   "cell_type": "code",
   "execution_count": 4,
   "id": "4fb9bab7",
   "metadata": {
    "execution": {
     "iopub.execute_input": "2025-02-07T06:26:15.902183Z",
     "iopub.status.busy": "2025-02-07T06:26:15.901710Z",
     "iopub.status.idle": "2025-02-07T06:26:16.492473Z",
     "shell.execute_reply": "2025-02-07T06:26:16.491533Z"
    },
    "papermill": {
     "duration": 0.596444,
     "end_time": "2025-02-07T06:26:16.494139",
     "exception": false,
     "start_time": "2025-02-07T06:26:15.897695",
     "status": "completed"
    },
    "tags": []
   },
   "outputs": [
    {
     "data": {
      "text/plain": [
       "(784,)"
      ]
     },
     "metadata": {},
     "output_type": "display_data"
    },
    {
     "data": {
      "text/plain": [
       "16800"
      ]
     },
     "metadata": {},
     "output_type": "display_data"
    },
    {
     "data": {
      "text/plain": [
       "array([[1, 5, 1, ..., 7, 1, 2]])"
      ]
     },
     "metadata": {},
     "output_type": "display_data"
    },
    {
     "data": {
      "text/plain": [
       "array([[1, 7, 5, ..., 5, 2, 3]])"
      ]
     },
     "metadata": {},
     "output_type": "display_data"
    }
   ],
   "source": [
    "x_train, x_test, y_train, y_test = train_test_split(np.array(df.iloc[:, 1:]), np.array(df[['label']]), test_size = .4)\n",
    "x_train, x_test, y_train, y_test = x_train.T, x_test.T, y_train.T, y_test.T \n",
    "display(x_train[:, 0].shape, len(x_test[0]), y_train, y_test) # check configs\n",
    "# n_xtrain (rows of pixels) = 784, m_xtrain (columns of items) = train/split"
   ]
  },
  {
   "cell_type": "markdown",
   "id": "f2a3b356",
   "metadata": {
    "papermill": {
     "duration": 0.003201,
     "end_time": "2025-02-07T06:26:16.501093",
     "exception": false,
     "start_time": "2025-02-07T06:26:16.497892",
     "status": "completed"
    },
    "tags": []
   },
   "source": [
    "**Note**: Basically we want to make the train set an nxm matrix so we can left multiply it by a weight matrix to move from Rm -> R10 (10 is an arbitrary number for the first layer but makes computation easier). This will help to compute a linear combination with the weights and nodes "
   ]
  },
  {
   "cell_type": "markdown",
   "id": "21ae5f15",
   "metadata": {
    "papermill": {
     "duration": 0.003194,
     "end_time": "2025-02-07T06:26:16.507925",
     "exception": false,
     "start_time": "2025-02-07T06:26:16.504731",
     "status": "completed"
    },
    "tags": []
   },
   "source": [
    "# Initialization: \n",
    "1. weights\n",
    "2. biases \n",
    "3. arrays for each layer:\n",
    "    * input layer\n",
    "    * first reLU layer (a function applied to each node)\n",
    "    * second output layer (which will also have a softmax to find a probability distribution of numbers) \n",
    "\n",
    "We are also going to start with random weights and biases."
   ]
  },
  {
   "cell_type": "code",
   "execution_count": 5,
   "id": "e020c1d0",
   "metadata": {
    "execution": {
     "iopub.execute_input": "2025-02-07T06:26:16.516025Z",
     "iopub.status.busy": "2025-02-07T06:26:16.515626Z",
     "iopub.status.idle": "2025-02-07T06:26:16.520179Z",
     "shell.execute_reply": "2025-02-07T06:26:16.519161Z"
    },
    "papermill": {
     "duration": 0.010378,
     "end_time": "2025-02-07T06:26:16.521772",
     "exception": false,
     "start_time": "2025-02-07T06:26:16.511394",
     "status": "completed"
    },
    "tags": []
   },
   "outputs": [],
   "source": [
    "def init_params(): \n",
    "    # populate a 10 x 784 matrix with random numbers, W1 is weight for first layer\n",
    "    W1 = np.random.rand(10, 784) \n",
    "    # continue with biases, which is actually \n",
    "    b1 = np.random.rand()\n",
    "        "
   ]
  }
 ],
 "metadata": {
  "kaggle": {
   "accelerator": "none",
   "dataSources": [
    {
     "datasetId": 3147,
     "sourceId": 5196,
     "sourceType": "datasetVersion"
    },
    {
     "datasetId": 1396483,
     "sourceId": 2314159,
     "sourceType": "datasetVersion"
    }
   ],
   "dockerImageVersionId": 30839,
   "isGpuEnabled": false,
   "isInternetEnabled": false,
   "language": "python",
   "sourceType": "notebook"
  },
  "kernelspec": {
   "display_name": "Python 3",
   "language": "python",
   "name": "python3"
  },
  "language_info": {
   "codemirror_mode": {
    "name": "ipython",
    "version": 3
   },
   "file_extension": ".py",
   "mimetype": "text/x-python",
   "name": "python",
   "nbconvert_exporter": "python",
   "pygments_lexer": "ipython3",
   "version": "3.10.12"
  },
  "papermill": {
   "default_parameters": {},
   "duration": 11.052998,
   "end_time": "2025-02-07T06:26:17.250446",
   "environment_variables": {},
   "exception": null,
   "input_path": "__notebook__.ipynb",
   "output_path": "__notebook__.ipynb",
   "parameters": {},
   "start_time": "2025-02-07T06:26:06.197448",
   "version": "2.6.0"
  }
 },
 "nbformat": 4,
 "nbformat_minor": 5
}
